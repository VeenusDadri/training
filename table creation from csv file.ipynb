{
 "cells": [
  {
   "cell_type": "markdown",
   "metadata": {
    "application/vnd.databricks.v1+cell": {
     "cellMetadata": {
      "byteLimit": 2048000,
      "rowLimit": 10000
     },
     "inputWidgets": {},
     "nuid": "96816ed7-b08a-4ca3-abb9-f99880c3535d",
     "showTitle": false,
     "tableResultSettingsMap": {},
     "title": ""
    }
   },
   "source": [
    "\n",
    "## Overview\n",
    "\n",
    "This notebook will show you how to create and query a table or DataFrame that you uploaded to DBFS. [DBFS](https://docs.databricks.com/user-guide/dbfs-databricks-file-system.html) is a Databricks File System that allows you to store data for querying inside of Databricks. This notebook assumes that you have a file already inside of DBFS that you would like to read from.\n",
    "\n",
    "This notebook is written in **Python** so the default cell type is Python. However, you can use different languages by using the `%LANGUAGE` syntax. Python, Scala, SQL, and R are all supported."
   ]
  },
  {
   "cell_type": "code",
   "execution_count": 0,
   "metadata": {
    "application/vnd.databricks.v1+cell": {
     "cellMetadata": {
      "byteLimit": 2048000,
      "rowLimit": 10000
     },
     "inputWidgets": {},
     "nuid": "6482be4c-f067-47c9-b0ac-35c938b94601",
     "showTitle": false,
     "tableResultSettingsMap": {},
     "title": ""
    }
   },
   "outputs": [
    {
     "output_type": "display_data",
     "data": {
      "text/html": [
       "<style scoped>\n",
       "  .table-result-container {\n",
       "    max-height: 300px;\n",
       "    overflow: auto;\n",
       "  }\n",
       "  table, th, td {\n",
       "    border: 1px solid black;\n",
       "    border-collapse: collapse;\n",
       "  }\n",
       "  th, td {\n",
       "    padding: 5px;\n",
       "  }\n",
       "  th {\n",
       "    text-align: left;\n",
       "  }\n",
       "</style><div class='table-result-container'><table class='table-result'><thead style='background-color: white'><tr><th>employee_id</th><th>department_id</th><th>name</th><th>age</th><th>gender</th><th>salary</th><th>hire_date</th></tr></thead><tbody><tr><td>1</td><td>101</td><td>John Doe</td><td>30</td><td>Male</td><td>50000</td><td>01-01-2015</td></tr><tr><td>2</td><td>101</td><td>Jane Smith</td><td>25</td><td>Female</td><td>45000</td><td>15-02-2016</td></tr><tr><td>3</td><td>102</td><td>Bob Brown</td><td>35</td><td>Male</td><td>55000</td><td>01-05-2014</td></tr><tr><td>4</td><td>102</td><td>Alice Lee</td><td>28</td><td>Female</td><td>48000</td><td>30-09-2017</td></tr><tr><td>5</td><td>103</td><td>Jack Chan</td><td>40</td><td>Male</td><td>60000</td><td>01-04-2013</td></tr><tr><td>6</td><td>103</td><td>Jill Wong</td><td>32</td><td>Female</td><td>52000</td><td>01-07-2018</td></tr><tr><td>7</td><td>101</td><td>James Johnson</td><td>42</td><td>Male</td><td>70000</td><td>15-03-2012</td></tr><tr><td>8</td><td>102</td><td>Kate Kim</td><td>29</td><td>Female</td><td>51000</td><td>01-10-2019</td></tr><tr><td>9</td><td>103</td><td>Tom Tan</td><td>33</td><td>Male</td><td>58000</td><td>01-06-2016</td></tr><tr><td>10</td><td>104</td><td>Lisa Lee</td><td>27</td><td>Female</td><td>47000</td><td>01-08-2018</td></tr><tr><td>11</td><td>104</td><td>David Park</td><td>38</td><td>Male</td><td>65000</td><td>01-11-2015</td></tr><tr><td>12</td><td>105</td><td>Susan Chen</td><td>31</td><td>Female</td><td>54000</td><td>15-02-2017</td></tr><tr><td>13</td><td>106</td><td>Brian Kim</td><td>45</td><td>Male</td><td>75000</td><td>01-07-2011</td></tr><tr><td>14</td><td>107</td><td>Emily Lee</td><td>26</td><td>Female</td><td>46000</td><td>01-01-2019</td></tr><tr><td>15</td><td>106</td><td>Michael Lee</td><td>37</td><td>Male</td><td>63000</td><td>30-09-2014</td></tr><tr><td>16</td><td>107</td><td>Kelly Zhang</td><td>30</td><td>Female</td><td>49000</td><td>01-04-2018</td></tr><tr><td>17</td><td>105</td><td>George Wang</td><td>34</td><td>Male</td><td>57000</td><td>15-03-2016</td></tr><tr><td>18</td><td>104</td><td>Nancy Liu</td><td>29</td><td>Female</td><td>50000</td><td>01-06-2017</td></tr><tr><td>19</td><td>103</td><td>Steven Chen</td><td>36</td><td>Male</td><td>62000</td><td>01-08-2015</td></tr><tr><td>20</td><td>102</td><td>Grace Kim</td><td>32</td><td>Female</td><td>53000</td><td>01-11-2018</td></tr></tbody></table></div>"
      ]
     },
     "metadata": {
      "application/vnd.databricks.v1+output": {
       "addedWidgets": {},
       "aggData": [],
       "aggError": "",
       "aggOverflow": false,
       "aggSchema": [],
       "aggSeriesLimitReached": false,
       "aggType": "",
       "arguments": {},
       "columnCustomDisplayInfos": {},
       "data": [
        [
         "1",
         "101",
         "John Doe",
         "30",
         "Male",
         "50000",
         "01-01-2015"
        ],
        [
         "2",
         "101",
         "Jane Smith",
         "25",
         "Female",
         "45000",
         "15-02-2016"
        ],
        [
         "3",
         "102",
         "Bob Brown",
         "35",
         "Male",
         "55000",
         "01-05-2014"
        ],
        [
         "4",
         "102",
         "Alice Lee",
         "28",
         "Female",
         "48000",
         "30-09-2017"
        ],
        [
         "5",
         "103",
         "Jack Chan",
         "40",
         "Male",
         "60000",
         "01-04-2013"
        ],
        [
         "6",
         "103",
         "Jill Wong",
         "32",
         "Female",
         "52000",
         "01-07-2018"
        ],
        [
         "7",
         "101",
         "James Johnson",
         "42",
         "Male",
         "70000",
         "15-03-2012"
        ],
        [
         "8",
         "102",
         "Kate Kim",
         "29",
         "Female",
         "51000",
         "01-10-2019"
        ],
        [
         "9",
         "103",
         "Tom Tan",
         "33",
         "Male",
         "58000",
         "01-06-2016"
        ],
        [
         "10",
         "104",
         "Lisa Lee",
         "27",
         "Female",
         "47000",
         "01-08-2018"
        ],
        [
         "11",
         "104",
         "David Park",
         "38",
         "Male",
         "65000",
         "01-11-2015"
        ],
        [
         "12",
         "105",
         "Susan Chen",
         "31",
         "Female",
         "54000",
         "15-02-2017"
        ],
        [
         "13",
         "106",
         "Brian Kim",
         "45",
         "Male",
         "75000",
         "01-07-2011"
        ],
        [
         "14",
         "107",
         "Emily Lee",
         "26",
         "Female",
         "46000",
         "01-01-2019"
        ],
        [
         "15",
         "106",
         "Michael Lee",
         "37",
         "Male",
         "63000",
         "30-09-2014"
        ],
        [
         "16",
         "107",
         "Kelly Zhang",
         "30",
         "Female",
         "49000",
         "01-04-2018"
        ],
        [
         "17",
         "105",
         "George Wang",
         "34",
         "Male",
         "57000",
         "15-03-2016"
        ],
        [
         "18",
         "104",
         "Nancy Liu",
         "29",
         "Female",
         "50000",
         "01-06-2017"
        ],
        [
         "19",
         "103",
         "Steven Chen",
         "36",
         "Male",
         "62000",
         "01-08-2015"
        ],
        [
         "20",
         "102",
         "Grace Kim",
         "32",
         "Female",
         "53000",
         "01-11-2018"
        ]
       ],
       "datasetInfos": [],
       "dbfsResultPath": null,
       "isJsonSchema": true,
       "metadata": {},
       "overflow": false,
       "plotOptions": {
        "customPlotOptions": {},
        "displayType": "table",
        "pivotAggregation": null,
        "pivotColumns": null,
        "xColumns": null,
        "yColumns": null
       },
       "removedWidgets": [],
       "schema": [
        {
         "metadata": "{}",
         "name": "employee_id",
         "type": "\"string\""
        },
        {
         "metadata": "{}",
         "name": "department_id",
         "type": "\"string\""
        },
        {
         "metadata": "{}",
         "name": "name",
         "type": "\"string\""
        },
        {
         "metadata": "{}",
         "name": "age",
         "type": "\"string\""
        },
        {
         "metadata": "{}",
         "name": "gender",
         "type": "\"string\""
        },
        {
         "metadata": "{}",
         "name": "salary",
         "type": "\"string\""
        },
        {
         "metadata": "{}",
         "name": "hire_date",
         "type": "\"string\""
        }
       ],
       "type": "table"
      }
     },
     "output_type": "display_data"
    }
   ],
   "source": [
    "# File location and type\n",
    "file_location = \"/FileStore/tables/emp-3.csv\"\n",
    "file_type = \"csv\"\n",
    "\n",
    "# CSV options\n",
    "infer_schema = \"false\"\n",
    "first_row_is_header = \"true\"\n",
    "delimiter = \",\"\n",
    "\n",
    "# The applied options are for CSV files. For other file types, these will be ignored.\n",
    "df = spark.read.format(file_type) \\\n",
    "  .option(\"inferSchema\", infer_schema) \\\n",
    "  .option(\"header\", first_row_is_header) \\\n",
    "  .option(\"sep\", delimiter) \\\n",
    "  .load(file_location)\n",
    "\n",
    "display(df)"
   ]
  },
  {
   "cell_type": "code",
   "execution_count": 0,
   "metadata": {
    "application/vnd.databricks.v1+cell": {
     "cellMetadata": {
      "byteLimit": 2048000,
      "rowLimit": 10000
     },
     "inputWidgets": {},
     "nuid": "bd82bb99-1479-4d5c-be10-8c36df0f1d44",
     "showTitle": false,
     "tableResultSettingsMap": {},
     "title": ""
    }
   },
   "outputs": [],
   "source": [
    "# Create a view or table\n",
    "\n",
    "temp_table_name = \"emp_csv\"\n",
    "\n",
    "df.createOrReplaceTempView(temp_table_name)"
   ]
  },
  {
   "cell_type": "code",
   "execution_count": 0,
   "metadata": {
    "application/vnd.databricks.v1+cell": {
     "cellMetadata": {
      "byteLimit": 2048000,
      "implicitDf": true,
      "rowLimit": 10000
     },
     "inputWidgets": {},
     "nuid": "b5f66379-6f7f-42ec-8e82-d0e0926a1721",
     "showTitle": false,
     "tableResultSettingsMap": {},
     "title": ""
    }
   },
   "outputs": [
    {
     "output_type": "display_data",
     "data": {
      "text/html": [
       "<style scoped>\n",
       "  .table-result-container {\n",
       "    max-height: 300px;\n",
       "    overflow: auto;\n",
       "  }\n",
       "  table, th, td {\n",
       "    border: 1px solid black;\n",
       "    border-collapse: collapse;\n",
       "  }\n",
       "  th, td {\n",
       "    padding: 5px;\n",
       "  }\n",
       "  th {\n",
       "    text-align: left;\n",
       "  }\n",
       "</style><div class='table-result-container'><table class='table-result'><thead style='background-color: white'><tr><th>employee_id</th><th>department_id</th><th>name</th><th>age</th><th>gender</th><th>salary</th><th>hire_date</th></tr></thead><tbody><tr><td>1</td><td>101</td><td>John Doe</td><td>30</td><td>Male</td><td>50000</td><td>01-01-2015</td></tr><tr><td>2</td><td>101</td><td>Jane Smith</td><td>25</td><td>Female</td><td>45000</td><td>15-02-2016</td></tr><tr><td>3</td><td>102</td><td>Bob Brown</td><td>35</td><td>Male</td><td>55000</td><td>01-05-2014</td></tr><tr><td>4</td><td>102</td><td>Alice Lee</td><td>28</td><td>Female</td><td>48000</td><td>30-09-2017</td></tr><tr><td>5</td><td>103</td><td>Jack Chan</td><td>40</td><td>Male</td><td>60000</td><td>01-04-2013</td></tr><tr><td>6</td><td>103</td><td>Jill Wong</td><td>32</td><td>Female</td><td>52000</td><td>01-07-2018</td></tr><tr><td>7</td><td>101</td><td>James Johnson</td><td>42</td><td>Male</td><td>70000</td><td>15-03-2012</td></tr><tr><td>8</td><td>102</td><td>Kate Kim</td><td>29</td><td>Female</td><td>51000</td><td>01-10-2019</td></tr><tr><td>9</td><td>103</td><td>Tom Tan</td><td>33</td><td>Male</td><td>58000</td><td>01-06-2016</td></tr><tr><td>10</td><td>104</td><td>Lisa Lee</td><td>27</td><td>Female</td><td>47000</td><td>01-08-2018</td></tr><tr><td>11</td><td>104</td><td>David Park</td><td>38</td><td>Male</td><td>65000</td><td>01-11-2015</td></tr><tr><td>12</td><td>105</td><td>Susan Chen</td><td>31</td><td>Female</td><td>54000</td><td>15-02-2017</td></tr><tr><td>13</td><td>106</td><td>Brian Kim</td><td>45</td><td>Male</td><td>75000</td><td>01-07-2011</td></tr><tr><td>14</td><td>107</td><td>Emily Lee</td><td>26</td><td>Female</td><td>46000</td><td>01-01-2019</td></tr><tr><td>15</td><td>106</td><td>Michael Lee</td><td>37</td><td>Male</td><td>63000</td><td>30-09-2014</td></tr><tr><td>16</td><td>107</td><td>Kelly Zhang</td><td>30</td><td>Female</td><td>49000</td><td>01-04-2018</td></tr><tr><td>17</td><td>105</td><td>George Wang</td><td>34</td><td>Male</td><td>57000</td><td>15-03-2016</td></tr><tr><td>18</td><td>104</td><td>Nancy Liu</td><td>29</td><td>Female</td><td>50000</td><td>01-06-2017</td></tr><tr><td>19</td><td>103</td><td>Steven Chen</td><td>36</td><td>Male</td><td>62000</td><td>01-08-2015</td></tr><tr><td>20</td><td>102</td><td>Grace Kim</td><td>32</td><td>Female</td><td>53000</td><td>01-11-2018</td></tr></tbody></table></div>"
      ]
     },
     "metadata": {
      "application/vnd.databricks.v1+output": {
       "addedWidgets": {},
       "aggData": [],
       "aggError": "",
       "aggOverflow": false,
       "aggSchema": [],
       "aggSeriesLimitReached": false,
       "aggType": "",
       "arguments": {},
       "columnCustomDisplayInfos": {},
       "data": [
        [
         "1",
         "101",
         "John Doe",
         "30",
         "Male",
         "50000",
         "01-01-2015"
        ],
        [
         "2",
         "101",
         "Jane Smith",
         "25",
         "Female",
         "45000",
         "15-02-2016"
        ],
        [
         "3",
         "102",
         "Bob Brown",
         "35",
         "Male",
         "55000",
         "01-05-2014"
        ],
        [
         "4",
         "102",
         "Alice Lee",
         "28",
         "Female",
         "48000",
         "30-09-2017"
        ],
        [
         "5",
         "103",
         "Jack Chan",
         "40",
         "Male",
         "60000",
         "01-04-2013"
        ],
        [
         "6",
         "103",
         "Jill Wong",
         "32",
         "Female",
         "52000",
         "01-07-2018"
        ],
        [
         "7",
         "101",
         "James Johnson",
         "42",
         "Male",
         "70000",
         "15-03-2012"
        ],
        [
         "8",
         "102",
         "Kate Kim",
         "29",
         "Female",
         "51000",
         "01-10-2019"
        ],
        [
         "9",
         "103",
         "Tom Tan",
         "33",
         "Male",
         "58000",
         "01-06-2016"
        ],
        [
         "10",
         "104",
         "Lisa Lee",
         "27",
         "Female",
         "47000",
         "01-08-2018"
        ],
        [
         "11",
         "104",
         "David Park",
         "38",
         "Male",
         "65000",
         "01-11-2015"
        ],
        [
         "12",
         "105",
         "Susan Chen",
         "31",
         "Female",
         "54000",
         "15-02-2017"
        ],
        [
         "13",
         "106",
         "Brian Kim",
         "45",
         "Male",
         "75000",
         "01-07-2011"
        ],
        [
         "14",
         "107",
         "Emily Lee",
         "26",
         "Female",
         "46000",
         "01-01-2019"
        ],
        [
         "15",
         "106",
         "Michael Lee",
         "37",
         "Male",
         "63000",
         "30-09-2014"
        ],
        [
         "16",
         "107",
         "Kelly Zhang",
         "30",
         "Female",
         "49000",
         "01-04-2018"
        ],
        [
         "17",
         "105",
         "George Wang",
         "34",
         "Male",
         "57000",
         "15-03-2016"
        ],
        [
         "18",
         "104",
         "Nancy Liu",
         "29",
         "Female",
         "50000",
         "01-06-2017"
        ],
        [
         "19",
         "103",
         "Steven Chen",
         "36",
         "Male",
         "62000",
         "01-08-2015"
        ],
        [
         "20",
         "102",
         "Grace Kim",
         "32",
         "Female",
         "53000",
         "01-11-2018"
        ]
       ],
       "datasetInfos": [],
       "dbfsResultPath": null,
       "isJsonSchema": true,
       "metadata": {},
       "overflow": false,
       "plotOptions": {
        "customPlotOptions": {},
        "displayType": "table",
        "pivotAggregation": null,
        "pivotColumns": null,
        "xColumns": null,
        "yColumns": null
       },
       "removedWidgets": [],
       "schema": [
        {
         "metadata": "{}",
         "name": "employee_id",
         "type": "\"string\""
        },
        {
         "metadata": "{}",
         "name": "department_id",
         "type": "\"string\""
        },
        {
         "metadata": "{}",
         "name": "name",
         "type": "\"string\""
        },
        {
         "metadata": "{}",
         "name": "age",
         "type": "\"string\""
        },
        {
         "metadata": "{}",
         "name": "gender",
         "type": "\"string\""
        },
        {
         "metadata": "{}",
         "name": "salary",
         "type": "\"string\""
        },
        {
         "metadata": "{}",
         "name": "hire_date",
         "type": "\"string\""
        }
       ],
       "type": "table"
      }
     },
     "output_type": "display_data"
    }
   ],
   "source": [
    "%sql\n",
    "\n",
    "/* Query the created temp table in a SQL cell */\n",
    "\n",
    "select * from `emp_csv`"
   ]
  },
  {
   "cell_type": "code",
   "execution_count": 0,
   "metadata": {
    "application/vnd.databricks.v1+cell": {
     "cellMetadata": {
      "byteLimit": 2048000,
      "rowLimit": 10000
     },
     "inputWidgets": {},
     "nuid": "db9631f6-bb4a-42ca-8a3c-0d48af932331",
     "showTitle": false,
     "tableResultSettingsMap": {},
     "title": ""
    }
   },
   "outputs": [],
   "source": [
    "# With this registered as a temp view, it will only be available to this particular notebook. If you'd like other users to be able to query this table, you can also create a table from the DataFrame.\n",
    "# Once saved, this table will persist across cluster restarts as well as allow various users across different notebooks to query this data.\n",
    "# To do so, choose your table name and uncomment the bottom line.\n",
    "\n",
    "permanent_table_name = \"sample\"\n",
    "\n",
    "df.write.format(\"parquet\").saveAsTable(permanent_table_name)"
   ]
  }
 ],
 "metadata": {
  "application/vnd.databricks.v1+notebook": {
   "computePreferences": null,
   "dashboards": [],
   "environmentMetadata": null,
   "inputWidgetPreferences": null,
   "language": "python",
   "notebookMetadata": {
    "mostRecentlyExecutedCommandWithImplicitDF": {
     "commandId": 2260280092369246,
     "dataframes": [
      "_sqldf"
     ]
    },
    "pythonIndentUnit": 4
   },
   "notebookName": "2025-05-07 - DBFS Example",
   "widgets": {}
  }
 },
 "nbformat": 4,
 "nbformat_minor": 0
}