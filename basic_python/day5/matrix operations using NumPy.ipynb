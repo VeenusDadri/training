{
 "cells": [
  {
   "cell_type": "code",
   "execution_count": 82,
   "id": "feb5a700",
   "metadata": {},
   "outputs": [
    {
     "name": "stdout",
     "output_type": "stream",
     "text": [
      "2.2.4\n"
     ]
    }
   ],
   "source": [
    "import numpy as np\n",
    "print(np.__version__)"
   ]
  },
  {
   "cell_type": "code",
   "execution_count": 83,
   "id": "1677217a",
   "metadata": {},
   "outputs": [
    {
     "name": "stdout",
     "output_type": "stream",
     "text": [
      "10\n"
     ]
    }
   ],
   "source": [
    "a = np.array(10)#odimensional array\n",
    "print(a)"
   ]
  },
  {
   "cell_type": "code",
   "execution_count": 84,
   "id": "acf6d611",
   "metadata": {},
   "outputs": [
    {
     "name": "stdout",
     "output_type": "stream",
     "text": [
      "[10]\n"
     ]
    }
   ],
   "source": [
    "a1 =np.array([10,20])#1d\n",
    "#indexing\n",
    "print(a1[0:1])"
   ]
  },
  {
   "cell_type": "code",
   "execution_count": 85,
   "id": "45121fac",
   "metadata": {},
   "outputs": [
    {
     "data": {
      "text/plain": [
       "np.int64(21)"
      ]
     },
     "execution_count": 85,
     "metadata": {},
     "output_type": "execute_result"
    }
   ],
   "source": [
    "a2=np.array([[10,21],[20,30]])#2d\n",
    "a2[0][1]"
   ]
  },
  {
   "cell_type": "code",
   "execution_count": 86,
   "id": "c6c63d43",
   "metadata": {},
   "outputs": [
    {
     "name": "stdout",
     "output_type": "stream",
     "text": [
      "[[10 21]\n",
      " [20 30]]\n"
     ]
    }
   ],
   "source": [
    "print(a2)"
   ]
  },
  {
   "cell_type": "code",
   "execution_count": 87,
   "id": "48d56afc",
   "metadata": {},
   "outputs": [
    {
     "name": "stdout",
     "output_type": "stream",
     "text": [
      "[[[10 20 30]\n",
      "  [10 20 30]]\n",
      "\n",
      " [[50 60 80]\n",
      "  [20 50 60]]]\n"
     ]
    }
   ],
   "source": [
    "a3 = np.array([[[10,20,30],[10,20,30]],[[50,60,80],[20,50,60]]])#3dimensional array\n",
    "print(a3)"
   ]
  },
  {
   "cell_type": "code",
   "execution_count": 88,
   "id": "fd336d0a",
   "metadata": {},
   "outputs": [
    {
     "name": "stdout",
     "output_type": "stream",
     "text": [
      "30\n"
     ]
    }
   ],
   "source": [
    "print(a3[0][1][2])#three dimensional\n"
   ]
  },
  {
   "cell_type": "code",
   "execution_count": 89,
   "id": "8adf0f7e",
   "metadata": {},
   "outputs": [
    {
     "name": "stdout",
     "output_type": "stream",
     "text": [
      "[[11. 12.]\n",
      " [15. 16.]]\n"
     ]
    }
   ],
   "source": [
    "a=([[11,12,],[15,16]])\n",
    "b=np.asarray(a,dtype=float)\n",
    "print(b)"
   ]
  },
  {
   "cell_type": "markdown",
   "id": "4bc7cc10",
   "metadata": {},
   "source": [
    "# row major order(\"c\")///coloum major order(\"f\")"
   ]
  },
  {
   "cell_type": "code",
   "execution_count": 90,
   "id": "0cd8c27c",
   "metadata": {},
   "outputs": [
    {
     "name": "stdout",
     "output_type": "stream",
     "text": [
      "11\n",
      "12\n",
      "15\n",
      "16\n"
     ]
    }
   ],
   "source": [
    "\n",
    "b=np.asarray(a,dtype=int,order=\"c\")\n",
    "for i in np.nditer(b):\n",
    "    print(i)"
   ]
  },
  {
   "cell_type": "code",
   "execution_count": 91,
   "id": "9fed36d6",
   "metadata": {},
   "outputs": [
    {
     "name": "stdout",
     "output_type": "stream",
     "text": [
      "11\n",
      "15\n",
      "12\n",
      "16\n"
     ]
    }
   ],
   "source": [
    "b=np.asarray(a,dtype=int,order=\"F\")\n",
    "for i in np.nditer(b):\n",
    "    print(i)"
   ]
  },
  {
   "cell_type": "code",
   "execution_count": 92,
   "id": "bbb6bcfa",
   "metadata": {},
   "outputs": [
    {
     "data": {
      "text/plain": [
       "array([b'w', b'e'], dtype='|S1')"
      ]
     },
     "execution_count": 92,
     "metadata": {},
     "output_type": "execute_result"
    }
   ],
   "source": [
    "a=b\"welcome to numpy\"\n",
    "np.frombuffer(a,dtype=\"S1\",count=2)\n"
   ]
  },
  {
   "cell_type": "code",
   "execution_count": 93,
   "id": "384ad43a",
   "metadata": {},
   "outputs": [
    {
     "data": {
      "text/plain": [
       "array([b'm', b'e', b' ', b't', b'o', b' ', b'n', b'u', b'm', b'p', b'y'],\n",
       "      dtype='|S1')"
      ]
     },
     "execution_count": 93,
     "metadata": {},
     "output_type": "execute_result"
    }
   ],
   "source": [
    "a=b\"welcome to numpy\"\n",
    "np.frombuffer(a,dtype=\"S1\",offset=5)"
   ]
  },
  {
   "cell_type": "code",
   "execution_count": 94,
   "id": "db711094",
   "metadata": {},
   "outputs": [
    {
     "data": {
      "text/plain": [
       "array([b'1', b'1'], dtype='|S1')"
      ]
     },
     "execution_count": 94,
     "metadata": {},
     "output_type": "execute_result"
    }
   ],
   "source": [
    "a=[12.14,15]\n",
    "np.fromiter(a,dtype=\"S1\")"
   ]
  },
  {
   "cell_type": "markdown",
   "id": "fca18b09",
   "metadata": {},
   "source": [
    "# Creating a NumPy array of zeros with a size of 3"
   ]
  },
  {
   "cell_type": "code",
   "execution_count": 95,
   "id": "213ce60e",
   "metadata": {},
   "outputs": [
    {
     "name": "stdout",
     "output_type": "stream",
     "text": [
      "[0. 0. 0.]\n"
     ]
    }
   ],
   "source": [
    "\n",
    "a = np.zeros(3)\n",
    "print(a)"
   ]
  },
  {
   "cell_type": "code",
   "execution_count": 96,
   "id": "c1541d68",
   "metadata": {},
   "outputs": [
    {
     "name": "stdout",
     "output_type": "stream",
     "text": [
      "[[[0. 0. 0.]\n",
      "  [0. 0. 0.]]\n",
      "\n",
      " [[0. 0. 0.]\n",
      "  [0. 0. 0.]]]\n"
     ]
    }
   ],
   "source": [
    "a = np.zeros([2, 2, 3])\n",
    "print(a)"
   ]
  },
  {
   "cell_type": "code",
   "execution_count": 97,
   "id": "5f45d0a3",
   "metadata": {},
   "outputs": [
    {
     "name": "stdout",
     "output_type": "stream",
     "text": [
      "[[[2 2 2]\n",
      "  [2 2 2]]\n",
      "\n",
      " [[2 2 2]\n",
      "  [2 2 2]]]\n"
     ]
    }
   ],
   "source": [
    "a = np.full([2, 2, 3],2)\n",
    "print(a)"
   ]
  },
  {
   "cell_type": "markdown",
   "id": "fc1d4d37",
   "metadata": {},
   "source": [
    "# Creating a 3D NumPy array of random with dimensions 2x2x3"
   ]
  },
  {
   "cell_type": "code",
   "execution_count": 98,
   "id": "64d66f8e",
   "metadata": {},
   "outputs": [
    {
     "name": "stdout",
     "output_type": "stream",
     "text": [
      "[[[0.59032676 0.87808282 0.0154372 ]\n",
      "  [0.98862898 0.29682108 0.36390242]]\n",
      "\n",
      " [[0.67316761 0.16290685 0.99361503]\n",
      "  [0.263552   0.22782144 0.63036094]]]\n"
     ]
    }
   ],
   "source": [
    "a = np.random.rand(2, 2, 3)\n",
    "print(a)"
   ]
  },
  {
   "cell_type": "code",
   "execution_count": 99,
   "id": "8b2f742c",
   "metadata": {},
   "outputs": [
    {
     "name": "stdout",
     "output_type": "stream",
     "text": [
      "[[[1. 1. 1.]\n",
      "  [1. 1. 1.]]\n",
      "\n",
      " [[1. 1. 1.]\n",
      "  [1. 1. 1.]]]\n"
     ]
    }
   ],
   "source": [
    "a = np.ones([2, 2, 3])\n",
    "print(a)"
   ]
  },
  {
   "cell_type": "code",
   "execution_count": 100,
   "id": "89cf2eb2",
   "metadata": {},
   "outputs": [
    {
     "name": "stdout",
     "output_type": "stream",
     "text": [
      "[[1. 0. 0. 0.]\n",
      " [0. 1. 0. 0.]\n",
      " [0. 0. 1. 0.]\n",
      " [0. 0. 0. 1.]]\n"
     ]
    }
   ],
   "source": [
    "a = np.eye(4)\n",
    "print(a)"
   ]
  },
  {
   "cell_type": "code",
   "execution_count": 101,
   "id": "17b6298d",
   "metadata": {},
   "outputs": [
    {
     "data": {
      "text/plain": [
       "array([[ 6,  8],\n",
       "       [ 8, 11]])"
      ]
     },
     "execution_count": 101,
     "metadata": {},
     "output_type": "execute_result"
    }
   ],
   "source": [
    "a1=np.array([[2,3],[1,3]])\n",
    "a2=np.array([[4,5],[7,8]])\n",
    "a1plus2=a1+a2\n",
    "a1plus2"
   ]
  },
  {
   "cell_type": "code",
   "execution_count": 102,
   "id": "f0e75427",
   "metadata": {},
   "outputs": [
    {
     "data": {
      "text/plain": [
       "array([[-2, -2],\n",
       "       [-6, -5]])"
      ]
     },
     "execution_count": 102,
     "metadata": {},
     "output_type": "execute_result"
    }
   ],
   "source": [
    "a1min2=a1-a2\n",
    "a1min2"
   ]
  },
  {
   "cell_type": "code",
   "execution_count": 103,
   "id": "38132234",
   "metadata": {},
   "outputs": [
    {
     "data": {
      "text/plain": [
       "array([[ 8, 15],\n",
       "       [ 7, 24]])"
      ]
     },
     "execution_count": 103,
     "metadata": {},
     "output_type": "execute_result"
    }
   ],
   "source": [
    "a1mul2=a1*a2\n",
    "a1mul2"
   ]
  },
  {
   "cell_type": "code",
   "execution_count": 104,
   "id": "d69b0414",
   "metadata": {},
   "outputs": [
    {
     "data": {
      "text/plain": [
       "array([[29, 34],\n",
       "       [25, 29]])"
      ]
     },
     "execution_count": 104,
     "metadata": {},
     "output_type": "execute_result"
    }
   ],
   "source": [
    "a1=np.array([[2,3],[1,3]])\n",
    "a2=np.array([[4,5],[7,8]])\n",
    "a1dot2=np.dot(a1,a2)\n",
    "a1dot2"
   ]
  },
  {
   "cell_type": "code",
   "execution_count": 105,
   "id": "2c29fcf7",
   "metadata": {},
   "outputs": [
    {
     "data": {
      "text/plain": [
       "array([[29, 34, 14],\n",
       "       [25, 29, 10]])"
      ]
     },
     "execution_count": 105,
     "metadata": {},
     "output_type": "execute_result"
    }
   ],
   "source": [
    "a1=np.array([[2,3],[1,3]])\n",
    "a2=np.array([[4,5,4],[7,8,2]])\n",
    "a1dot2=np.dot(a1,a2)\n",
    "a1dot2"
   ]
  },
  {
   "cell_type": "code",
   "execution_count": 106,
   "id": "eacb7a17",
   "metadata": {},
   "outputs": [
    {
     "name": "stdout",
     "output_type": "stream",
     "text": [
      "Matrix a2= [[4 5 4]\n",
      " [7 8 2]]\n",
      "Transpose of matrix a2= [[4 7]\n",
      " [5 8]\n",
      " [4 2]]\n"
     ]
    }
   ],
   "source": [
    "print(\"Matrix a2=\", a2)\n",
    "print(\"Transpose of matrix a2=\", np.transpose(a2))"
   ]
  },
  {
   "cell_type": "code",
   "execution_count": 110,
   "id": "eb312dc4",
   "metadata": {},
   "outputs": [
    {
     "name": "stdout",
     "output_type": "stream",
     "text": [
      "First array:\n",
      "[[0. 1.]\n",
      " [2. 3.]]\n",
      "\n",
      "Second array:\n",
      "[12 12]\n",
      "\n",
      "Adding the two arrays:\n",
      "[[12. 13.]\n",
      " [14. 15.]]\n",
      "\n",
      "Multiplying the two arrays:\n",
      "[[ 0. 12.]\n",
      " [24. 36.]]\n",
      "\n",
      "After applying reciprocal function:\n",
      "[0 0]\n",
      "\n",
      "Applying power function:\n",
      "[144 144]\n"
     ]
    }
   ],
   "source": [
    "arr1 = np.arange(4, dtype = np.float64).reshape(2, 2)\n",
    "print('First array:') \n",
    "print(arr1)\n",
    "print('\\nSecond array:') \n",
    "arr2 = np.array([12, 12]) \n",
    "print(arr2)\n",
    "\n",
    "print('\\nAdding the two arrays:') \n",
    "print(np.add(arr1, arr2))\n",
    "\n",
    "print('\\nMultiplying the two arrays:')\n",
    "print(np.multiply(arr1, arr2))\n",
    "\n",
    "print('\\nAfter applying reciprocal function:') \n",
    "print((np.reciprocal(arr2)))\n",
    "\n",
    "\n",
    "print('\\nApplying power function:') \n",
    "print(np.power(arr2, 2))"
   ]
  },
  {
   "cell_type": "code",
   "execution_count": 111,
   "id": "03367a8c",
   "metadata": {},
   "outputs": [
    {
     "name": "stdout",
     "output_type": "stream",
     "text": [
      "First array:\n",
      "[ 5 15 20]\n",
      "\n",
      "Second array:\n",
      "[2 5 9]\n",
      "\n",
      "Applying mod() function:\n",
      "[1 0 2]\n",
      "\n",
      "Applying remainder() function:\n",
      "[1 0 2]\n"
     ]
    }
   ],
   "source": [
    "arr = np.array([5, 15, 20]) \n",
    "arr1 = np.array([2, 5, 9]) \n",
    " \n",
    "print('First array:') \n",
    "print(arr) \n",
    " \n",
    "print('\\nSecond array:') \n",
    "print(arr1)\n",
    " \n",
    "print('\\nApplying mod() function:') \n",
    "print(np.mod(arr, arr1))\n",
    " \n",
    "print('\\nApplying remainder() function:') \n",
    "print(np.remainder(arr, arr1))"
   ]
  }
 ],
 "metadata": {
  "kernelspec": {
   "display_name": "Python 3",
   "language": "python",
   "name": "python3"
  },
  "language_info": {
   "codemirror_mode": {
    "name": "ipython",
    "version": 3
   },
   "file_extension": ".py",
   "mimetype": "text/x-python",
   "name": "python",
   "nbconvert_exporter": "python",
   "pygments_lexer": "ipython3",
   "version": "3.13.2"
  }
 },
 "nbformat": 4,
 "nbformat_minor": 5
}
