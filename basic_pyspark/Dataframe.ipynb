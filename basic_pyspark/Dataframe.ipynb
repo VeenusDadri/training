{
  "nbformat": 4,
  "nbformat_minor": 0,
  "metadata": {
    "colab": {
      "provenance": [],
      "authorship_tag": "ABX9TyMkHM2i0E9+Kr7Q574P2i3J",
      "include_colab_link": true
    },
    "kernelspec": {
      "name": "python3",
      "display_name": "Python 3"
    },
    "language_info": {
      "name": "python"
    }
  },
  "cells": [
    {
      "cell_type": "markdown",
      "metadata": {
        "id": "view-in-github",
        "colab_type": "text"
      },
      "source": [
        "<a href=\"https://colab.research.google.com/github/VeenusDadri/training/blob/master/basic_pyspark/Dataframe.ipynb\" target=\"_parent\"><img src=\"https://colab.research.google.com/assets/colab-badge.svg\" alt=\"Open In Colab\"/></a>"
      ]
    },
    {
      "cell_type": "code",
      "execution_count": 1,
      "metadata": {
        "colab": {
          "base_uri": "https://localhost:8080/"
        },
        "id": "CWdaJh4HCeiY",
        "outputId": "761ed5f5-c886-4903-a4df-93b8a25ca688"
      },
      "outputs": [
        {
          "output_type": "stream",
          "name": "stdout",
          "text": [
            "Requirement already satisfied: pyspark in /usr/local/lib/python3.11/dist-packages (3.5.5)\n",
            "Requirement already satisfied: py4j==0.10.9.7 in /usr/local/lib/python3.11/dist-packages (from pyspark) (0.10.9.7)\n"
          ]
        }
      ],
      "source": [
        "!pip install pyspark"
      ]
    },
    {
      "cell_type": "code",
      "source": [
        "\n",
        "from pyspark.sql import *"
      ],
      "metadata": {
        "id": "OU8UwO9NCton"
      },
      "execution_count": 2,
      "outputs": []
    },
    {
      "cell_type": "code",
      "source": [
        "\n",
        "student=Row(\"firstname\",\"lastname\",\"age\",\"Email\",\"rollnumber\")\n",
        "student1=student(\"Veenus\",\"Dadri\",32,\"veenusdadri@gmail.com\",21560)\n",
        "student2=student(\"Krishna\",\"Gopal\",35,\"krishnagopal@gmail.com\",21510)\n",
        "student3=student(\"Shiv\",\"Saraogi\",7,\"shivsaraogi@gmail.com\",21540)\n",
        "student4=student(\"Tarun\",\"Bansal\",30,\"tarunbansal@gmail.com\",21545)\n",
        "student5=student(\"Akshita\",\"Gupta\",12,\"akshitagupta@gmail.com\",21555)"
      ],
      "metadata": {
        "id": "yArKCz3TDHIz"
      },
      "execution_count": 3,
      "outputs": []
    },
    {
      "cell_type": "code",
      "source": [
        "department=Row(\"id\",\"name\")\n",
        "department1=Row(id='001',name='CSE')\n",
        "department2=Row(id='002',name='EEE')\n",
        "department3=Row(id='003',name='IT')\n",
        "department4=Row(id='004',name='ECE')\n",
        "department5=Row(id='001',name='CIVIL')\n"
      ],
      "metadata": {
        "id": "Yr2u5o11D6jl"
      },
      "execution_count": null,
      "outputs": []
    }
  ]
}