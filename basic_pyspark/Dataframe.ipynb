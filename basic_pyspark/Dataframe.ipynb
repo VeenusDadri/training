{
  "nbformat": 4,
  "nbformat_minor": 0,
  "metadata": {
    "colab": {
      "provenance": [],
      "include_colab_link": true
    },
    "kernelspec": {
      "name": "python3",
      "display_name": "Python 3"
    },
    "language_info": {
      "name": "python"
    }
  },
  "cells": [
    {
      "cell_type": "markdown",
      "metadata": {
        "id": "view-in-github",
        "colab_type": "text"
      },
      "source": [
        "<a href=\"https://colab.research.google.com/github/VeenusDadri/training/blob/master/basic_pyspark/Dataframe.ipynb\" target=\"_parent\"><img src=\"https://colab.research.google.com/assets/colab-badge.svg\" alt=\"Open In Colab\"/></a>"
      ]
    },
    {
      "cell_type": "code",
      "execution_count": 1,
      "metadata": {
        "colab": {
          "base_uri": "https://localhost:8080/"
        },
        "id": "lZpW3xrXJlnh",
        "outputId": "c77998b4-4c6a-4bb2-8e86-dc43330a0cba"
      },
      "outputs": [
        {
          "output_type": "stream",
          "name": "stdout",
          "text": [
            "Requirement already satisfied: pyspark in /usr/local/lib/python3.11/dist-packages (3.5.5)\n",
            "Requirement already satisfied: py4j==0.10.9.7 in /usr/local/lib/python3.11/dist-packages (from pyspark) (0.10.9.7)\n"
          ]
        }
      ],
      "source": [
        "!pip install pyspark\n"
      ]
    },
    {
      "cell_type": "markdown",
      "source": [
        "CREATING DATAFRAME"
      ],
      "metadata": {
        "id": "CtQol2AhJ0Bb"
      }
    },
    {
      "cell_type": "markdown",
      "source": [
        "importing pyspark sql"
      ],
      "metadata": {
        "id": "wXv6lC3nKI7k"
      }
    },
    {
      "cell_type": "code",
      "source": [
        "from pyspark.sql import *\n"
      ],
      "metadata": {
        "id": "RFI0mMH-J7wP"
      },
      "execution_count": 2,
      "outputs": []
    },
    {
      "cell_type": "markdown",
      "source": [
        "CREATE THE STUDENTS\n"
      ],
      "metadata": {
        "id": "ATVO-9uwKeZc"
      }
    },
    {
      "cell_type": "code",
      "source": [
        "student=Row(\"firstname\",\"lastname\",\"age\",\"Email\",\"rollnumber\")"
      ],
      "metadata": {
        "id": "19J2JkmHKnO5"
      },
      "execution_count": 3,
      "outputs": []
    },
    {
      "cell_type": "code",
      "source": [
        "student1=student(\"nadiya\",\"pathan\",32,\"nadiya.pathan560@gmail.com\",21560)\n",
        "student2=student(\"nadi\",\"shaik\",35,\"nadi.shaik560@gmail.com\",21510)\n",
        "student3=student(\"bujji\",\"mohammad\",23,\"bujji.pathan@gmail.com\",21540)\n",
        "student4=student(\"diya\",\"lucky\",30,\"diya.lucky60@gmail.com\",21545)\n",
        "student5=student(\"ayyan\",\"yusuf\",12,\"ayaan.yusuf555@gmail.com\",21555)"
      ],
      "metadata": {
        "id": "0u9yen_ELb5M"
      },
      "execution_count": 4,
      "outputs": []
    },
    {
      "cell_type": "code",
      "source": [
        "department=Row(\"id\",\"name\")"
      ],
      "metadata": {
        "id": "Lml8mgdwXBZr"
      },
      "execution_count": 5,
      "outputs": []
    },
    {
      "cell_type": "markdown",
      "source": [],
      "metadata": {
        "id": "8BD1lT1wN8TN"
      }
    },
    {
      "cell_type": "markdown",
      "source": [
        "CREATE THE DEPARTMENTS"
      ],
      "metadata": {
        "id": "RDO-VCSzOuxb"
      }
    },
    {
      "cell_type": "code",
      "source": [
        "department1=Row(id='001',name='CSE')\n",
        "department2=Row(id='002',name='EEE')\n",
        "department3=Row(id='003',name='IT')\n",
        "department4=Row(id='004',name='ECE')\n",
        "department5=Row(id='001',name='CIVIL')\n",
        "\n",
        "\n"
      ],
      "metadata": {
        "id": "mq7MrdIeO2hr"
      },
      "execution_count": 6,
      "outputs": []
    },
    {
      "cell_type": "code",
      "source": [
        "print(student1)"
      ],
      "metadata": {
        "colab": {
          "base_uri": "https://localhost:8080/"
        },
        "id": "fCPrJNjrQgPP",
        "outputId": "a24c1175-f001-4839-b98e-474d1e8f9efd"
      },
      "execution_count": 7,
      "outputs": [
        {
          "output_type": "stream",
          "name": "stdout",
          "text": [
            "Row(firstname='nadiya', lastname='pathan', age=32, Email='nadiya.pathan560@gmail.com', rollnumber=21560)\n"
          ]
        }
      ]
    },
    {
      "cell_type": "markdown",
      "source": [
        "CREATE THE DEPARTMENTWITHSTUDENTS INSTANCES\n"
      ],
      "metadata": {
        "id": "84mz1JTgRBXZ"
      }
    },
    {
      "cell_type": "code",
      "source": [
        "from pyspark.sql import Row"
      ],
      "metadata": {
        "id": "tdvOmSauUnoA"
      },
      "execution_count": 8,
      "outputs": []
    },
    {
      "cell_type": "code",
      "source": [
        "departmentwithstudent1=Row(  department = department1, student=[student1,student2])\n",
        "departmentwithstudent2=Row(department = department2, student=[student2,student3])\n",
        "departmentwithstudent3=Row(department = department3, student=[student3,student4])\n",
        "departmentwithstudent4=Row(department = department4, student=[student4,student5])\n",
        "departmentwithstudent5=Row(department = department5, student=[student5,student2])\n"
      ],
      "metadata": {
        "id": "XCKJiFKkRTOz"
      },
      "execution_count": 9,
      "outputs": []
    },
    {
      "cell_type": "code",
      "source": [
        "print(departmentwithstudent4)"
      ],
      "metadata": {
        "colab": {
          "base_uri": "https://localhost:8080/"
        },
        "id": "2KX4jHEUWjAp",
        "outputId": "dba92251-2ad9-4f4f-c345-40462df6ced7"
      },
      "execution_count": 10,
      "outputs": [
        {
          "output_type": "stream",
          "name": "stdout",
          "text": [
            "Row(department=Row(id='004', name='ECE'), student=[Row(firstname='diya', lastname='lucky', age=30, Email='diya.lucky60@gmail.com', rollnumber=21545), Row(firstname='ayyan', lastname='yusuf', age=12, Email='ayaan.yusuf555@gmail.com', rollnumber=21555)])\n"
          ]
        }
      ]
    },
    {
      "cell_type": "markdown",
      "source": [
        "CREATING DATAFRAME\n"
      ],
      "metadata": {
        "id": "csrUQACOXzEz"
      }
    },
    {
      "cell_type": "code",
      "source": [
        "departmentwithstudent=(departmentwithstudent1,departmentwithstudent2,departmentwithstudent3)"
      ],
      "metadata": {
        "id": "sBC3FX4ZYlFs"
      },
      "execution_count": 11,
      "outputs": []
    },
    {
      "cell_type": "code",
      "source": [
        "from pyspark.context import SparkContext\n",
        "from pyspark.sql.session import SparkSession\n",
        "sc=SparkContext.getOrCreate()\n",
        "spark=SparkSession(sc)"
      ],
      "metadata": {
        "id": "8tVwPRz4Y6nN"
      },
      "execution_count": 12,
      "outputs": []
    },
    {
      "cell_type": "code",
      "source": [
        "df=spark.createDataFrame(departmentwithstudent)"
      ],
      "metadata": {
        "id": "ZKOMwZrZZ11o"
      },
      "execution_count": 13,
      "outputs": []
    },
    {
      "cell_type": "markdown",
      "source": [
        "Display dataframe"
      ],
      "metadata": {
        "id": "71eXmG0AaRGV"
      }
    },
    {
      "cell_type": "code",
      "source": [
        "display(df)"
      ],
      "metadata": {
        "colab": {
          "base_uri": "https://localhost:8080/",
          "height": 52
        },
        "id": "Ce2suAp7aXAx",
        "outputId": "2a3c807c-3494-4087-a8d3-14e3ca4afecc"
      },
      "execution_count": 14,
      "outputs": [
        {
          "output_type": "display_data",
          "data": {
            "text/plain": [
              "DataFrame[department: struct<id:string,name:string>, student: array<struct<firstname:string,lastname:string,age:bigint,Email:string,rollnumber:bigint>>]"
            ]
          },
          "metadata": {}
        }
      ]
    },
    {
      "cell_type": "markdown",
      "source": [
        "Data FRAME from csv\n"
      ],
      "metadata": {
        "id": "whL7JFuOfk1y"
      }
    },
    {
      "cell_type": "code",
      "source": [
        "from pyspark.sql import SparkSession"
      ],
      "metadata": {
        "id": "Usm5-oG8fuVJ"
      },
      "execution_count": 15,
      "outputs": []
    },
    {
      "cell_type": "code",
      "source": [
        "spark=SparkSession.builder.appName('create dataframe from csv file').getOrCreate()\n"
      ],
      "metadata": {
        "id": "vK1DJBHpKnD1"
      },
      "execution_count": 16,
      "outputs": []
    },
    {
      "cell_type": "code",
      "source": [
        "dis_df = spark.read.csv(path=r\"/discounts.csv\",header=True)\n",
        "dis_df.show()"
      ],
      "metadata": {
        "id": "IXNi6BTmau3q",
        "outputId": "6b2e95d1-1423-423f-d80f-c58c1ff3b9d6",
        "colab": {
          "base_uri": "https://localhost:8080/"
        }
      },
      "execution_count": 20,
      "outputs": [
        {
          "output_type": "stream",
          "name": "stdout",
          "text": [
            "+----------+----------+-------+--------------------+---------+--------------------+\n",
            "|     Start|       End|Discont|         Description| Category|        Sub Category|\n",
            "+----------+----------+-------+--------------------+---------+--------------------+\n",
            "|2020-01-01|2020-01-10|    0.4|40% discount duri...| Feminine|   Coats and Blazers|\n",
            "|2020-01-01|2020-01-10|    0.4|40% discount duri...| Feminine|Sweaters and Knit...|\n",
            "|2020-01-01|2020-01-10|    0.4|40% discount duri...|Masculine|   Coats and Blazers|\n",
            "|2020-01-01|2020-01-10|    0.4|40% discount duri...|Masculine|Sweaters and Swea...|\n",
            "|2020-01-01|2020-01-10|    0.4|40% discount duri...| Children|               Coats|\n",
            "|2020-01-01|2020-01-10|    0.4|40% discount duri...| Children|            Sweaters|\n",
            "|2020-03-15|2020-03-31|   0.35|35% discount duri...| Feminine|Dresses and Jumps...|\n",
            "|2020-03-15|2020-03-31|   0.35|35% discount duri...| Feminine|  Shirts and Blouses|\n",
            "|2020-03-15|2020-03-31|   0.35|35% discount duri...|Masculine|  T-shirts and Polos|\n",
            "|2020-03-15|2020-03-31|   0.35|35% discount duri...|Masculine|              Shirts|\n",
            "|2020-03-15|2020-03-31|   0.35|35% discount duri...| Children|Girl and Boy (1-5...|\n",
            "|2020-05-01|2020-05-15|   0.25|25% discount duri...| Feminine|   T-shirts and Tops|\n",
            "|2020-05-01|2020-05-15|   0.25|25% discount duri...| Feminine|   Skirts and Shorts|\n",
            "|2020-05-01|2020-05-15|   0.25|25% discount duri...| Feminine|Dresses and Jumps...|\n",
            "|2020-05-01|2020-05-15|   0.25|25% discount duri...|Masculine|  T-shirts and Polos|\n",
            "|2020-05-01|2020-05-15|   0.25|25% discount duri...|Masculine|     Pants and Jeans|\n",
            "|2020-05-01|2020-05-15|   0.25|25% discount duri...| Children|Girl and Boy (1-5...|\n",
            "|2020-05-01|2020-05-15|   0.25|25% discount duri...| Children|             Pajamas|\n",
            "|2020-05-01|2020-05-15|   0.25|25% discount duri...| Children|         Accessories|\n",
            "|2020-09-01|2020-09-15|   0.45|45% discount duri...| Feminine|Dresses and Jumps...|\n",
            "+----------+----------+-------+--------------------+---------+--------------------+\n",
            "only showing top 20 rows\n",
            "\n"
          ]
        }
      ]
    },
    {
      "cell_type": "code",
      "source": [
        "dis_df.count()"
      ],
      "metadata": {
        "id": "kSuMJOQ8ek8y",
        "outputId": "a16c2a68-a5ad-4ec8-eb69-81c9dd383d6c",
        "colab": {
          "base_uri": "https://localhost:8080/"
        }
      },
      "execution_count": 22,
      "outputs": [
        {
          "output_type": "execute_result",
          "data": {
            "text/plain": [
              "181"
            ]
          },
          "metadata": {},
          "execution_count": 22
        }
      ]
    },
    {
      "cell_type": "code",
      "source": [
        "\n",
        "print(dis_df.columns)\n",
        "len(dis_df.columns)"
      ],
      "metadata": {
        "id": "pRcUijj6ft80",
        "outputId": "fdcf7444-1c38-48a6-a6a1-96c30ed4635b",
        "colab": {
          "base_uri": "https://localhost:8080/"
        }
      },
      "execution_count": 28,
      "outputs": [
        {
          "output_type": "stream",
          "name": "stdout",
          "text": [
            "['Start', 'End', 'Discont', 'Description', 'Category', 'Sub Category']\n"
          ]
        },
        {
          "output_type": "execute_result",
          "data": {
            "text/plain": [
              "6"
            ]
          },
          "metadata": {},
          "execution_count": 28
        }
      ]
    },
    {
      "cell_type": "code",
      "source": [
        "dis_df.describe('start').show()"
      ],
      "metadata": {
        "id": "DyK6bV8ffxNj",
        "outputId": "67811f30-adbd-4aa5-9d3a-d452cd432f12",
        "colab": {
          "base_uri": "https://localhost:8080/"
        }
      },
      "execution_count": 29,
      "outputs": [
        {
          "output_type": "stream",
          "name": "stdout",
          "text": [
            "+-------+----------+\n",
            "|summary|     start|\n",
            "+-------+----------+\n",
            "|  count|       181|\n",
            "|   mean|      NULL|\n",
            "| stddev|      NULL|\n",
            "|    min|2020-01-01|\n",
            "|    max|2025-03-15|\n",
            "+-------+----------+\n",
            "\n"
          ]
        }
      ]
    },
    {
      "cell_type": "code",
      "source": [
        "dis_df.describe('end').show()"
      ],
      "metadata": {
        "id": "6aqLXLbVgGxu",
        "outputId": "46ce99f7-6cbb-4565-dc94-dbfb1bc1cc1d",
        "colab": {
          "base_uri": "https://localhost:8080/"
        }
      },
      "execution_count": 30,
      "outputs": [
        {
          "output_type": "stream",
          "name": "stdout",
          "text": [
            "+-------+----------+\n",
            "|summary|       end|\n",
            "+-------+----------+\n",
            "|  count|       181|\n",
            "|   mean|      NULL|\n",
            "| stddev|      NULL|\n",
            "|    min|2020-01-10|\n",
            "|    max|2025-03-31|\n",
            "+-------+----------+\n",
            "\n"
          ]
        }
      ]
    },
    {
      "cell_type": "code",
      "source": [
        "dis_df.filter(dis_df.Discont>0.45).count()"
      ],
      "metadata": {
        "id": "Ju0rtRvogKiD",
        "outputId": "673e3301-aa12-4d09-c3be-0cfc315420f7",
        "colab": {
          "base_uri": "https://localhost:8080/"
        }
      },
      "execution_count": 31,
      "outputs": [
        {
          "output_type": "execute_result",
          "data": {
            "text/plain": [
              "10"
            ]
          },
          "metadata": {},
          "execution_count": 31
        }
      ]
    },
    {
      "cell_type": "code",
      "source": [
        "dis_df.orderBy(dis_df.Start).show()"
      ],
      "metadata": {
        "id": "e2FqjfY0gOWj",
        "outputId": "50ae118f-db0f-4147-899e-c3ca807379c3",
        "colab": {
          "base_uri": "https://localhost:8080/"
        }
      },
      "execution_count": 32,
      "outputs": [
        {
          "output_type": "stream",
          "name": "stdout",
          "text": [
            "+----------+----------+-------+--------------------+---------+--------------------+\n",
            "|     Start|       End|Discont|         Description| Category|        Sub Category|\n",
            "+----------+----------+-------+--------------------+---------+--------------------+\n",
            "|2020-01-01|2020-01-10|    0.4|40% discount duri...| Feminine|   Coats and Blazers|\n",
            "|2020-01-01|2020-01-10|    0.4|40% discount duri...| Feminine|Sweaters and Knit...|\n",
            "|2020-01-01|2020-01-10|    0.4|40% discount duri...|Masculine|   Coats and Blazers|\n",
            "|2020-01-01|2020-01-10|    0.4|40% discount duri...|Masculine|Sweaters and Swea...|\n",
            "|2020-01-01|2020-01-10|    0.4|40% discount duri...| Children|               Coats|\n",
            "|2020-01-01|2020-01-10|    0.4|40% discount duri...| Children|            Sweaters|\n",
            "|2020-03-15|2020-03-31|   0.35|35% discount duri...| Feminine|Dresses and Jumps...|\n",
            "|2020-03-15|2020-03-31|   0.35|35% discount duri...| Feminine|  Shirts and Blouses|\n",
            "|2020-03-15|2020-03-31|   0.35|35% discount duri...|Masculine|  T-shirts and Polos|\n",
            "|2020-03-15|2020-03-31|   0.35|35% discount duri...|Masculine|              Shirts|\n",
            "|2020-03-15|2020-03-31|   0.35|35% discount duri...| Children|Girl and Boy (1-5...|\n",
            "|2020-05-01|2020-05-15|   0.25|25% discount duri...| Feminine|   T-shirts and Tops|\n",
            "|2020-05-01|2020-05-15|   0.25|25% discount duri...| Feminine|   Skirts and Shorts|\n",
            "|2020-05-01|2020-05-15|   0.25|25% discount duri...| Feminine|Dresses and Jumps...|\n",
            "|2020-05-01|2020-05-15|   0.25|25% discount duri...|Masculine|  T-shirts and Polos|\n",
            "|2020-05-01|2020-05-15|   0.25|25% discount duri...|Masculine|     Pants and Jeans|\n",
            "|2020-05-01|2020-05-15|   0.25|25% discount duri...| Children|Girl and Boy (1-5...|\n",
            "|2020-05-01|2020-05-15|   0.25|25% discount duri...| Children|             Pajamas|\n",
            "|2020-05-01|2020-05-15|   0.25|25% discount duri...| Children|         Accessories|\n",
            "|2020-09-01|2020-09-15|   0.45|45% discount duri...| Feminine|Dresses and Jumps...|\n",
            "+----------+----------+-------+--------------------+---------+--------------------+\n",
            "only showing top 20 rows\n",
            "\n"
          ]
        }
      ]
    },
    {
      "cell_type": "code",
      "source": [
        "dis_df.printSchema()"
      ],
      "metadata": {
        "id": "dZSTIRYXgbec",
        "outputId": "3bb6497a-ebdd-4327-b1c0-cc00254d65f8",
        "colab": {
          "base_uri": "https://localhost:8080/"
        }
      },
      "execution_count": 33,
      "outputs": [
        {
          "output_type": "stream",
          "name": "stdout",
          "text": [
            "root\n",
            " |-- Start: string (nullable = true)\n",
            " |-- End: string (nullable = true)\n",
            " |-- Discont: string (nullable = true)\n",
            " |-- Description: string (nullable = true)\n",
            " |-- Category: string (nullable = true)\n",
            " |-- Sub Category: string (nullable = true)\n",
            "\n"
          ]
        }
      ]
    }
  ]
}