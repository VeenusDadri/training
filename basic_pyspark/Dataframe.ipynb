{
  "nbformat": 4,
  "nbformat_minor": 0,
  "metadata": {
    "colab": {
      "provenance": [],
      "authorship_tag": "ABX9TyNr3JwTz14Cz19DfJhjCoDA",
      "include_colab_link": true
    },
    "kernelspec": {
      "name": "python3",
      "display_name": "Python 3"
    },
    "language_info": {
      "name": "python"
    }
  },
  "cells": [
    {
      "cell_type": "markdown",
      "metadata": {
        "id": "view-in-github",
        "colab_type": "text"
      },
      "source": [
        "<a href=\"https://colab.research.google.com/github/VeenusDadri/training/blob/master/basic_pyspark/Dataframe.ipynb\" target=\"_parent\"><img src=\"https://colab.research.google.com/assets/colab-badge.svg\" alt=\"Open In Colab\"/></a>"
      ]
    },
    {
      "cell_type": "code",
      "execution_count": 6,
      "metadata": {
        "colab": {
          "base_uri": "https://localhost:8080/"
        },
        "id": "CWdaJh4HCeiY",
        "outputId": "7bd38136-46b7-41e7-80b7-530d1d0e5f73"
      },
      "outputs": [
        {
          "output_type": "stream",
          "name": "stdout",
          "text": [
            "Requirement already satisfied: pyspark in /usr/local/lib/python3.11/dist-packages (3.5.5)\n",
            "Requirement already satisfied: py4j==0.10.9.7 in /usr/local/lib/python3.11/dist-packages (from pyspark) (0.10.9.7)\n"
          ]
        }
      ],
      "source": [
        "!pip install pyspark"
      ]
    },
    {
      "cell_type": "code",
      "source": [
        "\n",
        "from pyspark.sql import *"
      ],
      "metadata": {
        "id": "OU8UwO9NCton"
      },
      "execution_count": 7,
      "outputs": []
    },
    {
      "cell_type": "code",
      "source": [
        "\n",
        "student=Row(\"firstname\",\"lastname\",\"age\",\"Email\",\"rollnumber\")\n",
        "student1=student(\"Veenus\",\"Dadri\",32,\"veenusdadri@gmail.com\",21560)\n",
        "student2=student(\"Krishna\",\"Gopal\",35,\"krishnagopal@gmail.com\",21510)\n",
        "student3=student(\"Shiv\",\"Saraogi\",7,\"shivsaraogi@gmail.com\",21540)\n",
        "student4=student(\"Tarun\",\"Bansal\",30,\"tarunbansal@gmail.com\",21545)\n",
        "student5=student(\"Akshita\",\"Gupta\",12,\"akshitagupta@gmail.com\",21555)"
      ],
      "metadata": {
        "id": "yArKCz3TDHIz"
      },
      "execution_count": 8,
      "outputs": []
    },
    {
      "cell_type": "code",
      "source": [
        "print(student1)"
      ],
      "metadata": {
        "colab": {
          "base_uri": "https://localhost:8080/"
        },
        "id": "mni6N5XZ8evG",
        "outputId": "37f074b8-7e80-403b-c284-e8da83f977b0"
      },
      "execution_count": 9,
      "outputs": [
        {
          "output_type": "stream",
          "name": "stdout",
          "text": [
            "Row(firstname='Veenus', lastname='Dadri', age=32, Email='veenusdadri@gmail.com', rollnumber=21560)\n"
          ]
        }
      ]
    },
    {
      "cell_type": "code",
      "source": [
        "department=Row(\"id\",\"name\")\n",
        "department1=Row(id='001',name='CSE')\n",
        "department2=Row(id='002',name='EEE')\n",
        "department3=Row(id='003',name='IT')\n",
        "department4=Row(id='004',name='ECE')\n",
        "department5=Row(id='001',name='CIVIL')\n"
      ],
      "metadata": {
        "id": "Yr2u5o11D6jl"
      },
      "execution_count": 10,
      "outputs": []
    },
    {
      "cell_type": "code",
      "source": [
        "from pyspark.sql import Row"
      ],
      "metadata": {
        "id": "0UN7a4sE8mZb"
      },
      "execution_count": 11,
      "outputs": []
    },
    {
      "cell_type": "code",
      "source": [
        "departmentwithstudent1=Row(  department = department1, student=[student1,student2])\n",
        "departmentwithstudent2=Row(department = department2, student=[student2,student3])\n",
        "departmentwithstudent3=Row(department = department3, student=[student3,student4])\n",
        "departmentwithstudent4=Row(department = department4, student=[student4,student5])\n",
        "departmentwithstudent5=Row(department = department5, student=[student5,student2])"
      ],
      "metadata": {
        "id": "-QpCQw3H8pGF"
      },
      "execution_count": 12,
      "outputs": []
    },
    {
      "cell_type": "code",
      "source": [
        "print(departmentwithstudent4)"
      ],
      "metadata": {
        "colab": {
          "base_uri": "https://localhost:8080/"
        },
        "id": "6dErjOE39F6L",
        "outputId": "d0ba0579-87fe-422b-8b6b-4590af77b101"
      },
      "execution_count": 13,
      "outputs": [
        {
          "output_type": "stream",
          "name": "stdout",
          "text": [
            "Row(department=Row(id='004', name='ECE'), student=[Row(firstname='Tarun', lastname='Bansal', age=30, Email='tarunbansal@gmail.com', rollnumber=21545), Row(firstname='Akshita', lastname='Gupta', age=12, Email='akshitagupta@gmail.com', rollnumber=21555)])\n"
          ]
        }
      ]
    },
    {
      "cell_type": "code",
      "source": [
        "from pyspark.context import SparkContext\n",
        "from pyspark.sql.session import SparkSession\n",
        "sc=SparkContext.getOrCreate()\n",
        "spark=SparkSession(sc)"
      ],
      "metadata": {
        "id": "lCF5ZYck9p4_"
      },
      "execution_count": 15,
      "outputs": []
    },
    {
      "cell_type": "code",
      "source": [
        "departmentwithstudent=(departmentwithstudent1,departmentwithstudent2,departmentwithstudent3)\n",
        "df=spark.createDataFrame(departmentwithstudent)\n",
        "display(df)"
      ],
      "metadata": {
        "colab": {
          "base_uri": "https://localhost:8080/",
          "height": 52
        },
        "id": "geNVyh0x9ooc",
        "outputId": "c6ca5644-f9ef-4ee1-82f9-bfdb3b65f9cb"
      },
      "execution_count": 16,
      "outputs": [
        {
          "output_type": "display_data",
          "data": {
            "text/plain": [
              "DataFrame[department: struct<id:string,name:string>, student: array<struct<firstname:string,lastname:string,age:bigint,Email:string,rollnumber:bigint>>]"
            ]
          },
          "metadata": {}
        }
      ]
    }
  ]
}