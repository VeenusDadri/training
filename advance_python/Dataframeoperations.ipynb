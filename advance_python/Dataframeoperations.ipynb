{
  "nbformat": 4,
  "nbformat_minor": 0,
  "metadata": {
    "colab": {
      "provenance": [],
      "authorship_tag": "ABX9TyOB8s4PC0NRfih5NT/hft6G",
      "include_colab_link": true
    },
    "kernelspec": {
      "name": "python3",
      "display_name": "Python 3"
    },
    "language_info": {
      "name": "python"
    }
  },
  "cells": [
    {
      "cell_type": "markdown",
      "metadata": {
        "id": "view-in-github",
        "colab_type": "text"
      },
      "source": [
        "<a href=\"https://colab.research.google.com/github/VeenusDadri/training/blob/master/advance_python/Dataframeoperations.ipynb\" target=\"_parent\"><img src=\"https://colab.research.google.com/assets/colab-badge.svg\" alt=\"Open In Colab\"/></a>"
      ]
    },
    {
      "cell_type": "code",
      "execution_count": 1,
      "metadata": {
        "id": "3x318vdnDrCj"
      },
      "outputs": [],
      "source": [
        "import os"
      ]
    },
    {
      "cell_type": "code",
      "source": [
        "from pyspark.sql import SparkSession\n",
        "spark = SparkSession.builder.appName(\"pyspark operation\").getOrCreate()"
      ],
      "metadata": {
        "id": "CdXBQmDcERzA"
      },
      "execution_count": 2,
      "outputs": []
    },
    {
      "cell_type": "code",
      "source": [
        "emp_df=spark.read.csv(\"/employees.csv\",header=True,inferSchema=True)\n",
        "emp_df.printSchema()"
      ],
      "metadata": {
        "id": "91pMlT_GEdnW"
      },
      "execution_count": null,
      "outputs": []
    },
    {
      "cell_type": "code",
      "source": [
        "print(\"Initial Dataframe:\")\n",
        "emp_df.show(15)"
      ],
      "metadata": {
        "id": "Lefi9JqyEzwV"
      },
      "execution_count": null,
      "outputs": []
    },
    {
      "cell_type": "code",
      "source": [
        "emp_df.count()\n",
        "emp_df.collect()"
      ],
      "metadata": {
        "id": "hh7klhJeE3kv"
      },
      "execution_count": null,
      "outputs": []
    },
    {
      "cell_type": "code",
      "source": [
        "selected_colums=emp_df.select(\"Employee ID\",\"Store ID\",\"Position\")\n",
        "print(\"Selected Columns:\")\n",
        "selected_colums.show(15)"
      ],
      "metadata": {
        "id": "sl2Pcd0pFUav"
      },
      "execution_count": null,
      "outputs": []
    },
    {
      "cell_type": "code",
      "source": [
        "filtered_df=emp_df.filter(emp_df[\"Store ID\"]==2)\n",
        "print(\"filtered Data:\" ,filtered_df.count())\n",
        "filtered_df.show()"
      ],
      "metadata": {
        "id": "l9jR13aDFcd-"
      },
      "execution_count": null,
      "outputs": []
    },
    {
      "cell_type": "code",
      "source": [
        "filtered_df=emp_df.drop(\"Name\")\n",
        "print(\"Filtered Data:\",filtered_df.count())\n",
        "filtered_df.show()"
      ],
      "metadata": {
        "id": "JpdImuadGNv9"
      },
      "execution_count": null,
      "outputs": []
    }
  ]
}