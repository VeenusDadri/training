{
  "nbformat": 4,
  "nbformat_minor": 0,
  "metadata": {
    "colab": {
      "provenance": [],
      "authorship_tag": "ABX9TyOEvZcahe6nqnyhkzIL7yU1",
      "include_colab_link": true
    },
    "kernelspec": {
      "name": "python3",
      "display_name": "Python 3"
    },
    "language_info": {
      "name": "python"
    }
  },
  "cells": [
    {
      "cell_type": "markdown",
      "metadata": {
        "id": "view-in-github",
        "colab_type": "text"
      },
      "source": [
        "<a href=\"https://colab.research.google.com/github/VeenusDadri/training/blob/master/advance_python/Dataframeoperations.ipynb\" target=\"_parent\"><img src=\"https://colab.research.google.com/assets/colab-badge.svg\" alt=\"Open In Colab\"/></a>"
      ]
    },
    {
      "cell_type": "code",
      "execution_count": 11,
      "metadata": {
        "id": "3x318vdnDrCj"
      },
      "outputs": [],
      "source": [
        "import os"
      ]
    },
    {
      "cell_type": "code",
      "source": [
        "from pyspark.sql import SparkSession\n",
        "spark = SparkSession.builder.appName(\"pyspark operation\").getOrCreate()"
      ],
      "metadata": {
        "id": "CdXBQmDcERzA"
      },
      "execution_count": 12,
      "outputs": []
    },
    {
      "cell_type": "code",
      "source": [
        "print(os.path.exists(\"/employees.csv\"))"
      ],
      "metadata": {
        "colab": {
          "base_uri": "https://localhost:8080/"
        },
        "id": "JO9mLcYeH0T0",
        "outputId": "02083358-9dfe-4e3a-fb85-3145817d959e"
      },
      "execution_count": 14,
      "outputs": [
        {
          "output_type": "stream",
          "name": "stdout",
          "text": [
            "True\n"
          ]
        }
      ]
    },
    {
      "cell_type": "code",
      "source": [
        "emp_df=spark.read.csv(\"/employees.csv\",header=True,inferSchema=True)\n",
        "emp_df.printSchema()"
      ],
      "metadata": {
        "id": "91pMlT_GEdnW",
        "colab": {
          "base_uri": "https://localhost:8080/"
        },
        "outputId": "5f09045f-416d-453c-a8de-ff9d435f7491"
      },
      "execution_count": 16,
      "outputs": [
        {
          "output_type": "stream",
          "name": "stdout",
          "text": [
            "root\n",
            " |-- Employee ID: integer (nullable = true)\n",
            " |-- Store ID: integer (nullable = true)\n",
            " |-- Name: string (nullable = true)\n",
            " |-- Position: string (nullable = true)\n",
            "\n"
          ]
        }
      ]
    },
    {
      "cell_type": "code",
      "source": [
        "print(\"Initial Dataframe:\")\n",
        "emp_df.show(15)"
      ],
      "metadata": {
        "id": "Lefi9JqyEzwV",
        "colab": {
          "base_uri": "https://localhost:8080/"
        },
        "outputId": "cd87d65b-e0c4-42be-a96b-03636b574a2e"
      },
      "execution_count": 17,
      "outputs": [
        {
          "output_type": "stream",
          "name": "stdout",
          "text": [
            "Initial Dataframe:\n",
            "+-----------+--------+--------------------+-----------------+\n",
            "|Employee ID|Store ID|                Name|         Position|\n",
            "+-----------+--------+--------------------+-----------------+\n",
            "|          1|       1|     Stephen Johnson|    Store Manager|\n",
            "|          2|       1|       Rebecca Myers|Assistant Manager|\n",
            "|          3|       1|  Katherine Buchanan|          Cashier|\n",
            "|          4|       1|       Jessica Hicks|      Stock Clerk|\n",
            "|          5|       1|          Ryan Gross|  Sales Associate|\n",
            "|          6|       1|     Jeffery Carlson|  Sales Associate|\n",
            "|          7|       1|      Melissa Wilson|  Sales Associate|\n",
            "|          8|       1|        Edward Hicks|  Sales Associate|\n",
            "|          9|       1|        Shari Jordan|  Sales Associate|\n",
            "|         10|       1|Mrs. Melissa Cald...|  Sales Associate|\n",
            "|         11|       1|       Regina Nelson|  Sales Associate|\n",
            "|         12|       1|        Kevin Dawson|  Sales Associate|\n",
            "|         13|       1|       Nicole Murphy|  Sales Associate|\n",
            "|         14|       2|         Susan Brown|    Store Manager|\n",
            "|         15|       2|         Sean Miller|Assistant Manager|\n",
            "+-----------+--------+--------------------+-----------------+\n",
            "only showing top 15 rows\n",
            "\n"
          ]
        }
      ]
    },
    {
      "cell_type": "code",
      "source": [
        "emp_df.count()\n"
      ],
      "metadata": {
        "id": "hh7klhJeE3kv",
        "colab": {
          "base_uri": "https://localhost:8080/"
        },
        "outputId": "0ff53ce2-a57c-4ba0-e901-14842444781e"
      },
      "execution_count": 20,
      "outputs": [
        {
          "output_type": "execute_result",
          "data": {
            "text/plain": [
              "404"
            ]
          },
          "metadata": {},
          "execution_count": 20
        }
      ]
    },
    {
      "cell_type": "code",
      "source": [
        "emp_df.collect()"
      ],
      "metadata": {
        "colab": {
          "base_uri": "https://localhost:8080/"
        },
        "id": "OfXhumjmatUI",
        "outputId": "78124f14-b438-4aca-8244-aa65705be25a"
      },
      "execution_count": 21,
      "outputs": [
        {
          "output_type": "execute_result",
          "data": {
            "text/plain": [
              "[Row(Employee ID=1, Store ID=1, Name='Stephen Johnson', Position='Store Manager'),\n",
              " Row(Employee ID=2, Store ID=1, Name='Rebecca Myers', Position='Assistant Manager'),\n",
              " Row(Employee ID=3, Store ID=1, Name='Katherine Buchanan', Position='Cashier'),\n",
              " Row(Employee ID=4, Store ID=1, Name='Jessica Hicks', Position='Stock Clerk'),\n",
              " Row(Employee ID=5, Store ID=1, Name='Ryan Gross', Position='Sales Associate'),\n",
              " Row(Employee ID=6, Store ID=1, Name='Jeffery Carlson', Position='Sales Associate'),\n",
              " Row(Employee ID=7, Store ID=1, Name='Melissa Wilson', Position='Sales Associate'),\n",
              " Row(Employee ID=8, Store ID=1, Name='Edward Hicks', Position='Sales Associate'),\n",
              " Row(Employee ID=9, Store ID=1, Name='Shari Jordan', Position='Sales Associate'),\n",
              " Row(Employee ID=10, Store ID=1, Name='Mrs. Melissa Caldwell DDS', Position='Sales Associate'),\n",
              " Row(Employee ID=11, Store ID=1, Name='Regina Nelson', Position='Sales Associate'),\n",
              " Row(Employee ID=12, Store ID=1, Name='Kevin Dawson', Position='Sales Associate'),\n",
              " Row(Employee ID=13, Store ID=1, Name='Nicole Murphy', Position='Sales Associate'),\n",
              " Row(Employee ID=14, Store ID=2, Name='Susan Brown', Position='Store Manager'),\n",
              " Row(Employee ID=15, Store ID=2, Name='Sean Miller', Position='Assistant Manager'),\n",
              " Row(Employee ID=16, Store ID=2, Name='Christopher Dominguez', Position='Cashier'),\n",
              " Row(Employee ID=17, Store ID=2, Name='Lisa Mason', Position='Stock Clerk'),\n",
              " Row(Employee ID=18, Store ID=2, Name='David Pitts', Position='Sales Associate'),\n",
              " Row(Employee ID=19, Store ID=2, Name='Lance Schultz', Position='Sales Associate'),\n",
              " Row(Employee ID=20, Store ID=2, Name='Caroline Hall', Position='Sales Associate'),\n",
              " Row(Employee ID=21, Store ID=2, Name='Heather Wilson', Position='Sales Associate'),\n",
              " Row(Employee ID=22, Store ID=2, Name='Allison Young', Position='Sales Associate'),\n",
              " Row(Employee ID=23, Store ID=2, Name='Kathleen Thomas', Position='Sales Associate'),\n",
              " Row(Employee ID=24, Store ID=2, Name='Carl Walters', Position='Sales Associate'),\n",
              " Row(Employee ID=25, Store ID=3, Name='Kevin Douglas', Position='Store Manager'),\n",
              " Row(Employee ID=26, Store ID=3, Name='Stephanie Larson', Position='Assistant Manager'),\n",
              " Row(Employee ID=27, Store ID=3, Name='Andrew Thompson', Position='Cashier'),\n",
              " Row(Employee ID=28, Store ID=3, Name='Erica Davis', Position='Stock Clerk'),\n",
              " Row(Employee ID=29, Store ID=3, Name='Cynthia Serrano', Position='Sales Associate'),\n",
              " Row(Employee ID=30, Store ID=3, Name='Brittany Gonzalez', Position='Sales Associate'),\n",
              " Row(Employee ID=31, Store ID=3, Name='Patrick Simmons', Position='Sales Associate'),\n",
              " Row(Employee ID=32, Store ID=3, Name='Jennifer Johnson', Position='Sales Associate'),\n",
              " Row(Employee ID=33, Store ID=3, Name='Lynn Torres', Position='Sales Associate'),\n",
              " Row(Employee ID=34, Store ID=3, Name='Adam Long', Position='Sales Associate'),\n",
              " Row(Employee ID=35, Store ID=3, Name='Christopher Willis', Position='Sales Associate'),\n",
              " Row(Employee ID=36, Store ID=3, Name='Zachary Leonard', Position='Sales Associate'),\n",
              " Row(Employee ID=37, Store ID=4, Name='Justin Johnson', Position='Store Manager'),\n",
              " Row(Employee ID=38, Store ID=4, Name='Michael Lewis', Position='Assistant Manager'),\n",
              " Row(Employee ID=39, Store ID=4, Name='Kevin Chapman', Position='Cashier'),\n",
              " Row(Employee ID=40, Store ID=4, Name='Christopher Garrett', Position='Stock Clerk'),\n",
              " Row(Employee ID=41, Store ID=4, Name='Jonathan Cooley', Position='Sales Associate'),\n",
              " Row(Employee ID=42, Store ID=4, Name='Christine Garner', Position='Sales Associate'),\n",
              " Row(Employee ID=43, Store ID=4, Name='Joshua Sharp', Position='Sales Associate'),\n",
              " Row(Employee ID=44, Store ID=4, Name='Laura Whitehead', Position='Sales Associate'),\n",
              " Row(Employee ID=45, Store ID=4, Name='Jeremy Wolfe', Position='Sales Associate'),\n",
              " Row(Employee ID=46, Store ID=4, Name='Denise Harmon', Position='Sales Associate'),\n",
              " Row(Employee ID=47, Store ID=4, Name='Allen Fischer', Position='Sales Associate'),\n",
              " Row(Employee ID=48, Store ID=4, Name='Robert Price', Position='Sales Associate'),\n",
              " Row(Employee ID=49, Store ID=4, Name='Victoria Parker', Position='Sales Associate'),\n",
              " Row(Employee ID=50, Store ID=5, Name='Brandon Allen', Position='Store Manager'),\n",
              " Row(Employee ID=51, Store ID=5, Name='Matthew Klein', Position='Assistant Manager'),\n",
              " Row(Employee ID=52, Store ID=5, Name='Richard Miller', Position='Cashier'),\n",
              " Row(Employee ID=53, Store ID=5, Name='Teresa Wise', Position='Stock Clerk'),\n",
              " Row(Employee ID=54, Store ID=5, Name='Ronald Shannon', Position='Sales Associate'),\n",
              " Row(Employee ID=55, Store ID=5, Name='Kayla Hernandez', Position='Sales Associate'),\n",
              " Row(Employee ID=56, Store ID=5, Name='Ariel Morse', Position='Sales Associate'),\n",
              " Row(Employee ID=57, Store ID=5, Name='Kevin Stevens', Position='Sales Associate'),\n",
              " Row(Employee ID=58, Store ID=5, Name='Austin Bonilla', Position='Sales Associate'),\n",
              " Row(Employee ID=59, Store ID=5, Name='Larry Gutierrez', Position='Sales Associate'),\n",
              " Row(Employee ID=60, Store ID=5, Name='John Garza', Position='Sales Associate'),\n",
              " Row(Employee ID=61, Store ID=5, Name='Ruth Smith', Position='Sales Associate'),\n",
              " Row(Employee ID=62, Store ID=6, Name='张婷', Position='Store Manager'),\n",
              " Row(Employee ID=63, Store ID=6, Name='唐宇', Position='Assistant Manager'),\n",
              " Row(Employee ID=64, Store ID=6, Name='谢芳', Position='Cashier'),\n",
              " Row(Employee ID=65, Store ID=6, Name='王坤', Position='Stock Clerk'),\n",
              " Row(Employee ID=66, Store ID=6, Name='莫凤英', Position='Sales Associate'),\n",
              " Row(Employee ID=67, Store ID=6, Name='农健', Position='Sales Associate'),\n",
              " Row(Employee ID=68, Store ID=6, Name='罗彬', Position='Sales Associate'),\n",
              " Row(Employee ID=69, Store ID=6, Name='梁欣', Position='Sales Associate'),\n",
              " Row(Employee ID=70, Store ID=6, Name='蒋坤', Position='Sales Associate'),\n",
              " Row(Employee ID=71, Store ID=6, Name='李淑英', Position='Sales Associate'),\n",
              " Row(Employee ID=72, Store ID=6, Name='黄想', Position='Sales Associate'),\n",
              " Row(Employee ID=73, Store ID=7, Name='李瑜', Position='Store Manager'),\n",
              " Row(Employee ID=74, Store ID=7, Name='陈帅', Position='Assistant Manager'),\n",
              " Row(Employee ID=75, Store ID=7, Name='欧玉', Position='Cashier'),\n",
              " Row(Employee ID=76, Store ID=7, Name='林涛', Position='Stock Clerk'),\n",
              " Row(Employee ID=77, Store ID=7, Name='孔桂香', Position='Sales Associate'),\n",
              " Row(Employee ID=78, Store ID=7, Name='杨琳', Position='Sales Associate'),\n",
              " Row(Employee ID=79, Store ID=7, Name='黄华', Position='Sales Associate'),\n",
              " Row(Employee ID=80, Store ID=7, Name='何兰英', Position='Sales Associate'),\n",
              " Row(Employee ID=81, Store ID=7, Name='张杰', Position='Sales Associate'),\n",
              " Row(Employee ID=82, Store ID=7, Name='应小红', Position='Sales Associate'),\n",
              " Row(Employee ID=83, Store ID=7, Name='林淑英', Position='Sales Associate'),\n",
              " Row(Employee ID=84, Store ID=7, Name='唐旭', Position='Sales Associate'),\n",
              " Row(Employee ID=85, Store ID=7, Name='刘宁', Position='Sales Associate'),\n",
              " Row(Employee ID=86, Store ID=8, Name='邱桂珍', Position='Store Manager'),\n",
              " Row(Employee ID=87, Store ID=8, Name='夏红霞', Position='Assistant Manager'),\n",
              " Row(Employee ID=88, Store ID=8, Name='胡秀云', Position='Cashier'),\n",
              " Row(Employee ID=89, Store ID=8, Name='刘建', Position='Stock Clerk'),\n",
              " Row(Employee ID=90, Store ID=8, Name='胡秀云', Position='Sales Associate'),\n",
              " Row(Employee ID=91, Store ID=8, Name='周秀兰', Position='Sales Associate'),\n",
              " Row(Employee ID=92, Store ID=8, Name='汤建华', Position='Sales Associate'),\n",
              " Row(Employee ID=93, Store ID=8, Name='夏艳', Position='Sales Associate'),\n",
              " Row(Employee ID=94, Store ID=8, Name='杨凤英', Position='Sales Associate'),\n",
              " Row(Employee ID=95, Store ID=8, Name='李建国', Position='Sales Associate'),\n",
              " Row(Employee ID=96, Store ID=8, Name='李玉兰', Position='Sales Associate'),\n",
              " Row(Employee ID=97, Store ID=8, Name='郑琳', Position='Sales Associate'),\n",
              " Row(Employee ID=98, Store ID=8, Name='郭海燕', Position='Sales Associate'),\n",
              " Row(Employee ID=99, Store ID=9, Name='王晨', Position='Store Manager'),\n",
              " Row(Employee ID=100, Store ID=9, Name='石春梅', Position='Assistant Manager'),\n",
              " Row(Employee ID=101, Store ID=9, Name='李帅', Position='Cashier'),\n",
              " Row(Employee ID=102, Store ID=9, Name='史荣', Position='Stock Clerk'),\n",
              " Row(Employee ID=103, Store ID=9, Name='陈淑英', Position='Sales Associate'),\n",
              " Row(Employee ID=104, Store ID=9, Name='刘宁', Position='Sales Associate'),\n",
              " Row(Employee ID=105, Store ID=9, Name='许冬梅', Position='Sales Associate'),\n",
              " Row(Employee ID=106, Store ID=9, Name='胡婷', Position='Sales Associate'),\n",
              " Row(Employee ID=107, Store ID=9, Name='易玉', Position='Sales Associate'),\n",
              " Row(Employee ID=108, Store ID=9, Name='林玉', Position='Sales Associate'),\n",
              " Row(Employee ID=109, Store ID=9, Name='詹淑华', Position='Sales Associate'),\n",
              " Row(Employee ID=110, Store ID=9, Name='岳金凤', Position='Sales Associate'),\n",
              " Row(Employee ID=111, Store ID=10, Name='苏萍', Position='Store Manager'),\n",
              " Row(Employee ID=112, Store ID=10, Name='吴建平', Position='Assistant Manager'),\n",
              " Row(Employee ID=113, Store ID=10, Name='余建华', Position='Cashier'),\n",
              " Row(Employee ID=114, Store ID=10, Name='冷成', Position='Stock Clerk'),\n",
              " Row(Employee ID=115, Store ID=10, Name='梁秀云', Position='Sales Associate'),\n",
              " Row(Employee ID=116, Store ID=10, Name='李玲', Position='Sales Associate'),\n",
              " Row(Employee ID=117, Store ID=10, Name='王柳', Position='Sales Associate'),\n",
              " Row(Employee ID=118, Store ID=10, Name='贾淑英', Position='Sales Associate'),\n",
              " Row(Employee ID=119, Store ID=10, Name='查帅', Position='Sales Associate'),\n",
              " Row(Employee ID=120, Store ID=10, Name='刘宁', Position='Sales Associate'),\n",
              " Row(Employee ID=121, Store ID=10, Name='刘阳', Position='Sales Associate'),\n",
              " Row(Employee ID=122, Store ID=10, Name='王建平', Position='Sales Associate'),\n",
              " Row(Employee ID=123, Store ID=10, Name='童淑英', Position='Sales Associate'),\n",
              " Row(Employee ID=124, Store ID=11, Name='Hansjoachim Nette-Bolnbach', Position='Store Manager'),\n",
              " Row(Employee ID=125, Store ID=11, Name='Drago Hornig', Position='Assistant Manager'),\n",
              " Row(Employee ID=126, Store ID=11, Name='Janusz Schmiedecke B.Sc.', Position='Cashier'),\n",
              " Row(Employee ID=127, Store ID=11, Name='Dr. Gilbert Trommler B.A.', Position='Stock Clerk'),\n",
              " Row(Employee ID=128, Store ID=11, Name='Desiree Warmer-Wähner', Position='Sales Associate'),\n",
              " Row(Employee ID=129, Store ID=11, Name='Reingard Jacobi Jäckel', Position='Sales Associate'),\n",
              " Row(Employee ID=130, Store ID=11, Name='Univ.Prof. Ditmar Scheuermann B.Eng.', Position='Sales Associate'),\n",
              " Row(Employee ID=131, Store ID=11, Name='Frieda Geisler', Position='Sales Associate'),\n",
              " Row(Employee ID=132, Store ID=11, Name='Herr Hellmut Kraus', Position='Sales Associate'),\n",
              " Row(Employee ID=133, Store ID=11, Name='Hannes Biggen', Position='Sales Associate'),\n",
              " Row(Employee ID=134, Store ID=11, Name='Meinhard Linke', Position='Sales Associate'),\n",
              " Row(Employee ID=135, Store ID=11, Name='Isabelle Hauffer', Position='Sales Associate'),\n",
              " Row(Employee ID=136, Store ID=12, Name='Sibel Siering-Ullmann', Position='Store Manager'),\n",
              " Row(Employee ID=137, Store ID=12, Name='Frau Annelise Blümel', Position='Assistant Manager'),\n",
              " Row(Employee ID=138, Store ID=12, Name='Dr. Tim Henschel', Position='Cashier'),\n",
              " Row(Employee ID=139, Store ID=12, Name='Gerta Blümel', Position='Stock Clerk'),\n",
              " Row(Employee ID=140, Store ID=12, Name='Dr. Diane Oestrovsky', Position='Sales Associate'),\n",
              " Row(Employee ID=141, Store ID=12, Name='Wanda Stumpf', Position='Sales Associate'),\n",
              " Row(Employee ID=142, Store ID=12, Name='Dagmar Dehmel-Kusch', Position='Sales Associate'),\n",
              " Row(Employee ID=143, Store ID=12, Name='Harold Preiß', Position='Sales Associate'),\n",
              " Row(Employee ID=144, Store ID=12, Name='Heike Römer', Position='Sales Associate'),\n",
              " Row(Employee ID=145, Store ID=12, Name='Elisa Junck B.Sc.', Position='Sales Associate'),\n",
              " Row(Employee ID=146, Store ID=12, Name='Dr. Anita Seifert MBA.', Position='Sales Associate'),\n",
              " Row(Employee ID=147, Store ID=12, Name='Pero Birnbaum B.A.', Position='Sales Associate'),\n",
              " Row(Employee ID=148, Store ID=12, Name='Ellen Etzler', Position='Sales Associate'),\n",
              " Row(Employee ID=149, Store ID=13, Name='Claas Kruschwitz-Wilms', Position='Store Manager'),\n",
              " Row(Employee ID=150, Store ID=13, Name='Selma Jessel', Position='Assistant Manager'),\n",
              " Row(Employee ID=151, Store ID=13, Name='Dr. Ekrem Trub', Position='Cashier'),\n",
              " Row(Employee ID=152, Store ID=13, Name='Denny Häring', Position='Stock Clerk'),\n",
              " Row(Employee ID=153, Store ID=13, Name='Valeri Gute', Position='Sales Associate'),\n",
              " Row(Employee ID=154, Store ID=13, Name='Gunnar Kambs', Position='Sales Associate'),\n",
              " Row(Employee ID=155, Store ID=13, Name='Stjepan Adler B.Eng.', Position='Sales Associate'),\n",
              " Row(Employee ID=156, Store ID=13, Name='Univ.Prof. Reinald Becker MBA.', Position='Sales Associate'),\n",
              " Row(Employee ID=157, Store ID=13, Name='Inka Etzold B.A.', Position='Sales Associate'),\n",
              " Row(Employee ID=158, Store ID=13, Name='Gülten Sauer B.Eng.', Position='Sales Associate'),\n",
              " Row(Employee ID=159, Store ID=13, Name='Rosina Albers', Position='Sales Associate'),\n",
              " Row(Employee ID=160, Store ID=13, Name='Kathleen Kobelt B.A.', Position='Sales Associate'),\n",
              " Row(Employee ID=161, Store ID=14, Name='Jaroslaw Gute-Schäfer', Position='Store Manager'),\n",
              " Row(Employee ID=162, Store ID=14, Name='Dr. Janus Hellwig MBA.', Position='Assistant Manager'),\n",
              " Row(Employee ID=163, Store ID=14, Name='Hanne Zimmer-Blümel', Position='Cashier'),\n",
              " Row(Employee ID=164, Store ID=14, Name='Ann-Kathrin Lindner-Preiß', Position='Stock Clerk'),\n",
              " Row(Employee ID=165, Store ID=14, Name='Dipl.-Ing. Andree Lindau B.A.', Position='Sales Associate'),\n",
              " Row(Employee ID=166, Store ID=14, Name='Tatjana Rudolph', Position='Sales Associate'),\n",
              " Row(Employee ID=167, Store ID=14, Name='Jenny Ritter', Position='Sales Associate'),\n",
              " Row(Employee ID=168, Store ID=14, Name='Maya Mangold B.Sc.', Position='Sales Associate'),\n",
              " Row(Employee ID=169, Store ID=14, Name='Bärbel Reising B.A.', Position='Sales Associate'),\n",
              " Row(Employee ID=170, Store ID=14, Name='Ing. Eckehard Stahr', Position='Sales Associate'),\n",
              " Row(Employee ID=171, Store ID=14, Name='Prof. Tilo Zirme B.A.', Position='Sales Associate'),\n",
              " Row(Employee ID=172, Store ID=15, Name='Hubertine Sager-Hamann', Position='Store Manager'),\n",
              " Row(Employee ID=173, Store ID=15, Name='Prof. Kata Lübs B.Sc.', Position='Assistant Manager'),\n",
              " Row(Employee ID=174, Store ID=15, Name='Vinko Weinhage', Position='Cashier'),\n",
              " Row(Employee ID=175, Store ID=15, Name='Univ.Prof. Samira Hamann B.Eng.', Position='Stock Clerk'),\n",
              " Row(Employee ID=176, Store ID=15, Name='Baptist Girschner', Position='Sales Associate'),\n",
              " Row(Employee ID=177, Store ID=15, Name='Aloisia Schlosser B.A.', Position='Sales Associate'),\n",
              " Row(Employee ID=178, Store ID=15, Name='Univ.Prof. Hans-Theo Möchlichen', Position='Sales Associate'),\n",
              " Row(Employee ID=179, Store ID=15, Name='Albin Henck MBA.', Position='Sales Associate'),\n",
              " Row(Employee ID=180, Store ID=15, Name='Dr. Friedrich-Wilhelm Linke MBA.', Position='Sales Associate'),\n",
              " Row(Employee ID=181, Store ID=15, Name='Rosl Budig', Position='Sales Associate'),\n",
              " Row(Employee ID=182, Store ID=15, Name='Miguel Junk', Position='Sales Associate'),\n",
              " Row(Employee ID=183, Store ID=15, Name='Jonas Rosemann', Position='Sales Associate'),\n",
              " Row(Employee ID=184, Store ID=15, Name='Helmut Paffrath', Position='Sales Associate'),\n",
              " Row(Employee ID=185, Store ID=16, Name='Jeff Wiggins', Position='Store Manager'),\n",
              " Row(Employee ID=186, Store ID=16, Name='Nancy Butler', Position='Assistant Manager'),\n",
              " Row(Employee ID=187, Store ID=16, Name='Kevin Fields', Position='Cashier'),\n",
              " Row(Employee ID=188, Store ID=16, Name='Jared Daniels', Position='Stock Clerk'),\n",
              " Row(Employee ID=189, Store ID=16, Name='Angela Chapman', Position='Sales Associate'),\n",
              " Row(Employee ID=190, Store ID=16, Name='Annette Morgan', Position='Sales Associate'),\n",
              " Row(Employee ID=191, Store ID=16, Name='Christina Mccarthy', Position='Sales Associate'),\n",
              " Row(Employee ID=192, Store ID=16, Name='Kristina Mitchell', Position='Sales Associate'),\n",
              " Row(Employee ID=193, Store ID=16, Name='Sylvia Austin', Position='Sales Associate'),\n",
              " Row(Employee ID=194, Store ID=16, Name='Brent Oneill', Position='Sales Associate'),\n",
              " Row(Employee ID=195, Store ID=17, Name='Robert Oliver', Position='Store Manager'),\n",
              " Row(Employee ID=196, Store ID=17, Name='Joshua Hansen', Position='Assistant Manager'),\n",
              " Row(Employee ID=197, Store ID=17, Name='Richard Parks', Position='Cashier'),\n",
              " Row(Employee ID=198, Store ID=17, Name='Kenneth Dunn', Position='Stock Clerk'),\n",
              " Row(Employee ID=199, Store ID=17, Name='Jonathan Ryan', Position='Sales Associate'),\n",
              " Row(Employee ID=200, Store ID=17, Name='Mary Lee', Position='Sales Associate'),\n",
              " Row(Employee ID=201, Store ID=17, Name='Adam Lopez', Position='Sales Associate'),\n",
              " Row(Employee ID=202, Store ID=17, Name='Laura Bradley', Position='Sales Associate'),\n",
              " Row(Employee ID=203, Store ID=17, Name='Laura Baldwin', Position='Sales Associate'),\n",
              " Row(Employee ID=204, Store ID=17, Name='Karla Rasmussen', Position='Sales Associate'),\n",
              " Row(Employee ID=205, Store ID=17, Name='Michael Valenzuela', Position='Sales Associate'),\n",
              " Row(Employee ID=206, Store ID=17, Name='Paul Kemp', Position='Sales Associate'),\n",
              " Row(Employee ID=207, Store ID=18, Name='Cindy Anderson', Position='Store Manager'),\n",
              " Row(Employee ID=208, Store ID=18, Name='John Foley', Position='Assistant Manager'),\n",
              " Row(Employee ID=209, Store ID=18, Name='Anthony Sanders', Position='Cashier'),\n",
              " Row(Employee ID=210, Store ID=18, Name='Keith Small', Position='Stock Clerk'),\n",
              " Row(Employee ID=211, Store ID=18, Name='Lisa Jimenez', Position='Sales Associate'),\n",
              " Row(Employee ID=212, Store ID=18, Name='Allison Taylor', Position='Sales Associate'),\n",
              " Row(Employee ID=213, Store ID=18, Name='Jonathan Hill', Position='Sales Associate'),\n",
              " Row(Employee ID=214, Store ID=18, Name='Christina Cisneros', Position='Sales Associate'),\n",
              " Row(Employee ID=215, Store ID=18, Name='Sarah Moreno', Position='Sales Associate'),\n",
              " Row(Employee ID=216, Store ID=18, Name='Jake Moore', Position='Sales Associate'),\n",
              " Row(Employee ID=217, Store ID=19, Name='Wesley Hardin', Position='Store Manager'),\n",
              " Row(Employee ID=218, Store ID=19, Name='John Ray', Position='Assistant Manager'),\n",
              " Row(Employee ID=219, Store ID=19, Name='Kyle Black', Position='Cashier'),\n",
              " Row(Employee ID=220, Store ID=19, Name='Kelly Day', Position='Stock Clerk'),\n",
              " Row(Employee ID=221, Store ID=19, Name='Brenda Williams', Position='Sales Associate'),\n",
              " Row(Employee ID=222, Store ID=19, Name='Michael Gardner', Position='Sales Associate'),\n",
              " Row(Employee ID=223, Store ID=19, Name='Bob Hoffman', Position='Sales Associate'),\n",
              " Row(Employee ID=224, Store ID=19, Name='Nicole Rice', Position='Sales Associate'),\n",
              " Row(Employee ID=225, Store ID=19, Name='Maria Hunter', Position='Sales Associate'),\n",
              " Row(Employee ID=226, Store ID=19, Name='David Hartman', Position='Sales Associate'),\n",
              " Row(Employee ID=227, Store ID=19, Name='Cheyenne Mann', Position='Sales Associate'),\n",
              " Row(Employee ID=228, Store ID=19, Name='Monica Moran', Position='Sales Associate'),\n",
              " Row(Employee ID=229, Store ID=20, Name='John Greene', Position='Store Manager'),\n",
              " Row(Employee ID=230, Store ID=20, Name='Carol Cox', Position='Assistant Manager'),\n",
              " Row(Employee ID=231, Store ID=20, Name='John Bailey', Position='Cashier'),\n",
              " Row(Employee ID=232, Store ID=20, Name='Donald Griffin', Position='Stock Clerk'),\n",
              " Row(Employee ID=233, Store ID=20, Name='Michael Clayton', Position='Sales Associate'),\n",
              " Row(Employee ID=234, Store ID=20, Name='Austin Baker', Position='Sales Associate'),\n",
              " Row(Employee ID=235, Store ID=20, Name='Alexander Baker MD', Position='Sales Associate'),\n",
              " Row(Employee ID=236, Store ID=20, Name='Briana Moss', Position='Sales Associate'),\n",
              " Row(Employee ID=237, Store ID=20, Name='Sergio Hoover', Position='Sales Associate'),\n",
              " Row(Employee ID=238, Store ID=20, Name='Angela Turner', Position='Sales Associate'),\n",
              " Row(Employee ID=239, Store ID=21, Name='Alexandria Ribeiro', Position='Store Manager'),\n",
              " Row(Employee ID=240, Store ID=21, Name='Lucy Lebon de Grenier', Position='Assistant Manager'),\n",
              " Row(Employee ID=241, Store ID=21, Name='Henriette Pierre', Position='Cashier'),\n",
              " Row(Employee ID=242, Store ID=21, Name='Patrick Bonnin de Rodrigues', Position='Stock Clerk'),\n",
              " Row(Employee ID=243, Store ID=21, Name='David Sauvage', Position='Sales Associate'),\n",
              " Row(Employee ID=244, Store ID=21, Name='Philippe Ferrand-Nguyen', Position='Sales Associate'),\n",
              " Row(Employee ID=245, Store ID=21, Name='Virginie Sanchez', Position='Sales Associate'),\n",
              " Row(Employee ID=246, Store ID=21, Name='Robert Noël', Position='Sales Associate'),\n",
              " Row(Employee ID=247, Store ID=21, Name='Matthieu Normand', Position='Sales Associate'),\n",
              " Row(Employee ID=248, Store ID=21, Name='Bernard Bertrand', Position='Sales Associate'),\n",
              " Row(Employee ID=249, Store ID=22, Name='Frédérique Barthelemy', Position='Store Manager'),\n",
              " Row(Employee ID=250, Store ID=22, Name='Augustin Chevallier', Position='Assistant Manager'),\n",
              " Row(Employee ID=251, Store ID=22, Name='Maggie Lagarde-Fernandez', Position='Cashier'),\n",
              " Row(Employee ID=252, Store ID=22, Name='Bernadette Bouvier', Position='Stock Clerk'),\n",
              " Row(Employee ID=253, Store ID=22, Name='Laurence Traore', Position='Sales Associate'),\n",
              " Row(Employee ID=254, Store ID=22, Name='Julien Da Silva', Position='Sales Associate'),\n",
              " Row(Employee ID=255, Store ID=22, Name='Vincent Mary', Position='Sales Associate'),\n",
              " Row(Employee ID=256, Store ID=22, Name='Isaac Boulanger de la Laine', Position='Sales Associate'),\n",
              " Row(Employee ID=257, Store ID=22, Name='Josette Carre', Position='Sales Associate'),\n",
              " Row(Employee ID=258, Store ID=22, Name='Franck Marie', Position='Sales Associate'),\n",
              " Row(Employee ID=259, Store ID=23, Name='Luc Rocher du Berger', Position='Store Manager'),\n",
              " Row(Employee ID=260, Store ID=23, Name='Nicolas Didier', Position='Assistant Manager'),\n",
              " Row(Employee ID=261, Store ID=23, Name='Hugues Rémy', Position='Cashier'),\n",
              " Row(Employee ID=262, Store ID=23, Name='Maryse Maillet', Position='Stock Clerk'),\n",
              " Row(Employee ID=263, Store ID=23, Name='Dominique Pichon', Position='Sales Associate'),\n",
              " Row(Employee ID=264, Store ID=23, Name='Guillaume Hebert', Position='Sales Associate'),\n",
              " Row(Employee ID=265, Store ID=23, Name='René Robert', Position='Sales Associate'),\n",
              " Row(Employee ID=266, Store ID=23, Name='Patrick-Jacques Lemoine', Position='Sales Associate'),\n",
              " Row(Employee ID=267, Store ID=23, Name='Adrien-Robert Simon', Position='Sales Associate'),\n",
              " Row(Employee ID=268, Store ID=23, Name='Luc Maillot', Position='Sales Associate'),\n",
              " Row(Employee ID=269, Store ID=23, Name='Alexandre Paris de la Pages', Position='Sales Associate'),\n",
              " Row(Employee ID=270, Store ID=24, Name='Suzanne Godard de Grondin', Position='Store Manager'),\n",
              " Row(Employee ID=271, Store ID=24, Name='Capucine Chartier-Bertin', Position='Assistant Manager'),\n",
              " Row(Employee ID=272, Store ID=24, Name='Yves de Didier', Position='Cashier'),\n",
              " Row(Employee ID=273, Store ID=24, Name='Nathalie-Christelle Germain', Position='Stock Clerk'),\n",
              " Row(Employee ID=274, Store ID=24, Name='Charles Bertin', Position='Sales Associate'),\n",
              " Row(Employee ID=275, Store ID=24, Name='Alexandria Renaud', Position='Sales Associate'),\n",
              " Row(Employee ID=276, Store ID=24, Name='Claire Laurent-Benoit', Position='Sales Associate'),\n",
              " Row(Employee ID=277, Store ID=24, Name='Thibaut Lacombe du Guillaume', Position='Sales Associate'),\n",
              " Row(Employee ID=278, Store ID=24, Name='Arthur Hamon', Position='Sales Associate'),\n",
              " Row(Employee ID=279, Store ID=24, Name='Éléonore Gilles de Adam', Position='Sales Associate'),\n",
              " Row(Employee ID=280, Store ID=24, Name='Robert Guilbert', Position='Sales Associate'),\n",
              " Row(Employee ID=281, Store ID=25, Name='Bernard Camus', Position='Store Manager'),\n",
              " Row(Employee ID=282, Store ID=25, Name='Alexandre Bourdon Le Leroy', Position='Assistant Manager'),\n",
              " Row(Employee ID=283, Store ID=25, Name='Zacharie Lefèvre', Position='Cashier'),\n",
              " Row(Employee ID=284, Store ID=25, Name='Lucie Dijoux', Position='Stock Clerk'),\n",
              " Row(Employee ID=285, Store ID=25, Name='Capucine Rousseau', Position='Sales Associate'),\n",
              " Row(Employee ID=286, Store ID=25, Name='Christine Lopez-Bègue', Position='Sales Associate'),\n",
              " Row(Employee ID=287, Store ID=25, Name='Maurice Leduc-Picard', Position='Sales Associate'),\n",
              " Row(Employee ID=288, Store ID=25, Name='Alice Lagarde', Position='Sales Associate'),\n",
              " Row(Employee ID=289, Store ID=25, Name='Hélène Marchand-Lelièvre', Position='Sales Associate'),\n",
              " Row(Employee ID=290, Store ID=25, Name='Astrid Jourdan de Parent', Position='Sales Associate'),\n",
              " Row(Employee ID=291, Store ID=25, Name='Émile Schneider', Position='Sales Associate'),\n",
              " Row(Employee ID=292, Store ID=25, Name='Benjamin Dupuis', Position='Sales Associate'),\n",
              " Row(Employee ID=293, Store ID=26, Name='Abigaíl Macarena Báez Solsona', Position='Store Manager'),\n",
              " Row(Employee ID=294, Store ID=26, Name='Noé Carretero-Cervantes', Position='Assistant Manager'),\n",
              " Row(Employee ID=295, Store ID=26, Name='Víctor Palomar Terrón', Position='Cashier'),\n",
              " Row(Employee ID=296, Store ID=26, Name='Emelina del Castillo', Position='Stock Clerk'),\n",
              " Row(Employee ID=297, Store ID=26, Name='Anunciación Arnau', Position='Sales Associate'),\n",
              " Row(Employee ID=298, Store ID=26, Name='Danilo Vera Peiró', Position='Sales Associate'),\n",
              " Row(Employee ID=299, Store ID=26, Name='José Manuel Valera-Villaverde', Position='Sales Associate'),\n",
              " Row(Employee ID=300, Store ID=26, Name='Lourdes Cabañas', Position='Sales Associate'),\n",
              " Row(Employee ID=301, Store ID=26, Name='René Castell-Falcó', Position='Sales Associate'),\n",
              " Row(Employee ID=302, Store ID=26, Name='Dani de Alegria', Position='Sales Associate'),\n",
              " Row(Employee ID=303, Store ID=27, Name='Gisela Pavón Bou', Position='Store Manager'),\n",
              " Row(Employee ID=304, Store ID=27, Name='Paula de Armengol', Position='Assistant Manager'),\n",
              " Row(Employee ID=305, Store ID=27, Name='Federico Blazquez Rivero', Position='Cashier'),\n",
              " Row(Employee ID=306, Store ID=27, Name='Martina Revilla Pou', Position='Stock Clerk'),\n",
              " Row(Employee ID=307, Store ID=27, Name='Aurora del Mur', Position='Sales Associate'),\n",
              " Row(Employee ID=308, Store ID=27, Name='Augusto Montesinos Andrade', Position='Sales Associate'),\n",
              " Row(Employee ID=309, Store ID=27, Name='Urbano Jover Aznar', Position='Sales Associate'),\n",
              " Row(Employee ID=310, Store ID=27, Name='Pablo Villalonga', Position='Sales Associate'),\n",
              " Row(Employee ID=311, Store ID=27, Name='Antonia Paola Molins Ropero', Position='Sales Associate'),\n",
              " Row(Employee ID=312, Store ID=27, Name='Horacio de Pinedo', Position='Sales Associate'),\n",
              " Row(Employee ID=313, Store ID=27, Name='Jordán Carballo', Position='Sales Associate'),\n",
              " Row(Employee ID=314, Store ID=27, Name='Rolando Pagès Gargallo', Position='Sales Associate'),\n",
              " Row(Employee ID=315, Store ID=28, Name='Febe Gual Manzano', Position='Store Manager'),\n",
              " Row(Employee ID=316, Store ID=28, Name='Evaristo Rosado', Position='Assistant Manager'),\n",
              " Row(Employee ID=317, Store ID=28, Name='Pilar del Arjona', Position='Cashier'),\n",
              " Row(Employee ID=318, Store ID=28, Name='Graciana Gisbert Gámez', Position='Stock Clerk'),\n",
              " Row(Employee ID=319, Store ID=28, Name='Felipe Amorós Sánchez', Position='Sales Associate'),\n",
              " Row(Employee ID=320, Store ID=28, Name='Renata Flores Bustos', Position='Sales Associate'),\n",
              " Row(Employee ID=321, Store ID=28, Name='Dionisio Yáñez', Position='Sales Associate'),\n",
              " Row(Employee ID=322, Store ID=28, Name='Aitor Lledó-Álamo', Position='Sales Associate'),\n",
              " Row(Employee ID=323, Store ID=28, Name='Itziar Aguilera Puente', Position='Sales Associate'),\n",
              " Row(Employee ID=324, Store ID=28, Name='Emiliano Vázquez Moliner', Position='Sales Associate'),\n",
              " Row(Employee ID=325, Store ID=29, Name='Custodia Torrens Novoa', Position='Store Manager'),\n",
              " Row(Employee ID=326, Store ID=29, Name='Máximo Chus Rosa Céspedes', Position='Assistant Manager'),\n",
              " Row(Employee ID=327, Store ID=29, Name='Leire Vega', Position='Cashier'),\n",
              " Row(Employee ID=328, Store ID=29, Name='Isaac Plaza Valenciano', Position='Stock Clerk'),\n",
              " Row(Employee ID=329, Store ID=29, Name='Felisa Gaya Díaz', Position='Sales Associate'),\n",
              " Row(Employee ID=330, Store ID=29, Name='Felicia del Gomila', Position='Sales Associate'),\n",
              " Row(Employee ID=331, Store ID=29, Name='Armida Bou Ferrández', Position='Sales Associate'),\n",
              " Row(Employee ID=332, Store ID=29, Name='Kike Blasco Ramis', Position='Sales Associate'),\n",
              " Row(Employee ID=333, Store ID=29, Name='Rafael Zurita Crespo', Position='Sales Associate'),\n",
              " Row(Employee ID=334, Store ID=29, Name='Primitivo Nogués Padilla', Position='Sales Associate'),\n",
              " Row(Employee ID=335, Store ID=29, Name='Eusebia Manuel Mancebo', Position='Sales Associate'),\n",
              " Row(Employee ID=336, Store ID=30, Name='Judith Amelia Bustos Niño', Position='Store Manager'),\n",
              " Row(Employee ID=337, Store ID=30, Name='Susana Borrell Sedano', Position='Assistant Manager'),\n",
              " Row(Employee ID=338, Store ID=30, Name='Poncio Rosselló Balaguer', Position='Cashier'),\n",
              " Row(Employee ID=339, Store ID=30, Name='Dorotea Román Abril', Position='Stock Clerk'),\n",
              " Row(Employee ID=340, Store ID=30, Name='Tecla Jódar-Baquero', Position='Sales Associate'),\n",
              " Row(Employee ID=341, Store ID=30, Name='Artemio Mate Ríos', Position='Sales Associate'),\n",
              " Row(Employee ID=342, Store ID=30, Name='Vinicio Barceló Marín', Position='Sales Associate'),\n",
              " Row(Employee ID=343, Store ID=30, Name='Leonor Yuste Hoz', Position='Sales Associate'),\n",
              " Row(Employee ID=344, Store ID=30, Name='Laura Sánchez', Position='Sales Associate'),\n",
              " Row(Employee ID=345, Store ID=30, Name='Claudio Lago', Position='Sales Associate'),\n",
              " Row(Employee ID=346, Store ID=30, Name='Jose Luis Acevedo Fuertes', Position='Sales Associate'),\n",
              " Row(Employee ID=347, Store ID=30, Name='Artemio Roselló Calvet', Position='Sales Associate'),\n",
              " Row(Employee ID=348, Store ID=31, Name='Iara-Mariana Teixeira', Position='Store Manager'),\n",
              " Row(Employee ID=349, Store ID=31, Name='Ricardo Sá', Position='Assistant Manager'),\n",
              " Row(Employee ID=350, Store ID=31, Name='Joana Rodrigues', Position='Cashier'),\n",
              " Row(Employee ID=351, Store ID=31, Name='Noah Azevedo', Position='Stock Clerk'),\n",
              " Row(Employee ID=352, Store ID=31, Name='Vitória Amorim', Position='Sales Associate'),\n",
              " Row(Employee ID=353, Store ID=31, Name='Érica Reis', Position='Sales Associate'),\n",
              " Row(Employee ID=354, Store ID=31, Name='Isabela Cruz', Position='Sales Associate'),\n",
              " Row(Employee ID=355, Store ID=31, Name='Eduarda Assunção', Position='Sales Associate'),\n",
              " Row(Employee ID=356, Store ID=31, Name='Yasmin Pacheco-Rocha', Position='Sales Associate'),\n",
              " Row(Employee ID=357, Store ID=31, Name='Jéssica Antunes-Ramos', Position='Sales Associate'),\n",
              " Row(Employee ID=358, Store ID=31, Name='Vasco Costa', Position='Sales Associate'),\n",
              " Row(Employee ID=359, Store ID=31, Name='Diego Araújo', Position='Sales Associate'),\n",
              " Row(Employee ID=360, Store ID=31, Name='Soraia Miranda', Position='Sales Associate'),\n",
              " Row(Employee ID=361, Store ID=32, Name='Iara Soares', Position='Store Manager'),\n",
              " Row(Employee ID=362, Store ID=32, Name='Soraia Batista-Maia', Position='Assistant Manager'),\n",
              " Row(Employee ID=363, Store ID=32, Name='Rui Macedo-Assunção', Position='Cashier'),\n",
              " Row(Employee ID=364, Store ID=32, Name='Lia Carneiro', Position='Stock Clerk'),\n",
              " Row(Employee ID=365, Store ID=32, Name='Fabiana Leite-Lima', Position='Sales Associate'),\n",
              " Row(Employee ID=366, Store ID=32, Name='Jorge Morais', Position='Sales Associate'),\n",
              " Row(Employee ID=367, Store ID=32, Name='Afonso Cunha', Position='Sales Associate'),\n",
              " Row(Employee ID=368, Store ID=32, Name='Joaquim Valente', Position='Sales Associate'),\n",
              " Row(Employee ID=369, Store ID=32, Name='Fernando Vicente', Position='Sales Associate'),\n",
              " Row(Employee ID=370, Store ID=32, Name='Diogo Morais', Position='Sales Associate'),\n",
              " Row(Employee ID=371, Store ID=33, Name='Larissa Carvalho', Position='Store Manager'),\n",
              " Row(Employee ID=372, Store ID=33, Name='Kevin Vaz', Position='Assistant Manager'),\n",
              " Row(Employee ID=373, Store ID=33, Name='Ismael Barros', Position='Cashier'),\n",
              " Row(Employee ID=374, Store ID=33, Name='Alexandre Guerreiro', Position='Stock Clerk'),\n",
              " Row(Employee ID=375, Store ID=33, Name='Daniela do Pires', Position='Sales Associate'),\n",
              " Row(Employee ID=376, Store ID=33, Name='Kyara Lima', Position='Sales Associate'),\n",
              " Row(Employee ID=377, Store ID=33, Name='Eduarda Ribeiro', Position='Sales Associate'),\n",
              " Row(Employee ID=378, Store ID=33, Name='Bruno Santos', Position='Sales Associate'),\n",
              " Row(Employee ID=379, Store ID=33, Name='Vítor Henriques', Position='Sales Associate'),\n",
              " Row(Employee ID=380, Store ID=33, Name='Santiago Melo', Position='Sales Associate'),\n",
              " Row(Employee ID=381, Store ID=33, Name='Nelson Neto', Position='Sales Associate'),\n",
              " Row(Employee ID=382, Store ID=33, Name='Lourenço Nunes-Azevedo', Position='Sales Associate'),\n",
              " Row(Employee ID=383, Store ID=34, Name='Lucas Amorim', Position='Store Manager'),\n",
              " Row(Employee ID=384, Store ID=34, Name='Fernando Martins', Position='Assistant Manager'),\n",
              " Row(Employee ID=385, Store ID=34, Name='Nádia Anjos', Position='Cashier'),\n",
              " Row(Employee ID=386, Store ID=34, Name='Rafaela Vieira', Position='Stock Clerk'),\n",
              " Row(Employee ID=387, Store ID=34, Name='Sofia Rocha-Rocha', Position='Sales Associate'),\n",
              " Row(Employee ID=388, Store ID=34, Name='Mário Ferreira', Position='Sales Associate'),\n",
              " Row(Employee ID=389, Store ID=34, Name='Tiago Figueiredo', Position='Sales Associate'),\n",
              " Row(Employee ID=390, Store ID=34, Name='Luciana Gonçalves', Position='Sales Associate'),\n",
              " Row(Employee ID=391, Store ID=34, Name='Guilherme Loureiro', Position='Sales Associate'),\n",
              " Row(Employee ID=392, Store ID=34, Name='Letícia Antunes', Position='Sales Associate'),\n",
              " Row(Employee ID=393, Store ID=34, Name='Leandro Jesus', Position='Sales Associate'),\n",
              " Row(Employee ID=394, Store ID=34, Name='Valentim Domingues', Position='Sales Associate'),\n",
              " Row(Employee ID=395, Store ID=35, Name='Bruna da Almeida', Position='Store Manager'),\n",
              " Row(Employee ID=396, Store ID=35, Name='Tomé Araújo', Position='Assistant Manager'),\n",
              " Row(Employee ID=397, Store ID=35, Name='Teresa Freitas', Position='Cashier'),\n",
              " Row(Employee ID=398, Store ID=35, Name='Adriana-Margarida Figueiredo', Position='Stock Clerk'),\n",
              " Row(Employee ID=399, Store ID=35, Name='Kévim Figueiredo', Position='Sales Associate'),\n",
              " Row(Employee ID=400, Store ID=35, Name='Henrique Amaral', Position='Sales Associate'),\n",
              " Row(Employee ID=401, Store ID=35, Name='Brian Rocha', Position='Sales Associate'),\n",
              " Row(Employee ID=402, Store ID=35, Name='Matilde Campos', Position='Sales Associate'),\n",
              " Row(Employee ID=403, Store ID=35, Name='Emanuel Marques', Position='Sales Associate'),\n",
              " Row(Employee ID=404, Store ID=35, Name='Violeta Gonçalves', Position='Sales Associate')]"
            ]
          },
          "metadata": {},
          "execution_count": 21
        }
      ]
    },
    {
      "cell_type": "code",
      "source": [
        "selected_colums=emp_df.select(\"Employee ID\",\"Store ID\",\"Position\")\n",
        "print(\"Selected Columns:\")\n",
        "selected_colums.show(15)"
      ],
      "metadata": {
        "id": "sl2Pcd0pFUav",
        "colab": {
          "base_uri": "https://localhost:8080/"
        },
        "outputId": "cb08e623-efb1-4f30-bd6e-df5d730d88e9"
      },
      "execution_count": 22,
      "outputs": [
        {
          "output_type": "stream",
          "name": "stdout",
          "text": [
            "Selected Columns:\n",
            "+-----------+--------+-----------------+\n",
            "|Employee ID|Store ID|         Position|\n",
            "+-----------+--------+-----------------+\n",
            "|          1|       1|    Store Manager|\n",
            "|          2|       1|Assistant Manager|\n",
            "|          3|       1|          Cashier|\n",
            "|          4|       1|      Stock Clerk|\n",
            "|          5|       1|  Sales Associate|\n",
            "|          6|       1|  Sales Associate|\n",
            "|          7|       1|  Sales Associate|\n",
            "|          8|       1|  Sales Associate|\n",
            "|          9|       1|  Sales Associate|\n",
            "|         10|       1|  Sales Associate|\n",
            "|         11|       1|  Sales Associate|\n",
            "|         12|       1|  Sales Associate|\n",
            "|         13|       1|  Sales Associate|\n",
            "|         14|       2|    Store Manager|\n",
            "|         15|       2|Assistant Manager|\n",
            "+-----------+--------+-----------------+\n",
            "only showing top 15 rows\n",
            "\n"
          ]
        }
      ]
    },
    {
      "cell_type": "code",
      "source": [
        "filtered_df=emp_df.filter(emp_df[\"Store ID\"]==2)\n",
        "print(\"filtered Data:\" ,filtered_df.count())\n",
        "filtered_df.show()"
      ],
      "metadata": {
        "id": "l9jR13aDFcd-",
        "colab": {
          "base_uri": "https://localhost:8080/"
        },
        "outputId": "278dae6a-7845-48ba-c444-657379ab0553"
      },
      "execution_count": 23,
      "outputs": [
        {
          "output_type": "stream",
          "name": "stdout",
          "text": [
            "filtered Data: 11\n",
            "+-----------+--------+--------------------+-----------------+\n",
            "|Employee ID|Store ID|                Name|         Position|\n",
            "+-----------+--------+--------------------+-----------------+\n",
            "|         14|       2|         Susan Brown|    Store Manager|\n",
            "|         15|       2|         Sean Miller|Assistant Manager|\n",
            "|         16|       2|Christopher Domin...|          Cashier|\n",
            "|         17|       2|          Lisa Mason|      Stock Clerk|\n",
            "|         18|       2|         David Pitts|  Sales Associate|\n",
            "|         19|       2|       Lance Schultz|  Sales Associate|\n",
            "|         20|       2|       Caroline Hall|  Sales Associate|\n",
            "|         21|       2|      Heather Wilson|  Sales Associate|\n",
            "|         22|       2|       Allison Young|  Sales Associate|\n",
            "|         23|       2|     Kathleen Thomas|  Sales Associate|\n",
            "|         24|       2|        Carl Walters|  Sales Associate|\n",
            "+-----------+--------+--------------------+-----------------+\n",
            "\n"
          ]
        }
      ]
    },
    {
      "cell_type": "code",
      "source": [
        "dropped_df=emp_df.drop(\"Name\")\n",
        "print(\"Dropped Data:\",dropped_df.count())\n"
      ],
      "metadata": {
        "id": "JpdImuadGNv9",
        "colab": {
          "base_uri": "https://localhost:8080/"
        },
        "outputId": "bb25672c-ee0f-4ff5-e765-b7e82329aa98"
      },
      "execution_count": 24,
      "outputs": [
        {
          "output_type": "stream",
          "name": "stdout",
          "text": [
            "Dropped Data: 404\n"
          ]
        }
      ]
    },
    {
      "cell_type": "code",
      "source": [
        "dropped_df.show()"
      ],
      "metadata": {
        "colab": {
          "base_uri": "https://localhost:8080/"
        },
        "id": "eu6_WaNObq4Q",
        "outputId": "4ef5569e-564e-4dfa-f0d6-24490665652a"
      },
      "execution_count": 25,
      "outputs": [
        {
          "output_type": "stream",
          "name": "stdout",
          "text": [
            "+-----------+--------+-----------------+\n",
            "|Employee ID|Store ID|         Position|\n",
            "+-----------+--------+-----------------+\n",
            "|          1|       1|    Store Manager|\n",
            "|          2|       1|Assistant Manager|\n",
            "|          3|       1|          Cashier|\n",
            "|          4|       1|      Stock Clerk|\n",
            "|          5|       1|  Sales Associate|\n",
            "|          6|       1|  Sales Associate|\n",
            "|          7|       1|  Sales Associate|\n",
            "|          8|       1|  Sales Associate|\n",
            "|          9|       1|  Sales Associate|\n",
            "|         10|       1|  Sales Associate|\n",
            "|         11|       1|  Sales Associate|\n",
            "|         12|       1|  Sales Associate|\n",
            "|         13|       1|  Sales Associate|\n",
            "|         14|       2|    Store Manager|\n",
            "|         15|       2|Assistant Manager|\n",
            "|         16|       2|          Cashier|\n",
            "|         17|       2|      Stock Clerk|\n",
            "|         18|       2|  Sales Associate|\n",
            "|         19|       2|  Sales Associate|\n",
            "|         20|       2|  Sales Associate|\n",
            "+-----------+--------+-----------------+\n",
            "only showing top 20 rows\n",
            "\n"
          ]
        }
      ]
    }
  ]
}