{
 "cells": [
  {
   "cell_type": "code",
   "execution_count": 0,
   "metadata": {
    "application/vnd.databricks.v1+cell": {
     "cellMetadata": {
      "byteLimit": 2048000,
      "rowLimit": 10000
     },
     "inputWidgets": {},
     "nuid": "50efb036-be90-4cf4-96e7-bc0ca8c67cdc",
     "showTitle": false,
     "tableResultSettingsMap": {},
     "title": ""
    }
   },
   "outputs": [],
   "source": [
    "import requests\n",
    "from pyspark.sql import DataFrame"
   ]
  },
  {
   "cell_type": "code",
   "execution_count": 0,
   "metadata": {
    "application/vnd.databricks.v1+cell": {
     "cellMetadata": {
      "byteLimit": 2048000,
      "rowLimit": 10000
     },
     "inputWidgets": {},
     "nuid": "e7be05f8-39c8-4065-a102-67918126c923",
     "showTitle": false,
     "tableResultSettingsMap": {},
     "title": ""
    }
   },
   "outputs": [],
   "source": [
    "with requests.get('https://datahub.io/core/glacier-mass-balance/r/glaciers.csv', stream=True) as r:\n",
    "  with open('/dbfs/glacier.csv', 'wb') as f:\n",
    "    for chunk in r.iter_content(chunk_size=8192):\n",
    "      f.write(chunk)"
   ]
  },
  {
   "cell_type": "code",
   "execution_count": 0,
   "metadata": {
    "application/vnd.databricks.v1+cell": {
     "cellMetadata": {
      "byteLimit": 2048000,
      "rowLimit": 10000
     },
     "inputWidgets": {},
     "nuid": "1da287fe-5fc1-46c9-9312-930d086c5893",
     "showTitle": false,
     "tableResultSettingsMap": {},
     "title": ""
    }
   },
   "outputs": [],
   "source": [
    "def get_data(url:str):\n",
    "  filename = url.split('/')[-1]\n",
    "  with requests.get('https://datahub.io/core/glacier-mass-balance/r/glaciers.csv', stream=True) as r:\n",
    "    with open(\"/dbfs/{}\".format(filename), 'wb') as f:\n",
    "      for chunk in r.iter_content(chunk_size=8192):\n",
    "        f.write(chunk)\n",
    "  return filename"
   ]
  },
  {
   "cell_type": "code",
   "execution_count": 0,
   "metadata": {
    "application/vnd.databricks.v1+cell": {
     "cellMetadata": {
      "byteLimit": 2048000,
      "rowLimit": 10000
     },
     "inputWidgets": {},
     "nuid": "bf3f8464-3fb3-44fb-85ab-b09d546782ca",
     "showTitle": false,
     "tableResultSettingsMap": {},
     "title": ""
    }
   },
   "outputs": [
    {
     "output_type": "stream",
     "name": "stdout",
     "output_type": "stream",
     "text": [
      "Out[33]: 'glaciers.csv'"
     ]
    }
   ],
   "source": [
    "file_name = get_data('https://datahub.io/core/glacier-mass-balance/r/glaciers.csv')\n",
    "file_name"
   ]
  },
  {
   "cell_type": "code",
   "execution_count": 0,
   "metadata": {
    "application/vnd.databricks.v1+cell": {
     "cellMetadata": {
      "byteLimit": 2048000,
      "rowLimit": 10000
     },
     "inputWidgets": {},
     "nuid": "836d0cdd-7977-4264-85d6-a5fbc57a6412",
     "showTitle": false,
     "tableResultSettingsMap": {},
     "title": ""
    }
   },
   "outputs": [
    {
     "output_type": "stream",
     "name": "stdout",
     "output_type": "stream",
     "text": [
      "Out[34]: DataFrame[Year: string, Mean cumulative mass balance: string, Number of observations: string]"
     ]
    }
   ],
   "source": [
    "spark.read.format(\"csv\").option(\"header\",\"true\").load(\"file:/dbfs/glacier.csv\")"
   ]
  },
  {
   "cell_type": "code",
   "execution_count": 0,
   "metadata": {
    "application/vnd.databricks.v1+cell": {
     "cellMetadata": {
      "byteLimit": 2048000,
      "rowLimit": 10000
     },
     "inputWidgets": {},
     "nuid": "1928bb05-7850-4113-9285-2b6f11b76de3",
     "showTitle": false,
     "tableResultSettingsMap": {},
     "title": ""
    }
   },
   "outputs": [
    {
     "output_type": "stream",
     "name": "stdout",
     "output_type": "stream",
     "text": [
      "Out[35]: 'csv'"
     ]
    }
   ],
   "source": [
    "file_format = file_name.split(\".\")[-1]\n",
    "file_format"
   ]
  },
  {
   "cell_type": "code",
   "execution_count": 0,
   "metadata": {
    "application/vnd.databricks.v1+cell": {
     "cellMetadata": {
      "byteLimit": 2048000,
      "rowLimit": 10000
     },
     "inputWidgets": {},
     "nuid": "76b5cff0-4272-442b-97c7-875e2a427c8f",
     "showTitle": false,
     "tableResultSettingsMap": {},
     "title": ""
    }
   },
   "outputs": [],
   "source": [
    "def read_data(file_name):\n",
    "  if file_format == 'csv':\n",
    "    df = spark.read.format(file_format).option(\"header\",\"true\").load(\"file:/dbfs/{}\".format(file_name))\n",
    "  elif file_format == 'json':\n",
    "    try:\n",
    "      df = spark.read.format(file_format).load(\"file:/dbfs/{}\".format(file_name))\n",
    "    except:\n",
    "      df = spark.read.format(file_format).option(\"multiline\",\"true\").load(\"file:/dbfs/{}\".format(file_name))\n",
    "  elif file_format == 'parquet':\n",
    "    df = spark,read.format(file_format).load(\"file:/dbfs/{}\".format(file_name))\n",
    "  elif file_format == 'txt':\n",
    "    df = spark.read.text(\"file:/dbfs/{}\".format(file_name))\n",
    "  return df"
   ]
  },
  {
   "cell_type": "code",
   "execution_count": 0,
   "metadata": {
    "application/vnd.databricks.v1+cell": {
     "cellMetadata": {
      "byteLimit": 2048000,
      "rowLimit": 10000
     },
     "inputWidgets": {},
     "nuid": "6feef209-f503-4390-8596-d7a1b5a59c58",
     "showTitle": false,
     "tableResultSettingsMap": {},
     "title": ""
    }
   },
   "outputs": [
    {
     "output_type": "display_data",
     "data": {
      "text/html": [
       "<style scoped>\n",
       "  .table-result-container {\n",
       "    max-height: 300px;\n",
       "    overflow: auto;\n",
       "  }\n",
       "  table, th, td {\n",
       "    border: 1px solid black;\n",
       "    border-collapse: collapse;\n",
       "  }\n",
       "  th, td {\n",
       "    padding: 5px;\n",
       "  }\n",
       "  th {\n",
       "    text-align: left;\n",
       "  }\n",
       "</style><div class='table-result-container'><table class='table-result'><thead style='background-color: white'><tr><th>Year</th><th>Mean cumulative mass balance</th><th>Number of observations</th></tr></thead><tbody><tr><td>1956</td><td>0</td><td>null</td></tr><tr><td>1957</td><td>-0.094</td><td>12</td></tr><tr><td>1958</td><td>-0.963</td><td>12</td></tr><tr><td>1959</td><td>-1.431</td><td>13</td></tr><tr><td>1960</td><td>-2.008</td><td>15</td></tr><tr><td>1961</td><td>-2.445</td><td>16</td></tr><tr><td>1962</td><td>-2.648</td><td>20</td></tr><tr><td>1963</td><td>-3</td><td>23</td></tr><tr><td>1964</td><td>-2.682</td><td>23</td></tr><tr><td>1965</td><td>-2.524</td><td>25</td></tr><tr><td>1966</td><td>-2.75</td><td>28</td></tr><tr><td>1967</td><td>-2.869</td><td>30</td></tr><tr><td>1968</td><td>-2.939</td><td>33</td></tr><tr><td>1969</td><td>-3.428</td><td>34</td></tr><tr><td>1970</td><td>-3.715</td><td>35</td></tr><tr><td>1971</td><td>-3.946</td><td>35</td></tr><tr><td>1972</td><td>-4.225</td><td>35</td></tr><tr><td>1973</td><td>-4.402</td><td>35</td></tr><tr><td>1974</td><td>-4.589</td><td>35</td></tr><tr><td>1975</td><td>-4.815</td><td>36</td></tr><tr><td>1976</td><td>-4.998</td><td>38</td></tr><tr><td>1977</td><td>-5.255</td><td>39</td></tr><tr><td>1978</td><td>-5.443</td><td>39</td></tr><tr><td>1979</td><td>-5.86</td><td>39</td></tr><tr><td>1980</td><td>-5.983</td><td>40</td></tr><tr><td>1981</td><td>-6.174</td><td>39</td></tr><tr><td>1982</td><td>-6.662</td><td>41</td></tr><tr><td>1983</td><td>-6.535</td><td>42</td></tr><tr><td>1984</td><td>-6.794</td><td>45</td></tr><tr><td>1985</td><td>-7.102</td><td>45</td></tr><tr><td>1986</td><td>-7.583</td><td>47</td></tr><tr><td>1987</td><td>-7.487</td><td>46</td></tr><tr><td>1988</td><td>-7.561</td><td>47</td></tr><tr><td>1989</td><td>-7.789</td><td>51</td></tr><tr><td>1990</td><td>-8.274</td><td>54</td></tr><tr><td>1991</td><td>-8.777</td><td>55</td></tr><tr><td>1992</td><td>-8.893</td><td>60</td></tr><tr><td>1993</td><td>-9.026</td><td>61</td></tr><tr><td>1994</td><td>-9.557</td><td>60</td></tr><tr><td>1995</td><td>-10.016</td><td>59</td></tr><tr><td>1996</td><td>-10.489</td><td>59</td></tr><tr><td>1997</td><td>-11.13</td><td>59</td></tr><tr><td>1998</td><td>-11.852</td><td>59</td></tr><tr><td>1999</td><td>-12.551</td><td>57</td></tr><tr><td>2000</td><td>-12.91</td><td>57</td></tr><tr><td>2001</td><td>-13.181</td><td>57</td></tr><tr><td>2002</td><td>-13.609</td><td>57</td></tr><tr><td>2003</td><td>-14.134</td><td>57</td></tr><tr><td>2004</td><td>-14.866</td><td>55</td></tr><tr><td>2005</td><td>-15.683</td><td>58</td></tr><tr><td>2006</td><td>-16.398</td><td>58</td></tr><tr><td>2007</td><td>-16.938</td><td>57</td></tr><tr><td>2008</td><td>-17.313</td><td>58</td></tr><tr><td>2009</td><td>-17.765</td><td>58</td></tr><tr><td>2010</td><td>-18.614</td><td>58</td></tr><tr><td>2011</td><td>-19.351</td><td>59</td></tr><tr><td>2012</td><td>-20.076</td><td>60</td></tr><tr><td>2013</td><td>-20.788</td><td>56</td></tr><tr><td>2014</td><td>-21.489</td><td>56</td></tr><tr><td>2015</td><td>-22.293</td><td>60</td></tr><tr><td>2016</td><td>-23.276</td><td>60</td></tr><tr><td>2017</td><td>-23.928</td><td>60</td></tr><tr><td>2018</td><td>-24.865</td><td>60</td></tr><tr><td>2019</td><td>-25.859</td><td>61</td></tr><tr><td>2020</td><td>-26.742</td><td>61</td></tr><tr><td>2021</td><td>-27.419</td><td>61</td></tr><tr><td>2022</td><td>-28.509</td><td>60</td></tr><tr><td>2023</td><td>-29.738</td><td>53</td></tr></tbody></table></div>"
      ]
     },
     "metadata": {
      "application/vnd.databricks.v1+output": {
       "addedWidgets": {},
       "aggData": [],
       "aggError": "",
       "aggOverflow": false,
       "aggSchema": [],
       "aggSeriesLimitReached": false,
       "aggType": "",
       "arguments": {},
       "columnCustomDisplayInfos": {},
       "data": [
        [
         "1956",
         "0",
         null
        ],
        [
         "1957",
         "-0.094",
         "12"
        ],
        [
         "1958",
         "-0.963",
         "12"
        ],
        [
         "1959",
         "-1.431",
         "13"
        ],
        [
         "1960",
         "-2.008",
         "15"
        ],
        [
         "1961",
         "-2.445",
         "16"
        ],
        [
         "1962",
         "-2.648",
         "20"
        ],
        [
         "1963",
         "-3",
         "23"
        ],
        [
         "1964",
         "-2.682",
         "23"
        ],
        [
         "1965",
         "-2.524",
         "25"
        ],
        [
         "1966",
         "-2.75",
         "28"
        ],
        [
         "1967",
         "-2.869",
         "30"
        ],
        [
         "1968",
         "-2.939",
         "33"
        ],
        [
         "1969",
         "-3.428",
         "34"
        ],
        [
         "1970",
         "-3.715",
         "35"
        ],
        [
         "1971",
         "-3.946",
         "35"
        ],
        [
         "1972",
         "-4.225",
         "35"
        ],
        [
         "1973",
         "-4.402",
         "35"
        ],
        [
         "1974",
         "-4.589",
         "35"
        ],
        [
         "1975",
         "-4.815",
         "36"
        ],
        [
         "1976",
         "-4.998",
         "38"
        ],
        [
         "1977",
         "-5.255",
         "39"
        ],
        [
         "1978",
         "-5.443",
         "39"
        ],
        [
         "1979",
         "-5.86",
         "39"
        ],
        [
         "1980",
         "-5.983",
         "40"
        ],
        [
         "1981",
         "-6.174",
         "39"
        ],
        [
         "1982",
         "-6.662",
         "41"
        ],
        [
         "1983",
         "-6.535",
         "42"
        ],
        [
         "1984",
         "-6.794",
         "45"
        ],
        [
         "1985",
         "-7.102",
         "45"
        ],
        [
         "1986",
         "-7.583",
         "47"
        ],
        [
         "1987",
         "-7.487",
         "46"
        ],
        [
         "1988",
         "-7.561",
         "47"
        ],
        [
         "1989",
         "-7.789",
         "51"
        ],
        [
         "1990",
         "-8.274",
         "54"
        ],
        [
         "1991",
         "-8.777",
         "55"
        ],
        [
         "1992",
         "-8.893",
         "60"
        ],
        [
         "1993",
         "-9.026",
         "61"
        ],
        [
         "1994",
         "-9.557",
         "60"
        ],
        [
         "1995",
         "-10.016",
         "59"
        ],
        [
         "1996",
         "-10.489",
         "59"
        ],
        [
         "1997",
         "-11.13",
         "59"
        ],
        [
         "1998",
         "-11.852",
         "59"
        ],
        [
         "1999",
         "-12.551",
         "57"
        ],
        [
         "2000",
         "-12.91",
         "57"
        ],
        [
         "2001",
         "-13.181",
         "57"
        ],
        [
         "2002",
         "-13.609",
         "57"
        ],
        [
         "2003",
         "-14.134",
         "57"
        ],
        [
         "2004",
         "-14.866",
         "55"
        ],
        [
         "2005",
         "-15.683",
         "58"
        ],
        [
         "2006",
         "-16.398",
         "58"
        ],
        [
         "2007",
         "-16.938",
         "57"
        ],
        [
         "2008",
         "-17.313",
         "58"
        ],
        [
         "2009",
         "-17.765",
         "58"
        ],
        [
         "2010",
         "-18.614",
         "58"
        ],
        [
         "2011",
         "-19.351",
         "59"
        ],
        [
         "2012",
         "-20.076",
         "60"
        ],
        [
         "2013",
         "-20.788",
         "56"
        ],
        [
         "2014",
         "-21.489",
         "56"
        ],
        [
         "2015",
         "-22.293",
         "60"
        ],
        [
         "2016",
         "-23.276",
         "60"
        ],
        [
         "2017",
         "-23.928",
         "60"
        ],
        [
         "2018",
         "-24.865",
         "60"
        ],
        [
         "2019",
         "-25.859",
         "61"
        ],
        [
         "2020",
         "-26.742",
         "61"
        ],
        [
         "2021",
         "-27.419",
         "61"
        ],
        [
         "2022",
         "-28.509",
         "60"
        ],
        [
         "2023",
         "-29.738",
         "53"
        ]
       ],
       "datasetInfos": [],
       "dbfsResultPath": null,
       "isJsonSchema": true,
       "metadata": {},
       "overflow": false,
       "plotOptions": {
        "customPlotOptions": {},
        "displayType": "table",
        "pivotAggregation": null,
        "pivotColumns": null,
        "xColumns": null,
        "yColumns": null
       },
       "removedWidgets": [],
       "schema": [
        {
         "metadata": "{}",
         "name": "Year",
         "type": "\"string\""
        },
        {
         "metadata": "{}",
         "name": "Mean cumulative mass balance",
         "type": "\"string\""
        },
        {
         "metadata": "{}",
         "name": "Number of observations",
         "type": "\"string\""
        }
       ],
       "type": "table"
      }
     },
     "output_type": "display_data"
    }
   ],
   "source": [
    "df = read_data(file_name)\n",
    "display(df)"
   ]
  },
  {
   "cell_type": "code",
   "execution_count": 0,
   "metadata": {
    "application/vnd.databricks.v1+cell": {
     "cellMetadata": {
      "byteLimit": 2048000,
      "rowLimit": 10000
     },
     "inputWidgets": {},
     "nuid": "b3b10c8c-4538-45de-8de3-5e0da5f8d34a",
     "showTitle": false,
     "tableResultSettingsMap": {},
     "title": ""
    }
   },
   "outputs": [],
   "source": [
    "df.createOrReplaceTempView(\"df\")"
   ]
  },
  {
   "cell_type": "code",
   "execution_count": 0,
   "metadata": {
    "application/vnd.databricks.v1+cell": {
     "cellMetadata": {
      "byteLimit": 2048000,
      "implicitDf": true,
      "rowLimit": 10000
     },
     "inputWidgets": {},
     "nuid": "f33124c2-c0d9-4879-b71c-77988e24d433",
     "showTitle": false,
     "tableResultSettingsMap": {},
     "title": ""
    }
   },
   "outputs": [
    {
     "output_type": "display_data",
     "data": {
      "text/html": [
       "<style scoped>\n",
       "  .table-result-container {\n",
       "    max-height: 300px;\n",
       "    overflow: auto;\n",
       "  }\n",
       "  table, th, td {\n",
       "    border: 1px solid black;\n",
       "    border-collapse: collapse;\n",
       "  }\n",
       "  th, td {\n",
       "    padding: 5px;\n",
       "  }\n",
       "  th {\n",
       "    text-align: left;\n",
       "  }\n",
       "</style><div class='table-result-container'><table class='table-result'><thead style='background-color: white'><tr><th>Year</th><th>Mean cumulative mass balance</th><th>Number of observations</th></tr></thead><tbody><tr><td>1956</td><td>0</td><td>null</td></tr><tr><td>1957</td><td>-0.094</td><td>12</td></tr><tr><td>1958</td><td>-0.963</td><td>12</td></tr><tr><td>1959</td><td>-1.431</td><td>13</td></tr><tr><td>1960</td><td>-2.008</td><td>15</td></tr><tr><td>1961</td><td>-2.445</td><td>16</td></tr><tr><td>1962</td><td>-2.648</td><td>20</td></tr><tr><td>1963</td><td>-3</td><td>23</td></tr><tr><td>1964</td><td>-2.682</td><td>23</td></tr><tr><td>1965</td><td>-2.524</td><td>25</td></tr><tr><td>1966</td><td>-2.75</td><td>28</td></tr><tr><td>1967</td><td>-2.869</td><td>30</td></tr><tr><td>1968</td><td>-2.939</td><td>33</td></tr><tr><td>1969</td><td>-3.428</td><td>34</td></tr><tr><td>1970</td><td>-3.715</td><td>35</td></tr><tr><td>1971</td><td>-3.946</td><td>35</td></tr><tr><td>1972</td><td>-4.225</td><td>35</td></tr><tr><td>1973</td><td>-4.402</td><td>35</td></tr><tr><td>1974</td><td>-4.589</td><td>35</td></tr><tr><td>1975</td><td>-4.815</td><td>36</td></tr><tr><td>1976</td><td>-4.998</td><td>38</td></tr><tr><td>1977</td><td>-5.255</td><td>39</td></tr><tr><td>1978</td><td>-5.443</td><td>39</td></tr><tr><td>1979</td><td>-5.86</td><td>39</td></tr><tr><td>1980</td><td>-5.983</td><td>40</td></tr><tr><td>1981</td><td>-6.174</td><td>39</td></tr><tr><td>1982</td><td>-6.662</td><td>41</td></tr><tr><td>1983</td><td>-6.535</td><td>42</td></tr><tr><td>1984</td><td>-6.794</td><td>45</td></tr><tr><td>1985</td><td>-7.102</td><td>45</td></tr><tr><td>1986</td><td>-7.583</td><td>47</td></tr><tr><td>1987</td><td>-7.487</td><td>46</td></tr><tr><td>1988</td><td>-7.561</td><td>47</td></tr><tr><td>1989</td><td>-7.789</td><td>51</td></tr><tr><td>1990</td><td>-8.274</td><td>54</td></tr><tr><td>1991</td><td>-8.777</td><td>55</td></tr><tr><td>1992</td><td>-8.893</td><td>60</td></tr><tr><td>1993</td><td>-9.026</td><td>61</td></tr><tr><td>1994</td><td>-9.557</td><td>60</td></tr><tr><td>1995</td><td>-10.016</td><td>59</td></tr><tr><td>1996</td><td>-10.489</td><td>59</td></tr><tr><td>1997</td><td>-11.13</td><td>59</td></tr><tr><td>1998</td><td>-11.852</td><td>59</td></tr><tr><td>1999</td><td>-12.551</td><td>57</td></tr><tr><td>2000</td><td>-12.91</td><td>57</td></tr><tr><td>2001</td><td>-13.181</td><td>57</td></tr><tr><td>2002</td><td>-13.609</td><td>57</td></tr><tr><td>2003</td><td>-14.134</td><td>57</td></tr><tr><td>2004</td><td>-14.866</td><td>55</td></tr><tr><td>2005</td><td>-15.683</td><td>58</td></tr><tr><td>2006</td><td>-16.398</td><td>58</td></tr><tr><td>2007</td><td>-16.938</td><td>57</td></tr><tr><td>2008</td><td>-17.313</td><td>58</td></tr><tr><td>2009</td><td>-17.765</td><td>58</td></tr><tr><td>2010</td><td>-18.614</td><td>58</td></tr><tr><td>2011</td><td>-19.351</td><td>59</td></tr><tr><td>2012</td><td>-20.076</td><td>60</td></tr><tr><td>2013</td><td>-20.788</td><td>56</td></tr><tr><td>2014</td><td>-21.489</td><td>56</td></tr><tr><td>2015</td><td>-22.293</td><td>60</td></tr><tr><td>2016</td><td>-23.276</td><td>60</td></tr><tr><td>2017</td><td>-23.928</td><td>60</td></tr><tr><td>2018</td><td>-24.865</td><td>60</td></tr><tr><td>2019</td><td>-25.859</td><td>61</td></tr><tr><td>2020</td><td>-26.742</td><td>61</td></tr><tr><td>2021</td><td>-27.419</td><td>61</td></tr><tr><td>2022</td><td>-28.509</td><td>60</td></tr><tr><td>2023</td><td>-29.738</td><td>53</td></tr></tbody></table></div>"
      ]
     },
     "metadata": {
      "application/vnd.databricks.v1+output": {
       "addedWidgets": {},
       "aggData": [],
       "aggError": "",
       "aggOverflow": false,
       "aggSchema": [],
       "aggSeriesLimitReached": false,
       "aggType": "",
       "arguments": {},
       "columnCustomDisplayInfos": {},
       "data": [
        [
         "1956",
         "0",
         null
        ],
        [
         "1957",
         "-0.094",
         "12"
        ],
        [
         "1958",
         "-0.963",
         "12"
        ],
        [
         "1959",
         "-1.431",
         "13"
        ],
        [
         "1960",
         "-2.008",
         "15"
        ],
        [
         "1961",
         "-2.445",
         "16"
        ],
        [
         "1962",
         "-2.648",
         "20"
        ],
        [
         "1963",
         "-3",
         "23"
        ],
        [
         "1964",
         "-2.682",
         "23"
        ],
        [
         "1965",
         "-2.524",
         "25"
        ],
        [
         "1966",
         "-2.75",
         "28"
        ],
        [
         "1967",
         "-2.869",
         "30"
        ],
        [
         "1968",
         "-2.939",
         "33"
        ],
        [
         "1969",
         "-3.428",
         "34"
        ],
        [
         "1970",
         "-3.715",
         "35"
        ],
        [
         "1971",
         "-3.946",
         "35"
        ],
        [
         "1972",
         "-4.225",
         "35"
        ],
        [
         "1973",
         "-4.402",
         "35"
        ],
        [
         "1974",
         "-4.589",
         "35"
        ],
        [
         "1975",
         "-4.815",
         "36"
        ],
        [
         "1976",
         "-4.998",
         "38"
        ],
        [
         "1977",
         "-5.255",
         "39"
        ],
        [
         "1978",
         "-5.443",
         "39"
        ],
        [
         "1979",
         "-5.86",
         "39"
        ],
        [
         "1980",
         "-5.983",
         "40"
        ],
        [
         "1981",
         "-6.174",
         "39"
        ],
        [
         "1982",
         "-6.662",
         "41"
        ],
        [
         "1983",
         "-6.535",
         "42"
        ],
        [
         "1984",
         "-6.794",
         "45"
        ],
        [
         "1985",
         "-7.102",
         "45"
        ],
        [
         "1986",
         "-7.583",
         "47"
        ],
        [
         "1987",
         "-7.487",
         "46"
        ],
        [
         "1988",
         "-7.561",
         "47"
        ],
        [
         "1989",
         "-7.789",
         "51"
        ],
        [
         "1990",
         "-8.274",
         "54"
        ],
        [
         "1991",
         "-8.777",
         "55"
        ],
        [
         "1992",
         "-8.893",
         "60"
        ],
        [
         "1993",
         "-9.026",
         "61"
        ],
        [
         "1994",
         "-9.557",
         "60"
        ],
        [
         "1995",
         "-10.016",
         "59"
        ],
        [
         "1996",
         "-10.489",
         "59"
        ],
        [
         "1997",
         "-11.13",
         "59"
        ],
        [
         "1998",
         "-11.852",
         "59"
        ],
        [
         "1999",
         "-12.551",
         "57"
        ],
        [
         "2000",
         "-12.91",
         "57"
        ],
        [
         "2001",
         "-13.181",
         "57"
        ],
        [
         "2002",
         "-13.609",
         "57"
        ],
        [
         "2003",
         "-14.134",
         "57"
        ],
        [
         "2004",
         "-14.866",
         "55"
        ],
        [
         "2005",
         "-15.683",
         "58"
        ],
        [
         "2006",
         "-16.398",
         "58"
        ],
        [
         "2007",
         "-16.938",
         "57"
        ],
        [
         "2008",
         "-17.313",
         "58"
        ],
        [
         "2009",
         "-17.765",
         "58"
        ],
        [
         "2010",
         "-18.614",
         "58"
        ],
        [
         "2011",
         "-19.351",
         "59"
        ],
        [
         "2012",
         "-20.076",
         "60"
        ],
        [
         "2013",
         "-20.788",
         "56"
        ],
        [
         "2014",
         "-21.489",
         "56"
        ],
        [
         "2015",
         "-22.293",
         "60"
        ],
        [
         "2016",
         "-23.276",
         "60"
        ],
        [
         "2017",
         "-23.928",
         "60"
        ],
        [
         "2018",
         "-24.865",
         "60"
        ],
        [
         "2019",
         "-25.859",
         "61"
        ],
        [
         "2020",
         "-26.742",
         "61"
        ],
        [
         "2021",
         "-27.419",
         "61"
        ],
        [
         "2022",
         "-28.509",
         "60"
        ],
        [
         "2023",
         "-29.738",
         "53"
        ]
       ],
       "datasetInfos": [],
       "dbfsResultPath": null,
       "isJsonSchema": true,
       "metadata": {},
       "overflow": false,
       "plotOptions": {
        "customPlotOptions": {},
        "displayType": "table",
        "pivotAggregation": null,
        "pivotColumns": null,
        "xColumns": null,
        "yColumns": null
       },
       "removedWidgets": [],
       "schema": [
        {
         "metadata": "{}",
         "name": "Year",
         "type": "\"string\""
        },
        {
         "metadata": "{}",
         "name": "Mean cumulative mass balance",
         "type": "\"string\""
        },
        {
         "metadata": "{}",
         "name": "Number of observations",
         "type": "\"string\""
        }
       ],
       "type": "table"
      }
     },
     "output_type": "display_data"
    }
   ],
   "source": [
    "%sql\n",
    "select * from df"
   ]
  },
  {
   "cell_type": "code",
   "execution_count": 0,
   "metadata": {
    "application/vnd.databricks.v1+cell": {
     "cellMetadata": {
      "byteLimit": 2048000,
      "implicitDf": true,
      "rowLimit": 10000
     },
     "inputWidgets": {},
     "nuid": "fd134489-9758-4ca1-8b08-f6abf639fcc2",
     "showTitle": false,
     "tableResultSettingsMap": {},
     "title": ""
    }
   },
   "outputs": [
    {
     "output_type": "display_data",
     "data": {
      "text/html": [
       "<style scoped>\n",
       "  .table-result-container {\n",
       "    max-height: 300px;\n",
       "    overflow: auto;\n",
       "  }\n",
       "  table, th, td {\n",
       "    border: 1px solid black;\n",
       "    border-collapse: collapse;\n",
       "  }\n",
       "  th, td {\n",
       "    padding: 5px;\n",
       "  }\n",
       "  th {\n",
       "    text-align: left;\n",
       "  }\n",
       "</style><div class='table-result-container'><table class='table-result'><thead style='background-color: white'><tr></tr></thead><tbody></tbody></table></div>"
      ]
     },
     "metadata": {
      "application/vnd.databricks.v1+output": {
       "addedWidgets": {},
       "aggData": [],
       "aggError": "",
       "aggOverflow": false,
       "aggSchema": [],
       "aggSeriesLimitReached": false,
       "aggType": "",
       "arguments": {},
       "columnCustomDisplayInfos": {},
       "data": [],
       "datasetInfos": [],
       "dbfsResultPath": null,
       "isJsonSchema": true,
       "metadata": {},
       "overflow": false,
       "plotOptions": {
        "customPlotOptions": {},
        "displayType": "table",
        "pivotAggregation": null,
        "pivotColumns": null,
        "xColumns": null,
        "yColumns": null
       },
       "removedWidgets": [],
       "schema": [],
       "type": "table"
      }
     },
     "output_type": "display_data"
    }
   ],
   "source": [
    "%sql\n",
    "create or replace temp view nintys as select * from df where Year like '19%' order by Year asc;\n",
    "create or replace temp view modern as select * from df where Year like '20%' order by Year asc;"
   ]
  },
  {
   "cell_type": "code",
   "execution_count": 0,
   "metadata": {
    "application/vnd.databricks.v1+cell": {
     "cellMetadata": {
      "byteLimit": 2048000,
      "rowLimit": 10000
     },
     "inputWidgets": {},
     "nuid": "1819f670-e023-4512-9a90-7225896da53a",
     "showTitle": false,
     "tableResultSettingsMap": {},
     "title": ""
    }
   },
   "outputs": [],
   "source": [
    "nintys_df = spark.sql(\"select * from nintys\")\n",
    "modern_df = spark.sql(\"select * from modern\")"
   ]
  },
  {
   "cell_type": "code",
   "execution_count": 0,
   "metadata": {
    "application/vnd.databricks.v1+cell": {
     "cellMetadata": {
      "byteLimit": 2048000,
      "rowLimit": 10000
     },
     "inputWidgets": {},
     "nuid": "94500380-d52f-453c-97d5-41c2a4df09e8",
     "showTitle": false,
     "tableResultSettingsMap": {},
     "title": ""
    }
   },
   "outputs": [],
   "source": [
    "\n",
    "def transform_data(df: DataFrame):\n",
    "  spark.sql(\"create or replace temp view nintys as select * from df where Year like '19%' order by Year asc;\")\n",
    "  nintys_df = spark.sql(\"select * from nintys\")\n",
    "  spark.sql(\"create or replace temp view modern as select * from df where Year like '20%' order by Year asc;\")\n",
    "  modern_df = spark.sql(\"select * from modern\")\n",
    "  return nintys_df, modern_df"
   ]
  },
  {
   "cell_type": "code",
   "execution_count": 0,
   "metadata": {
    "application/vnd.databricks.v1+cell": {
     "cellMetadata": {
      "byteLimit": 2048000,
      "rowLimit": 10000
     },
     "inputWidgets": {},
     "nuid": "4a79d3ad-7177-4380-ac00-85ba313d0907",
     "showTitle": false,
     "tableResultSettingsMap": {},
     "title": ""
    }
   },
   "outputs": [],
   "source": [
    "x, y = transform_data(df)"
   ]
  },
  {
   "cell_type": "code",
   "execution_count": 0,
   "metadata": {
    "application/vnd.databricks.v1+cell": {
     "cellMetadata": {
      "byteLimit": 2048000,
      "rowLimit": 10000
     },
     "inputWidgets": {},
     "nuid": "c371e8dc-84fa-447f-a3fd-22209f9cc35c",
     "showTitle": false,
     "tableResultSettingsMap": {},
     "title": ""
    }
   },
   "outputs": [
    {
     "output_type": "display_data",
     "data": {
      "text/html": [
       "<style scoped>\n",
       "  .table-result-container {\n",
       "    max-height: 300px;\n",
       "    overflow: auto;\n",
       "  }\n",
       "  table, th, td {\n",
       "    border: 1px solid black;\n",
       "    border-collapse: collapse;\n",
       "  }\n",
       "  th, td {\n",
       "    padding: 5px;\n",
       "  }\n",
       "  th {\n",
       "    text-align: left;\n",
       "  }\n",
       "</style><div class='table-result-container'><table class='table-result'><thead style='background-color: white'><tr><th>Year</th><th>Mean cumulative mass balance</th><th>Number of observations</th></tr></thead><tbody><tr><td>2000</td><td>-12.91</td><td>57</td></tr><tr><td>2001</td><td>-13.181</td><td>57</td></tr><tr><td>2002</td><td>-13.609</td><td>57</td></tr><tr><td>2003</td><td>-14.134</td><td>57</td></tr><tr><td>2004</td><td>-14.866</td><td>55</td></tr><tr><td>2005</td><td>-15.683</td><td>58</td></tr><tr><td>2006</td><td>-16.398</td><td>58</td></tr><tr><td>2007</td><td>-16.938</td><td>57</td></tr><tr><td>2008</td><td>-17.313</td><td>58</td></tr><tr><td>2009</td><td>-17.765</td><td>58</td></tr><tr><td>2010</td><td>-18.614</td><td>58</td></tr><tr><td>2011</td><td>-19.351</td><td>59</td></tr><tr><td>2012</td><td>-20.076</td><td>60</td></tr><tr><td>2013</td><td>-20.788</td><td>56</td></tr><tr><td>2014</td><td>-21.489</td><td>56</td></tr><tr><td>2015</td><td>-22.293</td><td>60</td></tr><tr><td>2016</td><td>-23.276</td><td>60</td></tr><tr><td>2017</td><td>-23.928</td><td>60</td></tr><tr><td>2018</td><td>-24.865</td><td>60</td></tr><tr><td>2019</td><td>-25.859</td><td>61</td></tr><tr><td>2020</td><td>-26.742</td><td>61</td></tr><tr><td>2021</td><td>-27.419</td><td>61</td></tr><tr><td>2022</td><td>-28.509</td><td>60</td></tr><tr><td>2023</td><td>-29.738</td><td>53</td></tr></tbody></table></div>"
      ]
     },
     "metadata": {
      "application/vnd.databricks.v1+output": {
       "addedWidgets": {},
       "aggData": [],
       "aggError": "",
       "aggOverflow": false,
       "aggSchema": [],
       "aggSeriesLimitReached": false,
       "aggType": "",
       "arguments": {},
       "columnCustomDisplayInfos": {},
       "data": [
        [
         "2000",
         "-12.91",
         "57"
        ],
        [
         "2001",
         "-13.181",
         "57"
        ],
        [
         "2002",
         "-13.609",
         "57"
        ],
        [
         "2003",
         "-14.134",
         "57"
        ],
        [
         "2004",
         "-14.866",
         "55"
        ],
        [
         "2005",
         "-15.683",
         "58"
        ],
        [
         "2006",
         "-16.398",
         "58"
        ],
        [
         "2007",
         "-16.938",
         "57"
        ],
        [
         "2008",
         "-17.313",
         "58"
        ],
        [
         "2009",
         "-17.765",
         "58"
        ],
        [
         "2010",
         "-18.614",
         "58"
        ],
        [
         "2011",
         "-19.351",
         "59"
        ],
        [
         "2012",
         "-20.076",
         "60"
        ],
        [
         "2013",
         "-20.788",
         "56"
        ],
        [
         "2014",
         "-21.489",
         "56"
        ],
        [
         "2015",
         "-22.293",
         "60"
        ],
        [
         "2016",
         "-23.276",
         "60"
        ],
        [
         "2017",
         "-23.928",
         "60"
        ],
        [
         "2018",
         "-24.865",
         "60"
        ],
        [
         "2019",
         "-25.859",
         "61"
        ],
        [
         "2020",
         "-26.742",
         "61"
        ],
        [
         "2021",
         "-27.419",
         "61"
        ],
        [
         "2022",
         "-28.509",
         "60"
        ],
        [
         "2023",
         "-29.738",
         "53"
        ]
       ],
       "datasetInfos": [],
       "dbfsResultPath": null,
       "isJsonSchema": true,
       "metadata": {},
       "overflow": false,
       "plotOptions": {
        "customPlotOptions": {},
        "displayType": "table",
        "pivotAggregation": null,
        "pivotColumns": null,
        "xColumns": null,
        "yColumns": null
       },
       "removedWidgets": [],
       "schema": [
        {
         "metadata": "{}",
         "name": "Year",
         "type": "\"string\""
        },
        {
         "metadata": "{}",
         "name": "Mean cumulative mass balance",
         "type": "\"string\""
        },
        {
         "metadata": "{}",
         "name": "Number of observations",
         "type": "\"string\""
        }
       ],
       "type": "table"
      }
     },
     "output_type": "display_data"
    }
   ],
   "source": [
    "display(y)"
   ]
  },
  {
   "cell_type": "code",
   "execution_count": 0,
   "metadata": {
    "application/vnd.databricks.v1+cell": {
     "cellMetadata": {
      "byteLimit": 2048000,
      "rowLimit": 10000
     },
     "inputWidgets": {},
     "nuid": "fa48462f-64a5-4ff6-a63d-ac948c88de92",
     "showTitle": false,
     "tableResultSettingsMap": {},
     "title": ""
    }
   },
   "outputs": [
    {
     "output_type": "display_data",
     "data": {
      "text/html": [
       "<style scoped>\n",
       "  .table-result-container {\n",
       "    max-height: 300px;\n",
       "    overflow: auto;\n",
       "  }\n",
       "  table, th, td {\n",
       "    border: 1px solid black;\n",
       "    border-collapse: collapse;\n",
       "  }\n",
       "  th, td {\n",
       "    padding: 5px;\n",
       "  }\n",
       "  th {\n",
       "    text-align: left;\n",
       "  }\n",
       "</style><div class='table-result-container'><table class='table-result'><thead style='background-color: white'><tr><th>Year</th><th>Mean cumulative mass balance</th><th>Number of observations</th></tr></thead><tbody><tr><td>1956</td><td>0</td><td>null</td></tr><tr><td>1957</td><td>-0.094</td><td>12</td></tr><tr><td>1958</td><td>-0.963</td><td>12</td></tr><tr><td>1959</td><td>-1.431</td><td>13</td></tr><tr><td>1960</td><td>-2.008</td><td>15</td></tr><tr><td>1961</td><td>-2.445</td><td>16</td></tr><tr><td>1962</td><td>-2.648</td><td>20</td></tr><tr><td>1963</td><td>-3</td><td>23</td></tr><tr><td>1964</td><td>-2.682</td><td>23</td></tr><tr><td>1965</td><td>-2.524</td><td>25</td></tr><tr><td>1966</td><td>-2.75</td><td>28</td></tr><tr><td>1967</td><td>-2.869</td><td>30</td></tr><tr><td>1968</td><td>-2.939</td><td>33</td></tr><tr><td>1969</td><td>-3.428</td><td>34</td></tr><tr><td>1970</td><td>-3.715</td><td>35</td></tr><tr><td>1971</td><td>-3.946</td><td>35</td></tr><tr><td>1972</td><td>-4.225</td><td>35</td></tr><tr><td>1973</td><td>-4.402</td><td>35</td></tr><tr><td>1974</td><td>-4.589</td><td>35</td></tr><tr><td>1975</td><td>-4.815</td><td>36</td></tr><tr><td>1976</td><td>-4.998</td><td>38</td></tr><tr><td>1977</td><td>-5.255</td><td>39</td></tr><tr><td>1978</td><td>-5.443</td><td>39</td></tr><tr><td>1979</td><td>-5.86</td><td>39</td></tr><tr><td>1980</td><td>-5.983</td><td>40</td></tr><tr><td>1981</td><td>-6.174</td><td>39</td></tr><tr><td>1982</td><td>-6.662</td><td>41</td></tr><tr><td>1983</td><td>-6.535</td><td>42</td></tr><tr><td>1984</td><td>-6.794</td><td>45</td></tr><tr><td>1985</td><td>-7.102</td><td>45</td></tr><tr><td>1986</td><td>-7.583</td><td>47</td></tr><tr><td>1987</td><td>-7.487</td><td>46</td></tr><tr><td>1988</td><td>-7.561</td><td>47</td></tr><tr><td>1989</td><td>-7.789</td><td>51</td></tr><tr><td>1990</td><td>-8.274</td><td>54</td></tr><tr><td>1991</td><td>-8.777</td><td>55</td></tr><tr><td>1992</td><td>-8.893</td><td>60</td></tr><tr><td>1993</td><td>-9.026</td><td>61</td></tr><tr><td>1994</td><td>-9.557</td><td>60</td></tr><tr><td>1995</td><td>-10.016</td><td>59</td></tr><tr><td>1996</td><td>-10.489</td><td>59</td></tr><tr><td>1997</td><td>-11.13</td><td>59</td></tr><tr><td>1998</td><td>-11.852</td><td>59</td></tr><tr><td>1999</td><td>-12.551</td><td>57</td></tr></tbody></table></div>"
      ]
     },
     "metadata": {
      "application/vnd.databricks.v1+output": {
       "addedWidgets": {},
       "aggData": [],
       "aggError": "",
       "aggOverflow": false,
       "aggSchema": [],
       "aggSeriesLimitReached": false,
       "aggType": "",
       "arguments": {},
       "columnCustomDisplayInfos": {},
       "data": [
        [
         "1956",
         "0",
         null
        ],
        [
         "1957",
         "-0.094",
         "12"
        ],
        [
         "1958",
         "-0.963",
         "12"
        ],
        [
         "1959",
         "-1.431",
         "13"
        ],
        [
         "1960",
         "-2.008",
         "15"
        ],
        [
         "1961",
         "-2.445",
         "16"
        ],
        [
         "1962",
         "-2.648",
         "20"
        ],
        [
         "1963",
         "-3",
         "23"
        ],
        [
         "1964",
         "-2.682",
         "23"
        ],
        [
         "1965",
         "-2.524",
         "25"
        ],
        [
         "1966",
         "-2.75",
         "28"
        ],
        [
         "1967",
         "-2.869",
         "30"
        ],
        [
         "1968",
         "-2.939",
         "33"
        ],
        [
         "1969",
         "-3.428",
         "34"
        ],
        [
         "1970",
         "-3.715",
         "35"
        ],
        [
         "1971",
         "-3.946",
         "35"
        ],
        [
         "1972",
         "-4.225",
         "35"
        ],
        [
         "1973",
         "-4.402",
         "35"
        ],
        [
         "1974",
         "-4.589",
         "35"
        ],
        [
         "1975",
         "-4.815",
         "36"
        ],
        [
         "1976",
         "-4.998",
         "38"
        ],
        [
         "1977",
         "-5.255",
         "39"
        ],
        [
         "1978",
         "-5.443",
         "39"
        ],
        [
         "1979",
         "-5.86",
         "39"
        ],
        [
         "1980",
         "-5.983",
         "40"
        ],
        [
         "1981",
         "-6.174",
         "39"
        ],
        [
         "1982",
         "-6.662",
         "41"
        ],
        [
         "1983",
         "-6.535",
         "42"
        ],
        [
         "1984",
         "-6.794",
         "45"
        ],
        [
         "1985",
         "-7.102",
         "45"
        ],
        [
         "1986",
         "-7.583",
         "47"
        ],
        [
         "1987",
         "-7.487",
         "46"
        ],
        [
         "1988",
         "-7.561",
         "47"
        ],
        [
         "1989",
         "-7.789",
         "51"
        ],
        [
         "1990",
         "-8.274",
         "54"
        ],
        [
         "1991",
         "-8.777",
         "55"
        ],
        [
         "1992",
         "-8.893",
         "60"
        ],
        [
         "1993",
         "-9.026",
         "61"
        ],
        [
         "1994",
         "-9.557",
         "60"
        ],
        [
         "1995",
         "-10.016",
         "59"
        ],
        [
         "1996",
         "-10.489",
         "59"
        ],
        [
         "1997",
         "-11.13",
         "59"
        ],
        [
         "1998",
         "-11.852",
         "59"
        ],
        [
         "1999",
         "-12.551",
         "57"
        ]
       ],
       "datasetInfos": [],
       "dbfsResultPath": null,
       "isJsonSchema": true,
       "metadata": {},
       "overflow": false,
       "plotOptions": {
        "customPlotOptions": {},
        "displayType": "table",
        "pivotAggregation": null,
        "pivotColumns": null,
        "xColumns": null,
        "yColumns": null
       },
       "removedWidgets": [],
       "schema": [
        {
         "metadata": "{}",
         "name": "Year",
         "type": "\"string\""
        },
        {
         "metadata": "{}",
         "name": "Mean cumulative mass balance",
         "type": "\"string\""
        },
        {
         "metadata": "{}",
         "name": "Number of observations",
         "type": "\"string\""
        }
       ],
       "type": "table"
      }
     },
     "output_type": "display_data"
    }
   ],
   "source": [
    "display(x)"
   ]
  },
  {
   "cell_type": "code",
   "execution_count": 0,
   "metadata": {
    "application/vnd.databricks.v1+cell": {
     "cellMetadata": {
      "byteLimit": 2048000,
      "rowLimit": 10000
     },
     "inputWidgets": {},
     "nuid": "2a84bb35-97f0-4f9e-80b4-394560c7936a",
     "showTitle": false,
     "tableResultSettingsMap": {},
     "title": ""
    }
   },
   "outputs": [
    {
     "output_type": "display_data",
     "data": {
      "text/html": [
       "<style scoped>\n",
       "  .table-result-container {\n",
       "    max-height: 300px;\n",
       "    overflow: auto;\n",
       "  }\n",
       "  table, th, td {\n",
       "    border: 1px solid black;\n",
       "    border-collapse: collapse;\n",
       "  }\n",
       "  th, td {\n",
       "    padding: 5px;\n",
       "  }\n",
       "  th {\n",
       "    text-align: left;\n",
       "  }\n",
       "</style><div class='table-result-container'><table class='table-result'><thead style='background-color: white'><tr><th>Year</th><th>Mean cumulative mass balance</th><th>Number of observations</th></tr></thead><tbody><tr><td>1956</td><td>0</td><td>null</td></tr><tr><td>1957</td><td>-0.094</td><td>12</td></tr><tr><td>1958</td><td>-0.963</td><td>12</td></tr><tr><td>1959</td><td>-1.431</td><td>13</td></tr><tr><td>1960</td><td>-2.008</td><td>15</td></tr><tr><td>1961</td><td>-2.445</td><td>16</td></tr><tr><td>1962</td><td>-2.648</td><td>20</td></tr><tr><td>1963</td><td>-3</td><td>23</td></tr><tr><td>1964</td><td>-2.682</td><td>23</td></tr><tr><td>1965</td><td>-2.524</td><td>25</td></tr><tr><td>1966</td><td>-2.75</td><td>28</td></tr><tr><td>1967</td><td>-2.869</td><td>30</td></tr><tr><td>1968</td><td>-2.939</td><td>33</td></tr><tr><td>1969</td><td>-3.428</td><td>34</td></tr><tr><td>1970</td><td>-3.715</td><td>35</td></tr><tr><td>1971</td><td>-3.946</td><td>35</td></tr><tr><td>1972</td><td>-4.225</td><td>35</td></tr><tr><td>1973</td><td>-4.402</td><td>35</td></tr><tr><td>1974</td><td>-4.589</td><td>35</td></tr><tr><td>1975</td><td>-4.815</td><td>36</td></tr><tr><td>1976</td><td>-4.998</td><td>38</td></tr><tr><td>1977</td><td>-5.255</td><td>39</td></tr><tr><td>1978</td><td>-5.443</td><td>39</td></tr><tr><td>1979</td><td>-5.86</td><td>39</td></tr><tr><td>1980</td><td>-5.983</td><td>40</td></tr><tr><td>1981</td><td>-6.174</td><td>39</td></tr><tr><td>1982</td><td>-6.662</td><td>41</td></tr><tr><td>1983</td><td>-6.535</td><td>42</td></tr><tr><td>1984</td><td>-6.794</td><td>45</td></tr><tr><td>1985</td><td>-7.102</td><td>45</td></tr><tr><td>1986</td><td>-7.583</td><td>47</td></tr><tr><td>1987</td><td>-7.487</td><td>46</td></tr><tr><td>1988</td><td>-7.561</td><td>47</td></tr><tr><td>1989</td><td>-7.789</td><td>51</td></tr><tr><td>1990</td><td>-8.274</td><td>54</td></tr><tr><td>1991</td><td>-8.777</td><td>55</td></tr><tr><td>1992</td><td>-8.893</td><td>60</td></tr><tr><td>1993</td><td>-9.026</td><td>61</td></tr><tr><td>1994</td><td>-9.557</td><td>60</td></tr><tr><td>1995</td><td>-10.016</td><td>59</td></tr><tr><td>1996</td><td>-10.489</td><td>59</td></tr><tr><td>1997</td><td>-11.13</td><td>59</td></tr><tr><td>1998</td><td>-11.852</td><td>59</td></tr><tr><td>1999</td><td>-12.551</td><td>57</td></tr></tbody></table></div>"
      ]
     },
     "metadata": {
      "application/vnd.databricks.v1+output": {
       "addedWidgets": {},
       "aggData": [],
       "aggError": "",
       "aggOverflow": false,
       "aggSchema": [],
       "aggSeriesLimitReached": false,
       "aggType": "",
       "arguments": {},
       "columnCustomDisplayInfos": {},
       "data": [
        [
         "1956",
         "0",
         null
        ],
        [
         "1957",
         "-0.094",
         "12"
        ],
        [
         "1958",
         "-0.963",
         "12"
        ],
        [
         "1959",
         "-1.431",
         "13"
        ],
        [
         "1960",
         "-2.008",
         "15"
        ],
        [
         "1961",
         "-2.445",
         "16"
        ],
        [
         "1962",
         "-2.648",
         "20"
        ],
        [
         "1963",
         "-3",
         "23"
        ],
        [
         "1964",
         "-2.682",
         "23"
        ],
        [
         "1965",
         "-2.524",
         "25"
        ],
        [
         "1966",
         "-2.75",
         "28"
        ],
        [
         "1967",
         "-2.869",
         "30"
        ],
        [
         "1968",
         "-2.939",
         "33"
        ],
        [
         "1969",
         "-3.428",
         "34"
        ],
        [
         "1970",
         "-3.715",
         "35"
        ],
        [
         "1971",
         "-3.946",
         "35"
        ],
        [
         "1972",
         "-4.225",
         "35"
        ],
        [
         "1973",
         "-4.402",
         "35"
        ],
        [
         "1974",
         "-4.589",
         "35"
        ],
        [
         "1975",
         "-4.815",
         "36"
        ],
        [
         "1976",
         "-4.998",
         "38"
        ],
        [
         "1977",
         "-5.255",
         "39"
        ],
        [
         "1978",
         "-5.443",
         "39"
        ],
        [
         "1979",
         "-5.86",
         "39"
        ],
        [
         "1980",
         "-5.983",
         "40"
        ],
        [
         "1981",
         "-6.174",
         "39"
        ],
        [
         "1982",
         "-6.662",
         "41"
        ],
        [
         "1983",
         "-6.535",
         "42"
        ],
        [
         "1984",
         "-6.794",
         "45"
        ],
        [
         "1985",
         "-7.102",
         "45"
        ],
        [
         "1986",
         "-7.583",
         "47"
        ],
        [
         "1987",
         "-7.487",
         "46"
        ],
        [
         "1988",
         "-7.561",
         "47"
        ],
        [
         "1989",
         "-7.789",
         "51"
        ],
        [
         "1990",
         "-8.274",
         "54"
        ],
        [
         "1991",
         "-8.777",
         "55"
        ],
        [
         "1992",
         "-8.893",
         "60"
        ],
        [
         "1993",
         "-9.026",
         "61"
        ],
        [
         "1994",
         "-9.557",
         "60"
        ],
        [
         "1995",
         "-10.016",
         "59"
        ],
        [
         "1996",
         "-10.489",
         "59"
        ],
        [
         "1997",
         "-11.13",
         "59"
        ],
        [
         "1998",
         "-11.852",
         "59"
        ],
        [
         "1999",
         "-12.551",
         "57"
        ]
       ],
       "datasetInfos": [],
       "dbfsResultPath": null,
       "isJsonSchema": true,
       "metadata": {},
       "overflow": false,
       "plotOptions": {
        "customPlotOptions": {},
        "displayType": "table",
        "pivotAggregation": null,
        "pivotColumns": null,
        "xColumns": null,
        "yColumns": null
       },
       "removedWidgets": [],
       "schema": [
        {
         "metadata": "{}",
         "name": "Year",
         "type": "\"string\""
        },
        {
         "metadata": "{}",
         "name": "Mean cumulative mass balance",
         "type": "\"string\""
        },
        {
         "metadata": "{}",
         "name": "Number of observations",
         "type": "\"string\""
        }
       ],
       "type": "table"
      }
     },
     "output_type": "display_data"
    }
   ],
   "source": [
    "display(nintys_df)"
   ]
  },
  {
   "cell_type": "code",
   "execution_count": 0,
   "metadata": {
    "application/vnd.databricks.v1+cell": {
     "cellMetadata": {
      "byteLimit": 2048000,
      "rowLimit": 10000
     },
     "inputWidgets": {},
     "nuid": "be9d586b-d7d7-4723-830d-cd4054cffc2e",
     "showTitle": false,
     "tableResultSettingsMap": {},
     "title": ""
    }
   },
   "outputs": [
    {
     "output_type": "stream",
     "name": "stdout",
     "output_type": "stream",
     "text": [
      "\u001B[0;31mSignature:\u001B[0m \u001B[0;32mdef\u001B[0m \u001B[0mtake\u001B[0m\u001B[0;34m(\u001B[0m\u001B[0mnum\u001B[0m\u001B[0;34m:\u001B[0m \u001B[0mint\u001B[0m\u001B[0;34m)\u001B[0m \u001B[0;34m->\u001B[0m \u001B[0mList\u001B[0m\u001B[0;34m[\u001B[0m\u001B[0mRow\u001B[0m\u001B[0;34m]\u001B[0m\u001B[0;34m\u001B[0m\u001B[0;34m\u001B[0m\u001B[0m\n\u001B[0;31mSource:\u001B[0m   \n    \u001B[0;32mdef\u001B[0m \u001B[0mtake\u001B[0m\u001B[0;34m(\u001B[0m\u001B[0mself\u001B[0m\u001B[0;34m,\u001B[0m \u001B[0mnum\u001B[0m\u001B[0;34m:\u001B[0m \u001B[0mint\u001B[0m\u001B[0;34m)\u001B[0m \u001B[0;34m->\u001B[0m \u001B[0mList\u001B[0m\u001B[0;34m[\u001B[0m\u001B[0mRow\u001B[0m\u001B[0;34m]\u001B[0m\u001B[0;34m:\u001B[0m\u001B[0;34m\u001B[0m\n\u001B[0;34m\u001B[0m        \u001B[0;34m\"\"\"Returns the first ``num`` rows as a :class:`list` of :class:`Row`.\u001B[0m\n\u001B[0;34m\u001B[0m\n\u001B[0;34m        .. versionadded:: 1.3.0\u001B[0m\n\u001B[0;34m\u001B[0m\n\u001B[0;34m        .. versionchanged:: 3.4.0\u001B[0m\n\u001B[0;34m            Support Spark Connect.\u001B[0m\n\u001B[0;34m\u001B[0m\n\u001B[0;34m        Parameters\u001B[0m\n\u001B[0;34m        ----------\u001B[0m\n\u001B[0;34m        num : int\u001B[0m\n\u001B[0;34m            Number of records to return. Will return this number of records\u001B[0m\n\u001B[0;34m            or all records if the DataFrame contains less than this number of records..\u001B[0m\n\u001B[0;34m\u001B[0m\n\u001B[0;34m        Returns\u001B[0m\n\u001B[0;34m        -------\u001B[0m\n\u001B[0;34m        list\u001B[0m\n\u001B[0;34m            List of rows\u001B[0m\n\u001B[0;34m\u001B[0m\n\u001B[0;34m        Examples\u001B[0m\n\u001B[0;34m        --------\u001B[0m\n\u001B[0;34m        >>> df = spark.createDataFrame(\u001B[0m\n\u001B[0;34m        ...     [(14, \"Tom\"), (23, \"Alice\"), (16, \"Bob\")], [\"age\", \"name\"])\u001B[0m\n\u001B[0;34m\u001B[0m\n\u001B[0;34m        Return the first 2 rows of the :class:`DataFrame`.\u001B[0m\n\u001B[0;34m\u001B[0m\n\u001B[0;34m        >>> df.take(2)\u001B[0m\n\u001B[0;34m        [Row(age=14, name='Tom'), Row(age=23, name='Alice')]\u001B[0m\n\u001B[0;34m        \"\"\"\u001B[0m\u001B[0;34m\u001B[0m\n\u001B[0;34m\u001B[0m        \u001B[0;32mreturn\u001B[0m \u001B[0mself\u001B[0m\u001B[0;34m.\u001B[0m\u001B[0mlimit\u001B[0m\u001B[0;34m(\u001B[0m\u001B[0mnum\u001B[0m\u001B[0;34m)\u001B[0m\u001B[0;34m.\u001B[0m\u001B[0mcollect\u001B[0m\u001B[0;34m(\u001B[0m\u001B[0;34m)\u001B[0m\u001B[0;34m\u001B[0m\u001B[0;34m\u001B[0m\u001B[0m\n\u001B[0;31mFile:\u001B[0m      /databricks/spark/python/pyspark/sql/dataframe.py\n\u001B[0;31mLine:\u001B[0m      1325\n\u001B[0;31mType:\u001B[0m      method\n"
     ]
    }
   ],
   "source": [
    "nintys_df.take??"
   ]
  },
  {
   "cell_type": "code",
   "execution_count": 0,
   "metadata": {
    "application/vnd.databricks.v1+cell": {
     "cellMetadata": {
      "byteLimit": 2048000,
      "rowLimit": 10000
     },
     "inputWidgets": {},
     "nuid": "fa3b5fc1-4541-404e-9028-4b4ae8d439c1",
     "showTitle": false,
     "tableResultSettingsMap": {},
     "title": ""
    }
   },
   "outputs": [
    {
     "output_type": "stream",
     "name": "stdout",
     "output_type": "stream",
     "text": [
      "\u001B[0;31mSignature:\u001B[0m \u001B[0mdisplay\u001B[0m\u001B[0;34m(\u001B[0m\u001B[0minput\u001B[0m\u001B[0;34m=\u001B[0m\u001B[0;32mNone\u001B[0m\u001B[0;34m,\u001B[0m \u001B[0;34m*\u001B[0m\u001B[0margs\u001B[0m\u001B[0;34m,\u001B[0m \u001B[0;34m**\u001B[0m\u001B[0mkwargs\u001B[0m\u001B[0;34m)\u001B[0m\u001B[0;34m\u001B[0m\u001B[0;34m\u001B[0m\u001B[0m\n\u001B[0;31mSource:\u001B[0m   \n    \u001B[0;32mdef\u001B[0m \u001B[0mdisplay\u001B[0m\u001B[0;34m(\u001B[0m\u001B[0mself\u001B[0m\u001B[0;34m,\u001B[0m \u001B[0minput\u001B[0m\u001B[0;34m=\u001B[0m\u001B[0;32mNone\u001B[0m\u001B[0;34m,\u001B[0m \u001B[0;34m*\u001B[0m\u001B[0margs\u001B[0m\u001B[0;34m,\u001B[0m \u001B[0;34m**\u001B[0m\u001B[0mkwargs\u001B[0m\u001B[0;34m)\u001B[0m\u001B[0;34m:\u001B[0m\u001B[0;34m\u001B[0m\n\u001B[0;34m\u001B[0m        \u001B[0;34m\"\"\"\u001B[0m\n\u001B[0;34m        Display plots or data.\u001B[0m\n\u001B[0;34m\u001B[0m\n\u001B[0;34m        Display plot:\u001B[0m\n\u001B[0;34m         - display() # no-op\u001B[0m\n\u001B[0;34m         - display(matplotlib.figure.Figure)\u001B[0m\n\u001B[0;34m\u001B[0m\n\u001B[0;34m        Display dataset:\u001B[0m\n\u001B[0;34m         - display(spark.DataFrame)\u001B[0m\n\u001B[0;34m         - display(list) # if list can be converted to DataFrame, e.g., list of named tuples\u001B[0m\n\u001B[0;34m         - display(pandas.DataFrame)\u001B[0m\n\u001B[0;34m         - display(koalas.DataFrame)\u001B[0m\n\u001B[0;34m         - display(pyspark.pandas.DataFrame)\u001B[0m\n\u001B[0;34m\u001B[0m\n\u001B[0;34m        Display any other value that has a _repr_html_() method\u001B[0m\n\u001B[0;34m\u001B[0m\n\u001B[0;34m        For Spark 2.0 and 2.1:\u001B[0m\n\u001B[0;34m         - display(DataFrame, streamName='optional', trigger=optional pyspark.sql.streaming.Trigger,\u001B[0m\n\u001B[0;34m                   checkpointLocation='optional')\u001B[0m\n\u001B[0;34m\u001B[0m\n\u001B[0;34m        For Spark 2.2+:\u001B[0m\n\u001B[0;34m         - display(DataFrame, streamName='optional', trigger=optional interval like '1 second',\u001B[0m\n\u001B[0;34m                   checkpointLocation='optional')\u001B[0m\n\u001B[0;34m        \"\"\"\u001B[0m\u001B[0;34m\u001B[0m\n\u001B[0;34m\u001B[0m\u001B[0;34m\u001B[0m\n\u001B[0;34m\u001B[0m        \u001B[0;32mif\u001B[0m \u001B[0minput\u001B[0m \u001B[0;32mis\u001B[0m \u001B[0;32mNone\u001B[0m\u001B[0;34m:\u001B[0m\u001B[0;34m\u001B[0m\n\u001B[0;34m\u001B[0m            \u001B[0;31m# no-op\u001B[0m\u001B[0;34m\u001B[0m\n\u001B[0;34m\u001B[0m            \u001B[0;32mpass\u001B[0m\u001B[0;34m\u001B[0m\n\u001B[0;34m\u001B[0m        \u001B[0;32melif\u001B[0m \u001B[0misinstance\u001B[0m\u001B[0;34m(\u001B[0m\u001B[0minput\u001B[0m\u001B[0;34m,\u001B[0m \u001B[0mDataFrame\u001B[0m\u001B[0;34m)\u001B[0m\u001B[0;34m:\u001B[0m\u001B[0;34m\u001B[0m\n\u001B[0;34m\u001B[0m            \u001B[0;32mif\u001B[0m \u001B[0mhasattr\u001B[0m\u001B[0;34m(\u001B[0m\u001B[0minput\u001B[0m\u001B[0;34m,\u001B[0m \u001B[0;34m\"isStreaming\"\u001B[0m\u001B[0;34m)\u001B[0m \u001B[0;32mand\u001B[0m \u001B[0minput\u001B[0m\u001B[0;34m.\u001B[0m\u001B[0misStreaming\u001B[0m\u001B[0;34m:\u001B[0m\u001B[0;34m\u001B[0m\n\u001B[0;34m\u001B[0m                \u001B[0mhandleStreamingDataFrame\u001B[0m\u001B[0;34m(\u001B[0m\u001B[0minput\u001B[0m\u001B[0;34m,\u001B[0m \u001B[0mself\u001B[0m\u001B[0;34m.\u001B[0m\u001B[0msc\u001B[0m\u001B[0;34m,\u001B[0m \u001B[0mself\u001B[0m\u001B[0;34m.\u001B[0m\u001B[0msqlContext\u001B[0m\u001B[0;34m,\u001B[0m \u001B[0mself\u001B[0m\u001B[0;34m.\u001B[0m\u001B[0mentry_point\u001B[0m\u001B[0;34m,\u001B[0m \u001B[0mkwargs\u001B[0m\u001B[0;34m)\u001B[0m\u001B[0;34m\u001B[0m\n\u001B[0;34m\u001B[0m            \u001B[0;32melse\u001B[0m\u001B[0;34m:\u001B[0m\u001B[0;34m\u001B[0m\n\u001B[0;34m\u001B[0m                \u001B[0;32mif\u001B[0m \u001B[0mkwargs\u001B[0m\u001B[0;34m.\u001B[0m\u001B[0mget\u001B[0m\u001B[0;34m(\u001B[0m\u001B[0;34m'streamName'\u001B[0m\u001B[0;34m)\u001B[0m\u001B[0;34m:\u001B[0m\u001B[0;34m\u001B[0m\n\u001B[0;34m\u001B[0m                    \u001B[0;32mraise\u001B[0m \u001B[0mException\u001B[0m\u001B[0;34m(\u001B[0m\u001B[0;34m'Stream names can only be set for streaming queries.'\u001B[0m\u001B[0;34m)\u001B[0m\u001B[0;34m\u001B[0m\n\u001B[0;34m\u001B[0m                \u001B[0;32mif\u001B[0m \u001B[0mkwargs\u001B[0m\u001B[0;34m.\u001B[0m\u001B[0mget\u001B[0m\u001B[0;34m(\u001B[0m\u001B[0;34m'trigger'\u001B[0m\u001B[0;34m)\u001B[0m\u001B[0;34m:\u001B[0m\u001B[0;34m\u001B[0m\n\u001B[0;34m\u001B[0m                    \u001B[0;32mraise\u001B[0m \u001B[0mException\u001B[0m\u001B[0;34m(\u001B[0m\u001B[0;34m'Triggers can only be set for streaming queries.'\u001B[0m\u001B[0;34m)\u001B[0m\u001B[0;34m\u001B[0m\n\u001B[0;34m\u001B[0m\u001B[0;34m\u001B[0m\n\u001B[0;34m\u001B[0m                \u001B[0mself\u001B[0m\u001B[0;34m.\u001B[0m\u001B[0madd_custom_display_data\u001B[0m\u001B[0;34m(\u001B[0m\u001B[0;34m\"table\"\u001B[0m\u001B[0;34m,\u001B[0m \u001B[0minput\u001B[0m\u001B[0;34m.\u001B[0m\u001B[0m_jdf\u001B[0m\u001B[0;34m)\u001B[0m\u001B[0;34m\u001B[0m\n\u001B[0;34m\u001B[0m\u001B[0;34m\u001B[0m\n\u001B[0;34m\u001B[0m        \u001B[0;32melif\u001B[0m \u001B[0misinstance\u001B[0m\u001B[0;34m(\u001B[0m\u001B[0minput\u001B[0m\u001B[0;34m,\u001B[0m \u001B[0mlist\u001B[0m\u001B[0;34m)\u001B[0m\u001B[0;34m:\u001B[0m\u001B[0;34m\u001B[0m\n\u001B[0;34m\u001B[0m            \u001B[0mself\u001B[0m\u001B[0;34m.\u001B[0m\u001B[0mdisplay\u001B[0m\u001B[0;34m(\u001B[0m\u001B[0mself\u001B[0m\u001B[0;34m.\u001B[0m\u001B[0msparkSession\u001B[0m\u001B[0;34m.\u001B[0m\u001B[0mcreateDataFrame\u001B[0m\u001B[0;34m(\u001B[0m\u001B[0minput\u001B[0m\u001B[0;34m)\u001B[0m\u001B[0;34m)\u001B[0m\u001B[0;34m\u001B[0m\n\u001B[0;34m\u001B[0m        \u001B[0;32melif\u001B[0m \u001B[0mtype\u001B[0m\u001B[0;34m(\u001B[0m\u001B[0minput\u001B[0m\u001B[0;34m)\u001B[0m\u001B[0;34m.\u001B[0m\u001B[0m__module__\u001B[0m \u001B[0;34m==\u001B[0m \u001B[0;34m'pandas.core.frame'\u001B[0m \u001B[0;32mand\u001B[0m \u001B[0mtype\u001B[0m\u001B[0;34m(\u001B[0m\u001B[0minput\u001B[0m\u001B[0;34m)\u001B[0m\u001B[0;34m.\u001B[0m\u001B[0m__name__\u001B[0m \u001B[0;34m==\u001B[0m \u001B[0;34m'DataFrame'\u001B[0m\u001B[0;34m:\u001B[0m\u001B[0;34m\u001B[0m\n\u001B[0;34m\u001B[0m            \u001B[0mself\u001B[0m\u001B[0;34m.\u001B[0m\u001B[0mdisplay\u001B[0m\u001B[0;34m(\u001B[0m\u001B[0mself\u001B[0m\u001B[0;34m.\u001B[0m\u001B[0msparkSession\u001B[0m\u001B[0;34m.\u001B[0m\u001B[0mcreateDataFrame\u001B[0m\u001B[0;34m(\u001B[0m\u001B[0minput\u001B[0m\u001B[0;34m)\u001B[0m\u001B[0;34m)\u001B[0m\u001B[0;34m\u001B[0m\n\u001B[0;34m\u001B[0m        \u001B[0;32melif\u001B[0m \u001B[0mtype\u001B[0m\u001B[0;34m(\u001B[0m\u001B[0minput\u001B[0m\u001B[0;34m)\u001B[0m\u001B[0;34m.\u001B[0m\u001B[0m__module__\u001B[0m \u001B[0;32min\u001B[0m \u001B[0;34m(\u001B[0m\u001B[0;34m'databricks.koalas.frame'\u001B[0m\u001B[0;34m,\u001B[0m \u001B[0;34m'pyspark.pandas.frame'\u001B[0m\u001B[0;34m)\u001B[0m \u001B[0;32mand\u001B[0m \\\n                \u001B[0mtype\u001B[0m\u001B[0;34m(\u001B[0m\u001B[0minput\u001B[0m\u001B[0;34m)\u001B[0m\u001B[0;34m.\u001B[0m\u001B[0m__name__\u001B[0m \u001B[0;34m==\u001B[0m \u001B[0;34m'DataFrame'\u001B[0m\u001B[0;34m:\u001B[0m\u001B[0;34m\u001B[0m\n\u001B[0;34m\u001B[0m            \u001B[0mindex_col\u001B[0m \u001B[0;34m=\u001B[0m \u001B[0mkwargs\u001B[0m\u001B[0;34m.\u001B[0m\u001B[0mget\u001B[0m\u001B[0;34m(\u001B[0m\u001B[0;34m'index_col'\u001B[0m\u001B[0;34m)\u001B[0m\u001B[0;34m\u001B[0m\n\u001B[0;34m\u001B[0m            \u001B[0mself\u001B[0m\u001B[0;34m.\u001B[0m\u001B[0mdisplay\u001B[0m\u001B[0;34m(\u001B[0m\u001B[0minput\u001B[0m\u001B[0;34m.\u001B[0m\u001B[0mto_spark\u001B[0m\u001B[0;34m(\u001B[0m\u001B[0mindex_col\u001B[0m\u001B[0;34m=\u001B[0m\u001B[0mindex_col\u001B[0m\u001B[0;34m)\u001B[0m\u001B[0;34m,\u001B[0m \u001B[0;34m*\u001B[0m\u001B[0margs\u001B[0m\u001B[0;34m,\u001B[0m \u001B[0;34m**\u001B[0m\u001B[0mkwargs\u001B[0m\u001B[0;34m)\u001B[0m\u001B[0;34m\u001B[0m\n\u001B[0;34m\u001B[0m        \u001B[0;32melif\u001B[0m \u001B[0mself\u001B[0m\u001B[0;34m.\u001B[0m\u001B[0mmlModelDisplayOn\u001B[0m \u001B[0;32mand\u001B[0m \u001B[0mtype\u001B[0m\u001B[0;34m(\u001B[0m\u001B[0minput\u001B[0m\u001B[0;34m)\u001B[0m\u001B[0;34m.\u001B[0m\u001B[0m__module__\u001B[0m\u001B[0;34m.\u001B[0m\u001B[0mstartswith\u001B[0m\u001B[0;34m(\u001B[0m\u001B[0;34m\"pyspark.ml\"\u001B[0m\u001B[0;34m)\u001B[0m\u001B[0;34m:\u001B[0m\u001B[0;34m\u001B[0m\n\u001B[0;34m\u001B[0m            \u001B[0;34m(\u001B[0m\u001B[0mmlModel\u001B[0m\u001B[0;34m,\u001B[0m \u001B[0mmlPlotType\u001B[0m\u001B[0;34m,\u001B[0m \u001B[0mdisplayRDD\u001B[0m\u001B[0;34m)\u001B[0m \u001B[0;34m=\u001B[0m \u001B[0mself\u001B[0m\u001B[0;34m.\u001B[0m\u001B[0mgetMlUtils\u001B[0m\u001B[0;34m(\u001B[0m\u001B[0;34m)\u001B[0m\u001B[0;34m.\u001B[0m\u001B[0mdisplay\u001B[0m\u001B[0;34m(\u001B[0m\u001B[0minput\u001B[0m\u001B[0;34m,\u001B[0m \u001B[0;34m*\u001B[0m\u001B[0margs\u001B[0m\u001B[0;34m,\u001B[0m \u001B[0;34m**\u001B[0m\u001B[0mkwargs\u001B[0m\u001B[0;34m)\u001B[0m\u001B[0;34m\u001B[0m\n\u001B[0;34m\u001B[0m            \u001B[0;32mif\u001B[0m \u001B[0mmlModel\u001B[0m\u001B[0;34m:\u001B[0m\u001B[0;34m\u001B[0m\n\u001B[0;34m\u001B[0m                \u001B[0mself\u001B[0m\u001B[0;34m.\u001B[0m\u001B[0madd_custom_display_data\u001B[0m\u001B[0;34m(\u001B[0m\u001B[0;34m\"mlModel\"\u001B[0m\u001B[0;34m,\u001B[0m \u001B[0;34m(\u001B[0m\u001B[0mmlModel\u001B[0m\u001B[0;34m,\u001B[0m \u001B[0mmlPlotType\u001B[0m\u001B[0;34m,\u001B[0m \u001B[0mdisplayRDD\u001B[0m\u001B[0;34m)\u001B[0m\u001B[0;34m)\u001B[0m\u001B[0;34m\u001B[0m\n\u001B[0;34m\u001B[0m            \u001B[0;32melse\u001B[0m\u001B[0;34m:\u001B[0m\u001B[0;34m\u001B[0m\n\u001B[0;34m\u001B[0m                \u001B[0;32mraise\u001B[0m \u001B[0mException\u001B[0m\u001B[0;34m(\u001B[0m\u001B[0;34m\"ML model display does not yet support model type {}.\"\u001B[0m\u001B[0;34m.\u001B[0m\u001B[0mformat\u001B[0m\u001B[0;34m(\u001B[0m\u001B[0;34m\u001B[0m\n\u001B[0;34m\u001B[0m                    \u001B[0mtype\u001B[0m\u001B[0;34m(\u001B[0m\u001B[0minput\u001B[0m\u001B[0;34m)\u001B[0m\u001B[0;34m)\u001B[0m\u001B[0;34m)\u001B[0m\u001B[0;34m\u001B[0m\n\u001B[0;34m\u001B[0m        \u001B[0;32melif\u001B[0m \u001B[0minput\u001B[0m \u001B[0;32mis\u001B[0m \u001B[0;32mnot\u001B[0m \u001B[0;32mNone\u001B[0m \u001B[0;32mand\u001B[0m \u001B[0;34m\"help\"\u001B[0m \u001B[0;32min\u001B[0m \u001B[0mdir\u001B[0m\u001B[0;34m(\u001B[0m\u001B[0minput\u001B[0m\u001B[0;34m)\u001B[0m\u001B[0;34m:\u001B[0m  \u001B[0;31m# Is this object documented DBC-style?\u001B[0m\u001B[0;34m\u001B[0m\n\u001B[0;34m\u001B[0m            \u001B[0minput\u001B[0m\u001B[0;34m.\u001B[0m\u001B[0mhelp\u001B[0m\u001B[0;34m(\u001B[0m\u001B[0;34m)\u001B[0m  \u001B[0;31m# This is going to display the help as a side-effect\u001B[0m\u001B[0;34m\u001B[0m\n\u001B[0;34m\u001B[0m        \u001B[0;32melse\u001B[0m\u001B[0;34m:\u001B[0m\u001B[0;34m\u001B[0m\n\u001B[0;34m\u001B[0m            \u001B[0mip_display\u001B[0m\u001B[0;34m(\u001B[0m\u001B[0minput\u001B[0m\u001B[0;34m,\u001B[0m \u001B[0;34m*\u001B[0m\u001B[0margs\u001B[0m\u001B[0;34m,\u001B[0m \u001B[0;34m**\u001B[0m\u001B[0mkwargs\u001B[0m\u001B[0;34m)\u001B[0m\u001B[0;34m\u001B[0m\u001B[0;34m\u001B[0m\u001B[0m\n\u001B[0;31mFile:\u001B[0m      /databricks/python_shell/dbruntime/display.py\n\u001B[0;31mLine:\u001B[0m      45\n\u001B[0;31mType:\u001B[0m      method\n"
     ]
    }
   ],
   "source": [
    "display??"
   ]
  },
  {
   "cell_type": "code",
   "execution_count": 0,
   "metadata": {
    "application/vnd.databricks.v1+cell": {
     "cellMetadata": {
      "byteLimit": 2048000,
      "rowLimit": 10000
     },
     "inputWidgets": {},
     "nuid": "49a33df4-fa99-48d5-a3a4-55189c13bca7",
     "showTitle": false,
     "tableResultSettingsMap": {},
     "title": ""
    }
   },
   "outputs": [
    {
     "output_type": "display_data",
     "data": {
      "text/html": [
       "<style scoped>\n",
       "  .table-result-container {\n",
       "    max-height: 300px;\n",
       "    overflow: auto;\n",
       "  }\n",
       "  table, th, td {\n",
       "    border: 1px solid black;\n",
       "    border-collapse: collapse;\n",
       "  }\n",
       "  th, td {\n",
       "    padding: 5px;\n",
       "  }\n",
       "  th {\n",
       "    text-align: left;\n",
       "  }\n",
       "</style><div class='table-result-container'><table class='table-result'><thead style='background-color: white'><tr><th>Year</th><th>Mean cumulative mass balance</th><th>Number of observations</th></tr></thead><tbody><tr><td>2000</td><td>-12.91</td><td>57</td></tr><tr><td>2001</td><td>-13.181</td><td>57</td></tr><tr><td>2002</td><td>-13.609</td><td>57</td></tr><tr><td>2003</td><td>-14.134</td><td>57</td></tr><tr><td>2004</td><td>-14.866</td><td>55</td></tr><tr><td>2005</td><td>-15.683</td><td>58</td></tr><tr><td>2006</td><td>-16.398</td><td>58</td></tr><tr><td>2007</td><td>-16.938</td><td>57</td></tr><tr><td>2008</td><td>-17.313</td><td>58</td></tr><tr><td>2009</td><td>-17.765</td><td>58</td></tr><tr><td>2010</td><td>-18.614</td><td>58</td></tr><tr><td>2011</td><td>-19.351</td><td>59</td></tr><tr><td>2012</td><td>-20.076</td><td>60</td></tr><tr><td>2013</td><td>-20.788</td><td>56</td></tr><tr><td>2014</td><td>-21.489</td><td>56</td></tr><tr><td>2015</td><td>-22.293</td><td>60</td></tr><tr><td>2016</td><td>-23.276</td><td>60</td></tr><tr><td>2017</td><td>-23.928</td><td>60</td></tr><tr><td>2018</td><td>-24.865</td><td>60</td></tr><tr><td>2019</td><td>-25.859</td><td>61</td></tr><tr><td>2020</td><td>-26.742</td><td>61</td></tr><tr><td>2021</td><td>-27.419</td><td>61</td></tr><tr><td>2022</td><td>-28.509</td><td>60</td></tr><tr><td>2023</td><td>-29.738</td><td>53</td></tr></tbody></table></div>"
      ]
     },
     "metadata": {
      "application/vnd.databricks.v1+output": {
       "addedWidgets": {},
       "aggData": [],
       "aggError": "",
       "aggOverflow": false,
       "aggSchema": [],
       "aggSeriesLimitReached": false,
       "aggType": "",
       "arguments": {},
       "columnCustomDisplayInfos": {},
       "data": [
        [
         "2000",
         "-12.91",
         "57"
        ],
        [
         "2001",
         "-13.181",
         "57"
        ],
        [
         "2002",
         "-13.609",
         "57"
        ],
        [
         "2003",
         "-14.134",
         "57"
        ],
        [
         "2004",
         "-14.866",
         "55"
        ],
        [
         "2005",
         "-15.683",
         "58"
        ],
        [
         "2006",
         "-16.398",
         "58"
        ],
        [
         "2007",
         "-16.938",
         "57"
        ],
        [
         "2008",
         "-17.313",
         "58"
        ],
        [
         "2009",
         "-17.765",
         "58"
        ],
        [
         "2010",
         "-18.614",
         "58"
        ],
        [
         "2011",
         "-19.351",
         "59"
        ],
        [
         "2012",
         "-20.076",
         "60"
        ],
        [
         "2013",
         "-20.788",
         "56"
        ],
        [
         "2014",
         "-21.489",
         "56"
        ],
        [
         "2015",
         "-22.293",
         "60"
        ],
        [
         "2016",
         "-23.276",
         "60"
        ],
        [
         "2017",
         "-23.928",
         "60"
        ],
        [
         "2018",
         "-24.865",
         "60"
        ],
        [
         "2019",
         "-25.859",
         "61"
        ],
        [
         "2020",
         "-26.742",
         "61"
        ],
        [
         "2021",
         "-27.419",
         "61"
        ],
        [
         "2022",
         "-28.509",
         "60"
        ],
        [
         "2023",
         "-29.738",
         "53"
        ]
       ],
       "datasetInfos": [],
       "dbfsResultPath": null,
       "isJsonSchema": true,
       "metadata": {},
       "overflow": false,
       "plotOptions": {
        "customPlotOptions": {},
        "displayType": "table",
        "pivotAggregation": null,
        "pivotColumns": null,
        "xColumns": null,
        "yColumns": null
       },
       "removedWidgets": [],
       "schema": [
        {
         "metadata": "{}",
         "name": "Year",
         "type": "\"string\""
        },
        {
         "metadata": "{}",
         "name": "Mean cumulative mass balance",
         "type": "\"string\""
        },
        {
         "metadata": "{}",
         "name": "Number of observations",
         "type": "\"string\""
        }
       ],
       "type": "table"
      }
     },
     "output_type": "display_data"
    }
   ],
   "source": [
    "display(modern_df)"
   ]
  },
  {
   "cell_type": "code",
   "execution_count": 0,
   "metadata": {
    "application/vnd.databricks.v1+cell": {
     "cellMetadata": {
      "byteLimit": 2048000,
      "rowLimit": 10000
     },
     "inputWidgets": {},
     "nuid": "2202138b-3980-4fe9-a088-3630147074b2",
     "showTitle": false,
     "tableResultSettingsMap": {},
     "title": ""
    }
   },
   "outputs": [],
   "source": [
    "nintys_file_namez = spark.sql(\"(select * from nintys order by Year ASC limit 1) union (select * from nintys order by Year DESC limit 1)\")\n",
    "modern_file_namez = spark.sql(\"(select * from modern order by Year ASC limit 1) union (select * from modern order by Year DESC limit 1)\")"
   ]
  },
  {
   "cell_type": "code",
   "execution_count": 0,
   "metadata": {
    "application/vnd.databricks.v1+cell": {
     "cellMetadata": {
      "byteLimit": 2048000,
      "rowLimit": 10000
     },
     "inputWidgets": {},
     "nuid": "82f1020a-bb30-45cd-b9fe-4fba7df2ea15",
     "showTitle": false,
     "tableResultSettingsMap": {},
     "title": ""
    }
   },
   "outputs": [
    {
     "output_type": "display_data",
     "data": {
      "text/html": [
       "<style scoped>\n",
       "  .table-result-container {\n",
       "    max-height: 300px;\n",
       "    overflow: auto;\n",
       "  }\n",
       "  table, th, td {\n",
       "    border: 1px solid black;\n",
       "    border-collapse: collapse;\n",
       "  }\n",
       "  th, td {\n",
       "    padding: 5px;\n",
       "  }\n",
       "  th {\n",
       "    text-align: left;\n",
       "  }\n",
       "</style><div class='table-result-container'><table class='table-result'><thead style='background-color: white'><tr><th>Year</th><th>Mean cumulative mass balance</th><th>Number of observations</th></tr></thead><tbody><tr><td>1956</td><td>0</td><td>null</td></tr><tr><td>1999</td><td>-12.551</td><td>57</td></tr></tbody></table></div>"
      ]
     },
     "metadata": {
      "application/vnd.databricks.v1+output": {
       "addedWidgets": {},
       "aggData": [],
       "aggError": "",
       "aggOverflow": false,
       "aggSchema": [],
       "aggSeriesLimitReached": false,
       "aggType": "",
       "arguments": {},
       "columnCustomDisplayInfos": {},
       "data": [
        [
         "1956",
         "0",
         null
        ],
        [
         "1999",
         "-12.551",
         "57"
        ]
       ],
       "datasetInfos": [],
       "dbfsResultPath": null,
       "isJsonSchema": true,
       "metadata": {},
       "overflow": false,
       "plotOptions": {
        "customPlotOptions": {},
        "displayType": "table",
        "pivotAggregation": null,
        "pivotColumns": null,
        "xColumns": null,
        "yColumns": null
       },
       "removedWidgets": [],
       "schema": [
        {
         "metadata": "{}",
         "name": "Year",
         "type": "\"string\""
        },
        {
         "metadata": "{}",
         "name": "Mean cumulative mass balance",
         "type": "\"string\""
        },
        {
         "metadata": "{}",
         "name": "Number of observations",
         "type": "\"string\""
        }
       ],
       "type": "table"
      }
     },
     "output_type": "display_data"
    }
   ],
   "source": [
    "display(nintys_file_namez)"
   ]
  },
  {
   "cell_type": "code",
   "execution_count": 0,
   "metadata": {
    "application/vnd.databricks.v1+cell": {
     "cellMetadata": {
      "byteLimit": 2048000,
      "rowLimit": 10000
     },
     "inputWidgets": {},
     "nuid": "2984b8ae-456c-46f9-be34-43425a7841b2",
     "showTitle": false,
     "tableResultSettingsMap": {},
     "title": ""
    }
   },
   "outputs": [
    {
     "output_type": "display_data",
     "data": {
      "text/html": [
       "<style scoped>\n",
       "  .table-result-container {\n",
       "    max-height: 300px;\n",
       "    overflow: auto;\n",
       "  }\n",
       "  table, th, td {\n",
       "    border: 1px solid black;\n",
       "    border-collapse: collapse;\n",
       "  }\n",
       "  th, td {\n",
       "    padding: 5px;\n",
       "  }\n",
       "  th {\n",
       "    text-align: left;\n",
       "  }\n",
       "</style><div class='table-result-container'><table class='table-result'><thead style='background-color: white'><tr><th>Year</th><th>Mean cumulative mass balance</th><th>Number of observations</th></tr></thead><tbody><tr><td>2000</td><td>-12.91</td><td>57</td></tr><tr><td>2023</td><td>-29.738</td><td>53</td></tr></tbody></table></div>"
      ]
     },
     "metadata": {
      "application/vnd.databricks.v1+output": {
       "addedWidgets": {},
       "aggData": [],
       "aggError": "",
       "aggOverflow": false,
       "aggSchema": [],
       "aggSeriesLimitReached": false,
       "aggType": "",
       "arguments": {},
       "columnCustomDisplayInfos": {},
       "data": [
        [
         "2000",
         "-12.91",
         "57"
        ],
        [
         "2023",
         "-29.738",
         "53"
        ]
       ],
       "datasetInfos": [],
       "dbfsResultPath": null,
       "isJsonSchema": true,
       "metadata": {},
       "overflow": false,
       "plotOptions": {
        "customPlotOptions": {},
        "displayType": "table",
        "pivotAggregation": null,
        "pivotColumns": null,
        "xColumns": null,
        "yColumns": null
       },
       "removedWidgets": [],
       "schema": [
        {
         "metadata": "{}",
         "name": "Year",
         "type": "\"string\""
        },
        {
         "metadata": "{}",
         "name": "Mean cumulative mass balance",
         "type": "\"string\""
        },
        {
         "metadata": "{}",
         "name": "Number of observations",
         "type": "\"string\""
        }
       ],
       "type": "table"
      }
     },
     "output_type": "display_data"
    }
   ],
   "source": [
    "display(modern_file_namez)"
   ]
  },
  {
   "cell_type": "code",
   "execution_count": 0,
   "metadata": {
    "application/vnd.databricks.v1+cell": {
     "cellMetadata": {
      "byteLimit": 2048000,
      "rowLimit": 10000
     },
     "inputWidgets": {},
     "nuid": "8b689e16-4777-4a05-8cab-cadb808524d5",
     "showTitle": false,
     "tableResultSettingsMap": {},
     "title": ""
    }
   },
   "outputs": [],
   "source": [
    "modern_file_namez_df = modern_file_namez.collect()"
   ]
  },
  {
   "cell_type": "code",
   "execution_count": 0,
   "metadata": {
    "application/vnd.databricks.v1+cell": {
     "cellMetadata": {
      "byteLimit": 2048000,
      "rowLimit": 10000
     },
     "inputWidgets": {},
     "nuid": "824f306b-bb2e-4feb-8ae7-87484b165773",
     "showTitle": false,
     "tableResultSettingsMap": {},
     "title": ""
    }
   },
   "outputs": [
    {
     "output_type": "stream",
     "name": "stdout",
     "output_type": "stream",
     "text": [
      "Out[54]: '2000-2023'"
     ]
    }
   ],
   "source": [
    "modern_file_namez_df[0].__getitem__('Year') + \"-\" + modern_file_namez_df[1].__getitem__('Year')"
   ]
  },
  {
   "cell_type": "code",
   "execution_count": 0,
   "metadata": {
    "application/vnd.databricks.v1+cell": {
     "cellMetadata": {
      "byteLimit": 2048000,
      "rowLimit": 10000
     },
     "inputWidgets": {},
     "nuid": "740490f9-d3d8-4def-b02d-f0f9890587ff",
     "showTitle": false,
     "tableResultSettingsMap": {},
     "title": ""
    }
   },
   "outputs": [],
   "source": [
    "def create_file_names():\n",
    "  nintys_file_namez = spark.sql(\"(select * from nintys order by Year ASC limit 1) union (select * from nintys order by Year DESC limit 1)\")\n",
    "  modern_file_namez = spark.sql(\"(select * from modern order by Year ASC limit 1) union (select * from modern order by Year DESC limit 1)\")\n",
    "  nintys_file_namez_df = nintys_file_namez.collect()\n",
    "  modern_file_namez_df = modern_file_namez.collect()\n",
    "  nintys_file_name = nintys_file_namez_df[0].__getitem__('Year') + \"-\" + nintys_file_namez_df[1].__getitem__('Year') \n",
    "  modern_file_name = modern_file_namez_df[0].__getitem__('Year') + \"-\" + modern_file_namez_df[1].__getitem__('Year') \n",
    "  return nintys_file_name, modern_file_name"
   ]
  },
  {
   "cell_type": "code",
   "execution_count": 0,
   "metadata": {
    "application/vnd.databricks.v1+cell": {
     "cellMetadata": {
      "byteLimit": 2048000,
      "rowLimit": 10000
     },
     "inputWidgets": {},
     "nuid": "c8fd14ba-3fc6-4062-af7e-064e2b87ccae",
     "showTitle": false,
     "tableResultSettingsMap": {},
     "title": ""
    }
   },
   "outputs": [],
   "source": [
    "m,n = create_file_names()"
   ]
  },
  {
   "cell_type": "code",
   "execution_count": 0,
   "metadata": {
    "application/vnd.databricks.v1+cell": {
     "cellMetadata": {
      "byteLimit": 2048000,
      "rowLimit": 10000
     },
     "inputWidgets": {},
     "nuid": "359a8d83-a660-4e33-bde2-25c67b47d4fd",
     "showTitle": false,
     "tableResultSettingsMap": {},
     "title": ""
    }
   },
   "outputs": [
    {
     "output_type": "stream",
     "name": "stdout",
     "output_type": "stream",
     "text": [
      "1956-1999 2000-2023\n"
     ]
    }
   ],
   "source": [
    "print(m, n)"
   ]
  },
  {
   "cell_type": "code",
   "execution_count": 0,
   "metadata": {
    "application/vnd.databricks.v1+cell": {
     "cellMetadata": {
      "byteLimit": 2048000,
      "rowLimit": 10000
     },
     "inputWidgets": {},
     "nuid": "137c9970-bc05-4447-8cab-6f7d309c1a71",
     "showTitle": false,
     "tableResultSettingsMap": {},
     "title": ""
    }
   },
   "outputs": [],
   "source": [
    "nintys_df.write.format('parquet').save(\"/dbfs/nintys_df1.parquet\")"
   ]
  },
  {
   "cell_type": "code",
   "execution_count": 0,
   "metadata": {
    "application/vnd.databricks.v1+cell": {
     "cellMetadata": {
      "byteLimit": 2048000,
      "rowLimit": 10000
     },
     "inputWidgets": {},
     "nuid": "3e59052a-374b-49ca-b0e0-73c541701750",
     "showTitle": false,
     "tableResultSettingsMap": {},
     "title": ""
    }
   },
   "outputs": [],
   "source": [
    "def write_df(file_type: str,dfs, file_names):\n",
    "  for x,y in zip(dfs,file_names):\n",
    "    m = x.write.format(file_type).save(\"/dbfs/{}.{}\".format(y, file_type))\n",
    "  return m \n",
    "  "
   ]
  },
  {
   "cell_type": "markdown",
   "metadata": {
    "application/vnd.databricks.v1+cell": {
     "cellMetadata": {},
     "inputWidgets": {},
     "nuid": "db952bec-4533-4eac-93da-bf8107013da1",
     "showTitle": false,
     "tableResultSettingsMap": {},
     "title": ""
    }
   },
   "source": [
    "As the below files were already existing, so deleting these files first and running the command again"
   ]
  },
  {
   "cell_type": "code",
   "execution_count": 0,
   "metadata": {
    "application/vnd.databricks.v1+cell": {
     "cellMetadata": {
      "byteLimit": 2048000,
      "rowLimit": 10000
     },
     "inputWidgets": {},
     "nuid": "c70aef93-2086-4e58-8031-da1d0def57b0",
     "showTitle": false,
     "tableResultSettingsMap": {},
     "title": ""
    }
   },
   "outputs": [
    {
     "output_type": "stream",
     "name": "stdout",
     "output_type": "stream",
     "text": [
      "Out[64]: True"
     ]
    }
   ],
   "source": [
    "dbutils.fs.rm(\"dbfs:/dbfs/1956-1999.parquet\", recurse=True)\n",
    "dbutils.fs.rm(\"dbfs:/dbfs/2000-2023.parquet\", recurse=True)"
   ]
  },
  {
   "cell_type": "code",
   "execution_count": 0,
   "metadata": {
    "application/vnd.databricks.v1+cell": {
     "cellMetadata": {
      "byteLimit": 2048000,
      "rowLimit": 10000
     },
     "inputWidgets": {},
     "nuid": "6f31125b-2838-40c7-844d-4996722bb532",
     "showTitle": false,
     "tableResultSettingsMap": {},
     "title": ""
    }
   },
   "outputs": [],
   "source": [
    "write_df(\"parquet\",[x, y],[m, n])"
   ]
  },
  {
   "cell_type": "code",
   "execution_count": 0,
   "metadata": {
    "application/vnd.databricks.v1+cell": {
     "cellMetadata": {
      "byteLimit": 2048000,
      "rowLimit": 10000
     },
     "inputWidgets": {},
     "nuid": "a1789c3a-a261-444f-9605-71dbdea90334",
     "showTitle": false,
     "tableResultSettingsMap": {},
     "title": ""
    }
   },
   "outputs": [
    {
     "output_type": "display_data",
     "data": {
      "text/plain": [
       ""
      ]
     },
     "metadata": {
      "application/vnd.databricks.v1+output": {
       "arguments": {},
       "data": "",
       "errorSummary": "Command skipped",
       "errorTraceType": "ansi",
       "metadata": {},
       "type": "ipynbError"
      }
     },
     "output_type": "display_data"
    }
   ],
   "source": [
    "dbutils.fs.ls('/dbfs/')"
   ]
  }
 ],
 "metadata": {
  "application/vnd.databricks.v1+notebook": {
   "computePreferences": null,
   "dashboards": [],
   "environmentMetadata": {
    "base_environment": "",
    "environment_version": "1"
   },
   "inputWidgetPreferences": null,
   "language": "python",
   "notebookMetadata": {
    "mostRecentlyExecutedCommandWithImplicitDF": {
     "commandId": 321294914038452,
     "dataframes": [
      "_sqldf"
     ]
    },
    "pythonIndentUnit": 4
   },
   "notebookName": "Glacier_ETL",
   "widgets": {}
  }
 },
 "nbformat": 4,
 "nbformat_minor": 0
}