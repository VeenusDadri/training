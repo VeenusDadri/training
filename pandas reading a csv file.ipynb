{
 "cells": [
  {
   "cell_type": "code",
   "execution_count": 1,
   "id": "07ca8fda",
   "metadata": {},
   "outputs": [
    {
     "name": "stdout",
     "output_type": "stream",
     "text": [
      "  Student_ID First_Name Last_Name                    Email  Gender  Age  \\\n",
      "0      S1000       Omar  Williams  student0@university.com  Female   22   \n",
      "1      S1001      Maria     Brown  student1@university.com    Male   18   \n",
      "2      S1002      Ahmed     Jones  student2@university.com    Male   24   \n",
      "3      S1003       Omar  Williams  student3@university.com  Female   24   \n",
      "4      S1004       John     Smith  student4@university.com  Female   23   \n",
      "5      S1005       Liam     Brown  student5@university.com    Male   21   \n",
      "6      S1006      Ahmed     Jones  student6@university.com    Male   24   \n",
      "\n",
      "    Department  Attendance (%)  Midterm_Score  Final_Score  ...  \\\n",
      "0  Engineering           52.29          55.03        57.82  ...   \n",
      "1  Engineering           97.27          97.23        45.80  ...   \n",
      "2     Business           57.19          67.05        93.68  ...   \n",
      "3  Mathematics           95.15          47.79        80.63  ...   \n",
      "4           CS           54.18          46.59        78.89  ...   \n",
      "5  Engineering             NaN          78.85        43.53  ...   \n",
      "6     Business           57.60          66.26        89.07  ...   \n",
      "\n",
      "   Projects_Score  Total_Score  Grade  Study_Hours_per_Week  \\\n",
      "0           85.90        56.09      F                   6.2   \n",
      "1           55.65        50.64      A                  19.0   \n",
      "2           73.79        70.30      D                  20.7   \n",
      "3           92.12        61.63      A                  24.8   \n",
      "4           68.42        66.13      F                  15.4   \n",
      "5           67.29        62.08      B                   8.5   \n",
      "6           93.65        83.21      F                  21.3   \n",
      "\n",
      "   Extracurricular_Activities Internet_Access_at_Home  Parent_Education_Level  \\\n",
      "0                          No                     Yes             High School   \n",
      "1                          No                     Yes                     NaN   \n",
      "2                          No                     Yes                Master's   \n",
      "3                         Yes                     Yes             High School   \n",
      "4                         Yes                     Yes             High School   \n",
      "5                         Yes                     Yes                     PhD   \n",
      "6                          No                     Yes                     NaN   \n",
      "\n",
      "  Family_Income_Level Stress_Level (1-10) Sleep_Hours_per_Night  \n",
      "0              Medium                   5                   4.7  \n",
      "1              Medium                   4                   9.0  \n",
      "2                 Low                   6                   6.2  \n",
      "3                High                   3                   6.7  \n",
      "4                High                   2                   7.1  \n",
      "5                High                   1                   5.0  \n",
      "6                 Low                   5                   6.4  \n",
      "\n",
      "[7 rows x 23 columns]\n"
     ]
    }
   ],
   "source": [
    "import pandas as pd\n",
    "data=pd.read_csv(\"C:\\\\Users\\\\krish\\\\OneDrive\\\\Desktop\\\\python\\\\Students_Grading_Dataset.csv\")\n",
    "print(data.head(7))"
   ]
  },
  {
   "cell_type": "code",
   "execution_count": 2,
   "id": "7410166c",
   "metadata": {},
   "outputs": [
    {
     "name": "stdout",
     "output_type": "stream",
     "text": [
      "     name  age      city\n",
      "0  nadiya   25  new york\n",
      "1   bujji   20    london\n",
      "2  ayishu   35     paris\n"
     ]
    }
   ],
   "source": [
    "data={\n",
    "    \"name\":[\"nadiya\",\"bujji\",\"ayishu\"],\n",
    "    \"age\":[25,20,35],\n",
    "    \"city\":[\"new york\",\"london\",\"paris\"]\n",
    "}\n",
    "#create a dataframe\n",
    "df = pd.DataFrame(data)\n",
    "#Display the Dataframe\n",
    "print(df)"
   ]
  }
 ],
 "metadata": {
  "kernelspec": {
   "display_name": "Python 3",
   "language": "python",
   "name": "python3"
  },
  "language_info": {
   "codemirror_mode": {
    "name": "ipython",
    "version": 3
   },
   "file_extension": ".py",
   "mimetype": "text/x-python",
   "name": "python",
   "nbconvert_exporter": "python",
   "pygments_lexer": "ipython3",
   "version": "3.13.2"
  }
 },
 "nbformat": 4,
 "nbformat_minor": 5
}
